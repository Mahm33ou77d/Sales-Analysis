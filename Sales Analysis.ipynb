{
 "cells": [
  {
   "cell_type": "code",
   "execution_count": 63,
   "id": "08107deb",
   "metadata": {},
   "outputs": [],
   "source": [
    "# Laibraries Importation\n",
    "\n",
    "import pandas as pd\n",
    "import numpy as np\n",
    "import matplotlib.pyplot as plt\n",
    "import seaborn as sns\n",
    "import datetime as dt\n",
    "import plotly.express as px\n",
    "sns.set_style(\"whitegrid\")"
   ]
  },
  {
   "cell_type": "code",
   "execution_count": 2,
   "id": "a48f947e",
   "metadata": {},
   "outputs": [],
   "source": [
    "# Reading the Dataset\n",
    "Path = \"power bi.xlsx\"\n",
    "df = pd.read_excel(Path , sheet_name = \"Data\")"
   ]
  },
  {
   "cell_type": "markdown",
   "id": "465f0085",
   "metadata": {},
   "source": [
    "# EDA Which Stands for Exploratory Data Analysis"
   ]
  },
  {
   "cell_type": "code",
   "execution_count": 3,
   "id": "b5b5377c",
   "metadata": {},
   "outputs": [
    {
     "data": {
      "text/html": [
       "<div>\n",
       "<style scoped>\n",
       "    .dataframe tbody tr th:only-of-type {\n",
       "        vertical-align: middle;\n",
       "    }\n",
       "\n",
       "    .dataframe tbody tr th {\n",
       "        vertical-align: top;\n",
       "    }\n",
       "\n",
       "    .dataframe thead th {\n",
       "        text-align: right;\n",
       "    }\n",
       "</style>\n",
       "<table border=\"1\" class=\"dataframe\">\n",
       "  <thead>\n",
       "    <tr style=\"text-align: right;\">\n",
       "      <th></th>\n",
       "      <th>Year</th>\n",
       "      <th>Q</th>\n",
       "      <th>Month</th>\n",
       "      <th>Countries</th>\n",
       "      <th>Branch</th>\n",
       "      <th>Product Category</th>\n",
       "      <th>Product Sub Category</th>\n",
       "      <th>Brand</th>\n",
       "      <th>Qty</th>\n",
       "      <th>COGS per unit</th>\n",
       "      <th>Total Cogs</th>\n",
       "      <th>Unit Price</th>\n",
       "      <th>Sales</th>\n",
       "    </tr>\n",
       "  </thead>\n",
       "  <tbody>\n",
       "    <tr>\n",
       "      <th>0</th>\n",
       "      <td>2019</td>\n",
       "      <td>Q2</td>\n",
       "      <td>Apr</td>\n",
       "      <td>USA</td>\n",
       "      <td>Class C</td>\n",
       "      <td>Accessories</td>\n",
       "      <td>Fast Charger</td>\n",
       "      <td>Apple</td>\n",
       "      <td>700</td>\n",
       "      <td>450.0</td>\n",
       "      <td>315000.0</td>\n",
       "      <td>500</td>\n",
       "      <td>350000</td>\n",
       "    </tr>\n",
       "    <tr>\n",
       "      <th>1</th>\n",
       "      <td>2019</td>\n",
       "      <td>Q2</td>\n",
       "      <td>May</td>\n",
       "      <td>USA</td>\n",
       "      <td>Class C</td>\n",
       "      <td>Accessories</td>\n",
       "      <td>Fast Charger</td>\n",
       "      <td>Apple</td>\n",
       "      <td>900</td>\n",
       "      <td>450.0</td>\n",
       "      <td>405000.0</td>\n",
       "      <td>500</td>\n",
       "      <td>450000</td>\n",
       "    </tr>\n",
       "    <tr>\n",
       "      <th>2</th>\n",
       "      <td>2019</td>\n",
       "      <td>Q2</td>\n",
       "      <td>May</td>\n",
       "      <td>Canada</td>\n",
       "      <td>Class C</td>\n",
       "      <td>Accessories</td>\n",
       "      <td>Fast Charger</td>\n",
       "      <td>Apple</td>\n",
       "      <td>700</td>\n",
       "      <td>450.0</td>\n",
       "      <td>315000.0</td>\n",
       "      <td>500</td>\n",
       "      <td>350000</td>\n",
       "    </tr>\n",
       "    <tr>\n",
       "      <th>3</th>\n",
       "      <td>2019</td>\n",
       "      <td>Q2</td>\n",
       "      <td>Jun</td>\n",
       "      <td>USA</td>\n",
       "      <td>Class C</td>\n",
       "      <td>Accessories</td>\n",
       "      <td>Fast Charger</td>\n",
       "      <td>Apple</td>\n",
       "      <td>900</td>\n",
       "      <td>450.0</td>\n",
       "      <td>405000.0</td>\n",
       "      <td>500</td>\n",
       "      <td>450000</td>\n",
       "    </tr>\n",
       "    <tr>\n",
       "      <th>4</th>\n",
       "      <td>2019</td>\n",
       "      <td>Q2</td>\n",
       "      <td>Jun</td>\n",
       "      <td>Brazil</td>\n",
       "      <td>Class B</td>\n",
       "      <td>Accessories</td>\n",
       "      <td>Fast Charger</td>\n",
       "      <td>Apple</td>\n",
       "      <td>700</td>\n",
       "      <td>450.0</td>\n",
       "      <td>315000.0</td>\n",
       "      <td>500</td>\n",
       "      <td>350000</td>\n",
       "    </tr>\n",
       "  </tbody>\n",
       "</table>\n",
       "</div>"
      ],
      "text/plain": [
       "   Year   Q Month Countries   Branch Product Category Product Sub Category  \\\n",
       "0  2019  Q2   Apr       USA  Class C      Accessories         Fast Charger   \n",
       "1  2019  Q2   May       USA  Class C      Accessories         Fast Charger   \n",
       "2  2019  Q2   May    Canada  Class C      Accessories         Fast Charger   \n",
       "3  2019  Q2   Jun       USA  Class C      Accessories         Fast Charger   \n",
       "4  2019  Q2   Jun    Brazil  Class B      Accessories         Fast Charger   \n",
       "\n",
       "   Brand  Qty  COGS per unit  Total Cogs  Unit Price   Sales  \n",
       "0  Apple  700          450.0    315000.0         500  350000  \n",
       "1  Apple  900          450.0    405000.0         500  450000  \n",
       "2  Apple  700          450.0    315000.0         500  350000  \n",
       "3  Apple  900          450.0    405000.0         500  450000  \n",
       "4  Apple  700          450.0    315000.0         500  350000  "
      ]
     },
     "execution_count": 3,
     "metadata": {},
     "output_type": "execute_result"
    }
   ],
   "source": [
    "df.head()"
   ]
  },
  {
   "cell_type": "code",
   "execution_count": 4,
   "id": "75ca4a71",
   "metadata": {},
   "outputs": [
    {
     "data": {
      "text/plain": [
       "(368, 13)"
      ]
     },
     "execution_count": 4,
     "metadata": {},
     "output_type": "execute_result"
    }
   ],
   "source": [
    "df.shape"
   ]
  },
  {
   "cell_type": "code",
   "execution_count": 5,
   "id": "0eac2399",
   "metadata": {},
   "outputs": [
    {
     "name": "stdout",
     "output_type": "stream",
     "text": [
      "<class 'pandas.core.frame.DataFrame'>\n",
      "RangeIndex: 368 entries, 0 to 367\n",
      "Data columns (total 13 columns):\n",
      " #   Column                Non-Null Count  Dtype  \n",
      "---  ------                --------------  -----  \n",
      " 0   Year                  368 non-null    int64  \n",
      " 1   Q                     368 non-null    object \n",
      " 2   Month                 368 non-null    object \n",
      " 3   Countries             368 non-null    object \n",
      " 4   Branch                368 non-null    object \n",
      " 5   Product Category      368 non-null    object \n",
      " 6   Product Sub Category  368 non-null    object \n",
      " 7   Brand                 368 non-null    object \n",
      " 8   Qty                   368 non-null    int64  \n",
      " 9   COGS per unit         368 non-null    float64\n",
      " 10  Total Cogs            368 non-null    float64\n",
      " 11  Unit Price            368 non-null    int64  \n",
      " 12  Sales                 368 non-null    int64  \n",
      "dtypes: float64(2), int64(4), object(7)\n",
      "memory usage: 37.5+ KB\n"
     ]
    }
   ],
   "source": [
    "df.info()"
   ]
  },
  {
   "cell_type": "code",
   "execution_count": 6,
   "id": "1ffb1670",
   "metadata": {},
   "outputs": [
    {
     "data": {
      "text/plain": [
       "Year                    0\n",
       "Q                       0\n",
       "Month                   0\n",
       "Countries               0\n",
       "Branch                  0\n",
       "Product Category        0\n",
       "Product Sub Category    0\n",
       "Brand                   0\n",
       "Qty                     0\n",
       "COGS per unit           0\n",
       "Total Cogs              0\n",
       "Unit Price              0\n",
       "Sales                   0\n",
       "dtype: int64"
      ]
     },
     "execution_count": 6,
     "metadata": {},
     "output_type": "execute_result"
    }
   ],
   "source": [
    "# Checking for Null or Missing Values inside of our Dataset\n",
    "df.isna().sum()"
   ]
  },
  {
   "cell_type": "code",
   "execution_count": 7,
   "id": "32710aca",
   "metadata": {},
   "outputs": [
    {
     "data": {
      "text/plain": [
       "Year                    0\n",
       "Q                       0\n",
       "Month                   0\n",
       "Countries               0\n",
       "Branch                  0\n",
       "Product Category        0\n",
       "Product Sub Category    0\n",
       "Brand                   0\n",
       "Qty                     0\n",
       "COGS per unit           0\n",
       "Total Cogs              0\n",
       "Unit Price              0\n",
       "Sales                   0\n",
       "dtype: int64"
      ]
     },
     "execution_count": 7,
     "metadata": {},
     "output_type": "execute_result"
    }
   ],
   "source": [
    "# Investigating if We have Null Values\n",
    "df.isnull().sum()"
   ]
  },
  {
   "cell_type": "code",
   "execution_count": 8,
   "id": "1bab2a9d",
   "metadata": {},
   "outputs": [
    {
     "name": "stdout",
     "output_type": "stream",
     "text": [
      "21\n",
      "===============================================\n",
      "we need to Validate the Duplicates in our Dataset & Take the Corrective Actions\n"
     ]
    }
   ],
   "source": [
    "# Duplication Detection\n",
    "print(df.duplicated().sum())\n",
    "print(\"===============================================\")\n",
    "print(\"we need to Validate the Duplicates in our Dataset & Take the Corrective Actions\")"
   ]
  },
  {
   "cell_type": "code",
   "execution_count": 9,
   "id": "1d8fbb68",
   "metadata": {},
   "outputs": [
    {
     "data": {
      "text/plain": [
       "Year                      int64\n",
       "Q                        object\n",
       "Month                    object\n",
       "Countries                object\n",
       "Branch                   object\n",
       "Product Category         object\n",
       "Product Sub Category     object\n",
       "Brand                    object\n",
       "Qty                       int64\n",
       "COGS per unit           float64\n",
       "Total Cogs              float64\n",
       "Unit Price                int64\n",
       "Sales                     int64\n",
       "dtype: object"
      ]
     },
     "execution_count": 9,
     "metadata": {},
     "output_type": "execute_result"
    }
   ],
   "source": [
    "df.dtypes"
   ]
  },
  {
   "cell_type": "code",
   "execution_count": 10,
   "id": "244267bf",
   "metadata": {},
   "outputs": [
    {
     "data": {
      "text/plain": [
       "Index(['Year', 'Q', 'Month', 'Countries', 'Branch', 'Product Category',\n",
       "       'Product Sub Category', 'Brand', 'Qty', 'COGS per unit', 'Total Cogs',\n",
       "       'Unit Price', 'Sales'],\n",
       "      dtype='object')"
      ]
     },
     "execution_count": 10,
     "metadata": {},
     "output_type": "execute_result"
    }
   ],
   "source": [
    "df.columns"
   ]
  },
  {
   "cell_type": "code",
   "execution_count": 11,
   "id": "7246985e",
   "metadata": {},
   "outputs": [
    {
     "data": {
      "text/html": [
       "<div>\n",
       "<style scoped>\n",
       "    .dataframe tbody tr th:only-of-type {\n",
       "        vertical-align: middle;\n",
       "    }\n",
       "\n",
       "    .dataframe tbody tr th {\n",
       "        vertical-align: top;\n",
       "    }\n",
       "\n",
       "    .dataframe thead th {\n",
       "        text-align: right;\n",
       "    }\n",
       "</style>\n",
       "<table border=\"1\" class=\"dataframe\">\n",
       "  <thead>\n",
       "    <tr style=\"text-align: right;\">\n",
       "      <th></th>\n",
       "      <th>Year</th>\n",
       "      <th>Q</th>\n",
       "      <th>Month</th>\n",
       "      <th>Countries</th>\n",
       "      <th>Branch</th>\n",
       "      <th>Product Category</th>\n",
       "      <th>Product Sub Category</th>\n",
       "      <th>Brand</th>\n",
       "      <th>Qty</th>\n",
       "      <th>COGS per unit</th>\n",
       "      <th>Total Cogs</th>\n",
       "      <th>Unit Price</th>\n",
       "      <th>Sales</th>\n",
       "    </tr>\n",
       "  </thead>\n",
       "  <tbody>\n",
       "    <tr>\n",
       "      <th>0</th>\n",
       "      <td>2019</td>\n",
       "      <td>Q2</td>\n",
       "      <td>Apr</td>\n",
       "      <td>USA</td>\n",
       "      <td>Class C</td>\n",
       "      <td>Accessories</td>\n",
       "      <td>Fast Charger</td>\n",
       "      <td>Apple</td>\n",
       "      <td>700</td>\n",
       "      <td>450.0</td>\n",
       "      <td>315000.0</td>\n",
       "      <td>500</td>\n",
       "      <td>350000</td>\n",
       "    </tr>\n",
       "    <tr>\n",
       "      <th>1</th>\n",
       "      <td>2019</td>\n",
       "      <td>Q2</td>\n",
       "      <td>May</td>\n",
       "      <td>USA</td>\n",
       "      <td>Class C</td>\n",
       "      <td>Accessories</td>\n",
       "      <td>Fast Charger</td>\n",
       "      <td>Apple</td>\n",
       "      <td>900</td>\n",
       "      <td>450.0</td>\n",
       "      <td>405000.0</td>\n",
       "      <td>500</td>\n",
       "      <td>450000</td>\n",
       "    </tr>\n",
       "    <tr>\n",
       "      <th>2</th>\n",
       "      <td>2019</td>\n",
       "      <td>Q2</td>\n",
       "      <td>May</td>\n",
       "      <td>Canada</td>\n",
       "      <td>Class C</td>\n",
       "      <td>Accessories</td>\n",
       "      <td>Fast Charger</td>\n",
       "      <td>Apple</td>\n",
       "      <td>700</td>\n",
       "      <td>450.0</td>\n",
       "      <td>315000.0</td>\n",
       "      <td>500</td>\n",
       "      <td>350000</td>\n",
       "    </tr>\n",
       "    <tr>\n",
       "      <th>3</th>\n",
       "      <td>2019</td>\n",
       "      <td>Q2</td>\n",
       "      <td>Jun</td>\n",
       "      <td>USA</td>\n",
       "      <td>Class C</td>\n",
       "      <td>Accessories</td>\n",
       "      <td>Fast Charger</td>\n",
       "      <td>Apple</td>\n",
       "      <td>900</td>\n",
       "      <td>450.0</td>\n",
       "      <td>405000.0</td>\n",
       "      <td>500</td>\n",
       "      <td>450000</td>\n",
       "    </tr>\n",
       "    <tr>\n",
       "      <th>4</th>\n",
       "      <td>2019</td>\n",
       "      <td>Q2</td>\n",
       "      <td>Jun</td>\n",
       "      <td>Brazil</td>\n",
       "      <td>Class B</td>\n",
       "      <td>Accessories</td>\n",
       "      <td>Fast Charger</td>\n",
       "      <td>Apple</td>\n",
       "      <td>700</td>\n",
       "      <td>450.0</td>\n",
       "      <td>315000.0</td>\n",
       "      <td>500</td>\n",
       "      <td>350000</td>\n",
       "    </tr>\n",
       "  </tbody>\n",
       "</table>\n",
       "</div>"
      ],
      "text/plain": [
       "   Year   Q Month Countries   Branch Product Category Product Sub Category  \\\n",
       "0  2019  Q2   Apr       USA  Class C      Accessories         Fast Charger   \n",
       "1  2019  Q2   May       USA  Class C      Accessories         Fast Charger   \n",
       "2  2019  Q2   May    Canada  Class C      Accessories         Fast Charger   \n",
       "3  2019  Q2   Jun       USA  Class C      Accessories         Fast Charger   \n",
       "4  2019  Q2   Jun    Brazil  Class B      Accessories         Fast Charger   \n",
       "\n",
       "   Brand  Qty  COGS per unit  Total Cogs  Unit Price   Sales  \n",
       "0  Apple  700          450.0    315000.0         500  350000  \n",
       "1  Apple  900          450.0    405000.0         500  450000  \n",
       "2  Apple  700          450.0    315000.0         500  350000  \n",
       "3  Apple  900          450.0    405000.0         500  450000  \n",
       "4  Apple  700          450.0    315000.0         500  350000  "
      ]
     },
     "execution_count": 11,
     "metadata": {},
     "output_type": "execute_result"
    }
   ],
   "source": [
    "df.head()"
   ]
  },
  {
   "cell_type": "code",
   "execution_count": 12,
   "id": "af5e578a",
   "metadata": {},
   "outputs": [
    {
     "name": "stdout",
     "output_type": "stream",
     "text": [
      "2019    236\n",
      "2020    132\n",
      "Name: Year, dtype: int64\n",
      "===============================================\n",
      "We've large Sales Transactions in 2019 More than 2020, this indicates that our sales figures has decreased in 2020\n"
     ]
    }
   ],
   "source": [
    "## Performing Uni-Variate Analysis\n",
    "print(df[\"Year\"].value_counts())\n",
    "print(\"===============================================\")\n",
    "print(\"We've large Sales Transactions in 2019 More than 2020, this indicates that our sales figures has decreased in 2020\")"
   ]
  },
  {
   "cell_type": "code",
   "execution_count": 13,
   "id": "6569c6bb",
   "metadata": {},
   "outputs": [
    {
     "data": {
      "text/plain": [
       "array([2019, 2020], dtype=int64)"
      ]
     },
     "execution_count": 13,
     "metadata": {},
     "output_type": "execute_result"
    }
   ],
   "source": [
    "df[\"Year\"].unique()"
   ]
  },
  {
   "cell_type": "code",
   "execution_count": 14,
   "id": "0d7a3792",
   "metadata": {},
   "outputs": [
    {
     "data": {
      "text/plain": [
       "2"
      ]
     },
     "execution_count": 14,
     "metadata": {},
     "output_type": "execute_result"
    }
   ],
   "source": [
    "df[\"Year\"].nunique()"
   ]
  },
  {
   "cell_type": "code",
   "execution_count": 15,
   "id": "aaf7ebc4",
   "metadata": {},
   "outputs": [],
   "source": [
    "# Defining a Function to Automate Process & Time-Keeping\n",
    "\n",
    "def getdata(df , Column ):\n",
    "    \n",
    "    First = df[Column].unique()\n",
    "    Socend = df[Column].nunique()\n",
    "    Third = df[Column].value_counts()\n",
    "    print(First)\n",
    "    print(\"===============================================\")\n",
    "    print(Socend)\n",
    "    print(\"===============================================\")\n",
    "    print(Third)\n",
    "    print(\"===============================================\")\n",
    "    plt.figure(figsize = (10 , 5))\n",
    "    print(Third.plot.bar())\n",
    "    plt.xlabel(Column)\n",
    "    plt.ylabel(\"\\nFrequency\\n\")\n",
    "    plt.legend()\n",
    "    plt.xticks(rotation = 0.25)\n",
    "    plt.title(\"\\nFrequency of \" + Column + \"\\n\")\n",
    "    plt.grid(axis = \"y\" , alpha = 0.7)\n",
    "    plt.grid( axis = \"x\" , alpha = 0.7)\n",
    "    plt.show()"
   ]
  },
  {
   "cell_type": "code",
   "execution_count": 16,
   "id": "f4990bf8",
   "metadata": {},
   "outputs": [
    {
     "name": "stdout",
     "output_type": "stream",
     "text": [
      "[2019 2020]\n",
      "===============================================\n",
      "2\n",
      "===============================================\n",
      "2019    236\n",
      "2020    132\n",
      "Name: Year, dtype: int64\n",
      "===============================================\n",
      "AxesSubplot(0.125,0.11;0.775x0.77)\n"
     ]
    },
    {
     "data": {
      "image/png": "[encoded data removed]",
      "text/plain": [
       "<Figure size 1000x500 with 1 Axes>"
      ]
     },
     "metadata": {},
     "output_type": "display_data"
    },
    {
     "name": "stdout",
     "output_type": "stream",
     "text": [
      "===============================================\n",
      "We've large Sales Transactions in 2019 More than 2020, this indicates that our sales figures has decreased in 2020\n"
     ]
    }
   ],
   "source": [
    "getdata(df , \"Year\")\n",
    "print(\"===============================================\")\n",
    "print(\"We've large Sales Transactions in 2019 More than 2020, this indicates that our sales figures has decreased in 2020\")"
   ]
  },
  {
   "cell_type": "code",
   "execution_count": 17,
   "id": "6fbdccaf",
   "metadata": {},
   "outputs": [
    {
     "name": "stdout",
     "output_type": "stream",
     "text": [
      "['Q2' 'Q3' 'Q4' 'Q1']\n",
      "===============================================\n",
      "4\n",
      "===============================================\n",
      "Q4    123\n",
      "Q2     84\n",
      "Q1     83\n",
      "Q3     78\n",
      "Name: Q, dtype: int64\n",
      "===============================================\n",
      "AxesSubplot(0.125,0.11;0.775x0.77)\n"
     ]
    },
    {
     "data": {
      "image/png": "[encoded data removed]",
      "text/plain": [
       "<Figure size 1000x500 with 1 Axes>"
      ]
     },
     "metadata": {},
     "output_type": "display_data"
    },
    {
     "name": "stdout",
     "output_type": "stream",
     "text": [
      "===============================================\n",
      "I've Noticed that Q-4 has Generated the Highest Number of Sales Orders, This May Refer to Seasonality\n"
     ]
    }
   ],
   "source": [
    "getdata(df , \"Q\")\n",
    "print(\"===============================================\")\n",
    "print(\"I've Noticed that Q-4 has Generated the Highest Number of Sales Orders, This May Refer to Seasonality\")"
   ]
  },
  {
   "cell_type": "code",
   "execution_count": 18,
   "id": "3b529b27",
   "metadata": {},
   "outputs": [
    {
     "name": "stdout",
     "output_type": "stream",
     "text": [
      "['Apr' 'May' 'Jun' 'Jul' 'Aug' 'Sep' 'Oct' 'Nov' 'Dec' 'Jan' 'Feb' 'Mar']\n",
      "===============================================\n",
      "12\n",
      "===============================================\n",
      "Nov    59\n",
      "Oct    44\n",
      "Apr    33\n",
      "Feb    29\n",
      "Jun    28\n",
      "Aug    28\n",
      "Mar    28\n",
      "Sep    26\n",
      "Jan    26\n",
      "Jul    24\n",
      "May    23\n",
      "Dec    20\n",
      "Name: Month, dtype: int64\n",
      "===============================================\n",
      "AxesSubplot(0.125,0.11;0.775x0.77)\n"
     ]
    },
    {
     "data": {
      "image/png": "[encoded data removed]",
      "text/plain": [
       "<Figure size 1000x500 with 1 Axes>"
      ]
     },
     "metadata": {},
     "output_type": "display_data"
    },
    {
     "name": "stdout",
     "output_type": "stream",
     "text": [
      "===============================================\n",
      "Nov & Oct Has Made the largest Transactions but Dec has the lowest, then Nov & Oct Greatly Contribute to the Overall Sales\n"
     ]
    }
   ],
   "source": [
    "getdata(df , \"Month\")\n",
    "print(\"===============================================\")\n",
    "print(\"Nov & Oct Has Made the largest Transactions but Dec has the lowest, then Nov & Oct Greatly Contribute to the Overall Sales\")"
   ]
  },
  {
   "cell_type": "code",
   "execution_count": 19,
   "id": "e28cb743",
   "metadata": {},
   "outputs": [
    {
     "name": "stdout",
     "output_type": "stream",
     "text": [
      "['Class C' 'Class B' 'Class A']\n",
      "===============================================\n",
      "3\n",
      "===============================================\n",
      "Class C    224\n",
      "Class B    111\n",
      "Class A     33\n",
      "Name: Branch, dtype: int64\n",
      "===============================================\n",
      "AxesSubplot(0.125,0.11;0.775x0.77)\n"
     ]
    },
    {
     "data": {
      "image/png": "[encoded data removed]",
      "text/plain": [
       "<Figure size 1000x500 with 1 Axes>"
      ]
     },
     "metadata": {},
     "output_type": "display_data"
    },
    {
     "name": "stdout",
     "output_type": "stream",
     "text": [
      "===============================================\n",
      "Class A has the gratest Contribution to Our Overall Sales, Indicating the it's our Core Target\n"
     ]
    }
   ],
   "source": [
    "getdata( df , \"Branch\")\n",
    "print(\"===============================================\")\n",
    "print(\"Class A has the gratest Contribution to Our Overall Sales, Indicating the it's our Core Target\")"
   ]
  },
  {
   "cell_type": "code",
   "execution_count": 20,
   "id": "86eaacc9",
   "metadata": {},
   "outputs": [
    {
     "name": "stdout",
     "output_type": "stream",
     "text": [
      "['Accessories' 'Electronic']\n",
      "===============================================\n",
      "2\n",
      "===============================================\n",
      "Electronic     230\n",
      "Accessories    138\n",
      "Name: Product Category, dtype: int64\n",
      "===============================================\n",
      "AxesSubplot(0.125,0.11;0.775x0.77)\n"
     ]
    },
    {
     "data": {
      "image/png": "[encoded data removed]",
      "text/plain": [
       "<Figure size 1000x500 with 1 Axes>"
      ]
     },
     "metadata": {},
     "output_type": "display_data"
    },
    {
     "name": "stdout",
     "output_type": "stream",
     "text": [
      "===============================================\n",
      "We've Earned most Transaction through Electronics Category, Because we'e in the Digitalization World\n"
     ]
    }
   ],
   "source": [
    "getdata(df , \"Product Category\")\n",
    "print(\"===============================================\")\n",
    "print(\"We've Earned most Transaction through Electronics Category, Because we'e in the Digitalization World\")"
   ]
  },
  {
   "cell_type": "code",
   "execution_count": 21,
   "id": "c90204b4",
   "metadata": {},
   "outputs": [
    {
     "name": "stdout",
     "output_type": "stream",
     "text": [
      "['Fast Charger' 'Headphone' 'Keyboard + Mouse' 'Washing Machine' 'TV'\n",
      " 'Refrigerator' 'Microwave' 'Vacuum Machine']\n",
      "===============================================\n",
      "8\n",
      "===============================================\n",
      "Fast Charger        46\n",
      "Headphone           46\n",
      "Keyboard + Mouse    46\n",
      "Washing Machine     46\n",
      "TV                  46\n",
      "Refrigerator        46\n",
      "Microwave           46\n",
      "Vacuum Machine      46\n",
      "Name: Product Sub Category, dtype: int64\n",
      "===============================================\n",
      "AxesSubplot(0.125,0.11;0.775x0.77)\n"
     ]
    },
    {
     "data": {
      "image/png": "[encoded data removed]",
      "text/plain": [
       "<Figure size 1000x500 with 1 Axes>"
      ]
     },
     "metadata": {},
     "output_type": "display_data"
    }
   ],
   "source": [
    "getdata( df , \"Product Sub Category\")"
   ]
  },
  {
   "cell_type": "code",
   "execution_count": 22,
   "id": "cb05eca0",
   "metadata": {},
   "outputs": [
    {
     "data": {
      "text/html": [
       "<div>\n",
       "<style scoped>\n",
       "    .dataframe tbody tr th:only-of-type {\n",
       "        vertical-align: middle;\n",
       "    }\n",
       "\n",
       "    .dataframe tbody tr th {\n",
       "        vertical-align: top;\n",
       "    }\n",
       "\n",
       "    .dataframe thead th {\n",
       "        text-align: right;\n",
       "    }\n",
       "</style>\n",
       "<table border=\"1\" class=\"dataframe\">\n",
       "  <thead>\n",
       "    <tr style=\"text-align: right;\">\n",
       "      <th></th>\n",
       "      <th>count</th>\n",
       "      <th>mean</th>\n",
       "      <th>std</th>\n",
       "      <th>min</th>\n",
       "      <th>25%</th>\n",
       "      <th>50%</th>\n",
       "      <th>75%</th>\n",
       "      <th>max</th>\n",
       "    </tr>\n",
       "  </thead>\n",
       "  <tbody>\n",
       "    <tr>\n",
       "      <th>Year</th>\n",
       "      <td>368.0</td>\n",
       "      <td>2019.0</td>\n",
       "      <td>0.0</td>\n",
       "      <td>2019.0</td>\n",
       "      <td>2019.0</td>\n",
       "      <td>2019.0</td>\n",
       "      <td>2020.0</td>\n",
       "      <td>2020.0</td>\n",
       "    </tr>\n",
       "    <tr>\n",
       "      <th>Qty</th>\n",
       "      <td>368.0</td>\n",
       "      <td>747.0</td>\n",
       "      <td>229.0</td>\n",
       "      <td>2.0</td>\n",
       "      <td>700.0</td>\n",
       "      <td>780.0</td>\n",
       "      <td>890.0</td>\n",
       "      <td>1000.0</td>\n",
       "    </tr>\n",
       "    <tr>\n",
       "      <th>COGS per unit</th>\n",
       "      <td>368.0</td>\n",
       "      <td>3936.0</td>\n",
       "      <td>3366.0</td>\n",
       "      <td>110.0</td>\n",
       "      <td>500.0</td>\n",
       "      <td>3500.0</td>\n",
       "      <td>7000.0</td>\n",
       "      <td>10000.0</td>\n",
       "    </tr>\n",
       "    <tr>\n",
       "      <th>Total Cogs</th>\n",
       "      <td>368.0</td>\n",
       "      <td>2800261.0</td>\n",
       "      <td>2761456.0</td>\n",
       "      <td>5000.0</td>\n",
       "      <td>350000.0</td>\n",
       "      <td>1950000.0</td>\n",
       "      <td>5520000.0</td>\n",
       "      <td>8455000.0</td>\n",
       "    </tr>\n",
       "    <tr>\n",
       "      <th>Unit Price</th>\n",
       "      <td>368.0</td>\n",
       "      <td>4274.0</td>\n",
       "      <td>3541.0</td>\n",
       "      <td>200.0</td>\n",
       "      <td>550.0</td>\n",
       "      <td>4000.0</td>\n",
       "      <td>7500.0</td>\n",
       "      <td>10500.0</td>\n",
       "    </tr>\n",
       "    <tr>\n",
       "      <th>Sales</th>\n",
       "      <td>368.0</td>\n",
       "      <td>3036362.0</td>\n",
       "      <td>2913071.0</td>\n",
       "      <td>6000.0</td>\n",
       "      <td>385000.0</td>\n",
       "      <td>2340000.0</td>\n",
       "      <td>5865000.0</td>\n",
       "      <td>8900000.0</td>\n",
       "    </tr>\n",
       "  </tbody>\n",
       "</table>\n",
       "</div>"
      ],
      "text/plain": [
       "               count       mean        std     min       25%        50%  \\\n",
       "Year           368.0     2019.0        0.0  2019.0    2019.0     2019.0   \n",
       "Qty            368.0      747.0      229.0     2.0     700.0      780.0   \n",
       "COGS per unit  368.0     3936.0     3366.0   110.0     500.0     3500.0   \n",
       "Total Cogs     368.0  2800261.0  2761456.0  5000.0  350000.0  1950000.0   \n",
       "Unit Price     368.0     4274.0     3541.0   200.0     550.0     4000.0   \n",
       "Sales          368.0  3036362.0  2913071.0  6000.0  385000.0  2340000.0   \n",
       "\n",
       "                     75%        max  \n",
       "Year              2020.0     2020.0  \n",
       "Qty                890.0     1000.0  \n",
       "COGS per unit     7000.0    10000.0  \n",
       "Total Cogs     5520000.0  8455000.0  \n",
       "Unit Price        7500.0    10500.0  \n",
       "Sales          5865000.0  8900000.0  "
      ]
     },
     "execution_count": 22,
     "metadata": {},
     "output_type": "execute_result"
    }
   ],
   "source": [
    "# Extracting Some Critical Statistical Insights\n",
    "df.describe().round().T"
   ]
  },
  {
   "cell_type": "code",
   "execution_count": 23,
   "id": "5d1b41d2",
   "metadata": {},
   "outputs": [
    {
     "name": "stdout",
     "output_type": "stream",
     "text": [
      "1117381100\n",
      "===============================================\n",
      "3036361.684782609\n",
      "===============================================\n",
      "2340000.0\n",
      "===============================================\n",
      "385000.0\n",
      "===============================================\n",
      "30000.0\n",
      "===============================================\n",
      "5865000.0\n",
      "===============================================\n",
      "2913070.743305668\n"
     ]
    }
   ],
   "source": [
    "# Statistical Calculations, It Privides the Previous Results but Using another Approach\n",
    "print(df[\"Sales\"].sum())\n",
    "print(\"===============================================\")\n",
    "print(df[\"Sales\"].mean())\n",
    "print(\"===============================================\")\n",
    "print(df[\"Sales\"].median())\n",
    "print(\"===============================================\")\n",
    "print(df[\"Sales\"].quantile(0.25))\n",
    "print(\"===============================================\")\n",
    "print(df[\"Sales\"].quantile(0.05))\n",
    "print(\"===============================================\")\n",
    "print(df[\"Sales\"].quantile(0.75))\n",
    "print(\"===============================================\")\n",
    "print(df[\"Sales\"].std())"
   ]
  },
  {
   "cell_type": "code",
   "execution_count": 24,
   "id": "b4d6043b",
   "metadata": {},
   "outputs": [
    {
     "name": "stdout",
     "output_type": "stream",
     "text": [
      "<class 'pandas.core.frame.DataFrame'>\n",
      "RangeIndex: 368 entries, 0 to 367\n",
      "Data columns (total 13 columns):\n",
      " #   Column                Non-Null Count  Dtype  \n",
      "---  ------                --------------  -----  \n",
      " 0   Year                  368 non-null    int64  \n",
      " 1   Q                     368 non-null    object \n",
      " 2   Month                 368 non-null    object \n",
      " 3   Countries             368 non-null    object \n",
      " 4   Branch                368 non-null    object \n",
      " 5   Product Category      368 non-null    object \n",
      " 6   Product Sub Category  368 non-null    object \n",
      " 7   Brand                 368 non-null    object \n",
      " 8   Qty                   368 non-null    int64  \n",
      " 9   COGS per unit         368 non-null    float64\n",
      " 10  Total Cogs            368 non-null    float64\n",
      " 11  Unit Price            368 non-null    int64  \n",
      " 12  Sales                 368 non-null    int64  \n",
      "dtypes: float64(2), int64(4), object(7)\n",
      "memory usage: 37.5+ KB\n"
     ]
    }
   ],
   "source": [
    "df.info()"
   ]
  },
  {
   "cell_type": "code",
   "execution_count": 25,
   "id": "3080a459",
   "metadata": {},
   "outputs": [],
   "source": [
    "# Converting Year Datatype From Int into Object\n",
    "df[\"Year\"] = df[\"Year\"].astype(object)"
   ]
  },
  {
   "cell_type": "code",
   "execution_count": 26,
   "id": "f6814230",
   "metadata": {},
   "outputs": [],
   "source": [
    "# Transforming Datatypes of COGS & Total Cogs to Int\n",
    "df[\"COGS per unit\"] = df[\"COGS per unit\"].astype(object)"
   ]
  },
  {
   "cell_type": "code",
   "execution_count": 27,
   "id": "6c349073",
   "metadata": {},
   "outputs": [],
   "source": [
    "# Transforming Datatypes of COGS & Total Cogs to Int\n",
    "df[\"COGS per unit\"] = df[\"COGS per unit\"].astype(int)\n",
    "df[\"Total Cogs\"] = df[\"Total Cogs\"].astype(int)"
   ]
  },
  {
   "cell_type": "code",
   "execution_count": 28,
   "id": "06e93faf",
   "metadata": {},
   "outputs": [
    {
     "name": "stdout",
     "output_type": "stream",
     "text": [
      "<class 'pandas.core.frame.DataFrame'>\n",
      "RangeIndex: 368 entries, 0 to 367\n",
      "Data columns (total 13 columns):\n",
      " #   Column                Non-Null Count  Dtype \n",
      "---  ------                --------------  ----- \n",
      " 0   Year                  368 non-null    object\n",
      " 1   Q                     368 non-null    object\n",
      " 2   Month                 368 non-null    object\n",
      " 3   Countries             368 non-null    object\n",
      " 4   Branch                368 non-null    object\n",
      " 5   Product Category      368 non-null    object\n",
      " 6   Product Sub Category  368 non-null    object\n",
      " 7   Brand                 368 non-null    object\n",
      " 8   Qty                   368 non-null    int64 \n",
      " 9   COGS per unit         368 non-null    int32 \n",
      " 10  Total Cogs            368 non-null    int32 \n",
      " 11  Unit Price            368 non-null    int64 \n",
      " 12  Sales                 368 non-null    int64 \n",
      "dtypes: int32(2), int64(3), object(8)\n",
      "memory usage: 34.6+ KB\n"
     ]
    }
   ],
   "source": [
    "# Checking for Columns Datatypes\n",
    "df.info()"
   ]
  },
  {
   "cell_type": "code",
   "execution_count": 29,
   "id": "8a023582",
   "metadata": {},
   "outputs": [],
   "source": [
    "# Renaming the Column of COGS per Unit to Cost Per Unit\n",
    "df.rename(columns = {\"COGS per unit\" : \"Cost Per Unit\"} , inplace = True)"
   ]
  },
  {
   "cell_type": "code",
   "execution_count": 30,
   "id": "4141b124",
   "metadata": {},
   "outputs": [],
   "source": [
    "# Renaming the Column of Qty to Sales Volume\n",
    "df.rename(columns = {\"Qty\" : \"Sales Volume\"} , inplace = True)"
   ]
  },
  {
   "cell_type": "code",
   "execution_count": 31,
   "id": "171cb07e",
   "metadata": {},
   "outputs": [],
   "source": [
    "# Renaming the Column of Product Category to Category\n",
    "df.rename(columns = {\"Product Category\" : \"Category\"} , inplace = True)"
   ]
  },
  {
   "cell_type": "code",
   "execution_count": 32,
   "id": "9a3a7dd1",
   "metadata": {},
   "outputs": [],
   "source": [
    "# Renaming the Column of Product Sub Category to Sub-Category\n",
    "df.rename( columns = {\"Product Sub Category\" : \"Sub-Category\"} , inplace = True)"
   ]
  },
  {
   "cell_type": "code",
   "execution_count": 33,
   "id": "61babe39",
   "metadata": {},
   "outputs": [
    {
     "data": {
      "text/html": [
       "<div>\n",
       "<style scoped>\n",
       "    .dataframe tbody tr th:only-of-type {\n",
       "        vertical-align: middle;\n",
       "    }\n",
       "\n",
       "    .dataframe tbody tr th {\n",
       "        vertical-align: top;\n",
       "    }\n",
       "\n",
       "    .dataframe thead th {\n",
       "        text-align: right;\n",
       "    }\n",
       "</style>\n",
       "<table border=\"1\" class=\"dataframe\">\n",
       "  <thead>\n",
       "    <tr style=\"text-align: right;\">\n",
       "      <th></th>\n",
       "      <th>Year</th>\n",
       "      <th>Q</th>\n",
       "      <th>Month</th>\n",
       "      <th>Countries</th>\n",
       "      <th>Branch</th>\n",
       "      <th>Category</th>\n",
       "      <th>Sub-Category</th>\n",
       "      <th>Brand</th>\n",
       "      <th>Sales Volume</th>\n",
       "      <th>Cost Per Unit</th>\n",
       "      <th>Total Cogs</th>\n",
       "      <th>Unit Price</th>\n",
       "      <th>Sales</th>\n",
       "    </tr>\n",
       "  </thead>\n",
       "  <tbody>\n",
       "    <tr>\n",
       "      <th>0</th>\n",
       "      <td>2019</td>\n",
       "      <td>Q2</td>\n",
       "      <td>Apr</td>\n",
       "      <td>USA</td>\n",
       "      <td>Class C</td>\n",
       "      <td>Accessories</td>\n",
       "      <td>Fast Charger</td>\n",
       "      <td>Apple</td>\n",
       "      <td>700</td>\n",
       "      <td>450</td>\n",
       "      <td>315000</td>\n",
       "      <td>500</td>\n",
       "      <td>350000</td>\n",
       "    </tr>\n",
       "    <tr>\n",
       "      <th>1</th>\n",
       "      <td>2019</td>\n",
       "      <td>Q2</td>\n",
       "      <td>May</td>\n",
       "      <td>USA</td>\n",
       "      <td>Class C</td>\n",
       "      <td>Accessories</td>\n",
       "      <td>Fast Charger</td>\n",
       "      <td>Apple</td>\n",
       "      <td>900</td>\n",
       "      <td>450</td>\n",
       "      <td>405000</td>\n",
       "      <td>500</td>\n",
       "      <td>450000</td>\n",
       "    </tr>\n",
       "    <tr>\n",
       "      <th>2</th>\n",
       "      <td>2019</td>\n",
       "      <td>Q2</td>\n",
       "      <td>May</td>\n",
       "      <td>Canada</td>\n",
       "      <td>Class C</td>\n",
       "      <td>Accessories</td>\n",
       "      <td>Fast Charger</td>\n",
       "      <td>Apple</td>\n",
       "      <td>700</td>\n",
       "      <td>450</td>\n",
       "      <td>315000</td>\n",
       "      <td>500</td>\n",
       "      <td>350000</td>\n",
       "    </tr>\n",
       "    <tr>\n",
       "      <th>3</th>\n",
       "      <td>2019</td>\n",
       "      <td>Q2</td>\n",
       "      <td>Jun</td>\n",
       "      <td>USA</td>\n",
       "      <td>Class C</td>\n",
       "      <td>Accessories</td>\n",
       "      <td>Fast Charger</td>\n",
       "      <td>Apple</td>\n",
       "      <td>900</td>\n",
       "      <td>450</td>\n",
       "      <td>405000</td>\n",
       "      <td>500</td>\n",
       "      <td>450000</td>\n",
       "    </tr>\n",
       "    <tr>\n",
       "      <th>4</th>\n",
       "      <td>2019</td>\n",
       "      <td>Q2</td>\n",
       "      <td>Jun</td>\n",
       "      <td>Brazil</td>\n",
       "      <td>Class B</td>\n",
       "      <td>Accessories</td>\n",
       "      <td>Fast Charger</td>\n",
       "      <td>Apple</td>\n",
       "      <td>700</td>\n",
       "      <td>450</td>\n",
       "      <td>315000</td>\n",
       "      <td>500</td>\n",
       "      <td>350000</td>\n",
       "    </tr>\n",
       "  </tbody>\n",
       "</table>\n",
       "</div>"
      ],
      "text/plain": [
       "   Year   Q Month Countries   Branch     Category  Sub-Category  Brand  \\\n",
       "0  2019  Q2   Apr       USA  Class C  Accessories  Fast Charger  Apple   \n",
       "1  2019  Q2   May       USA  Class C  Accessories  Fast Charger  Apple   \n",
       "2  2019  Q2   May    Canada  Class C  Accessories  Fast Charger  Apple   \n",
       "3  2019  Q2   Jun       USA  Class C  Accessories  Fast Charger  Apple   \n",
       "4  2019  Q2   Jun    Brazil  Class B  Accessories  Fast Charger  Apple   \n",
       "\n",
       "   Sales Volume  Cost Per Unit  Total Cogs  Unit Price   Sales  \n",
       "0           700            450      315000         500  350000  \n",
       "1           900            450      405000         500  450000  \n",
       "2           700            450      315000         500  350000  \n",
       "3           900            450      405000         500  450000  \n",
       "4           700            450      315000         500  350000  "
      ]
     },
     "execution_count": 33,
     "metadata": {},
     "output_type": "execute_result"
    }
   ],
   "source": [
    "# Data Validation After New Adjustments\n",
    "df.head()"
   ]
  },
  {
   "cell_type": "code",
   "execution_count": 34,
   "id": "75584b2d",
   "metadata": {},
   "outputs": [
    {
     "name": "stdout",
     "output_type": "stream",
     "text": [
      "Year\n",
      "2019    658954600\n",
      "2020    458426500\n",
      "Name: Sales, dtype: int64\n",
      "===============================================\n",
      "AxesSubplot(0.125,0.11;0.775x0.77)\n"
     ]
    },
    {
     "data": {
      "image/png": "[encoded data removed]",
      "text/plain": [
       "<Figure size 640x480 with 1 Axes>"
      ]
     },
     "metadata": {},
     "output_type": "display_data"
    }
   ],
   "source": [
    "# Conducting Bi-Variate Analysis\n",
    "print(df.groupby(['Year'])[\"Sales\"].sum())\n",
    "print(\"===============================================\")\n",
    "print(df.groupby(['Year'])[\"Sales\"].sum().plot(kind = 'bar'))\n",
    "plt.show()"
   ]
  },
  {
   "cell_type": "code",
   "execution_count": 35,
   "id": "be537932",
   "metadata": {},
   "outputs": [],
   "source": [
    "# Defining a Function to Calculate Valuable Business Insights\n",
    "def getnumdata(df , Text , INT):\n",
    "    \n",
    "    First = df.groupby([Text])[INT].sum().sort_values( ascending = False)\n",
    "    Socend = df.pivot_table( index = Text , values = INT , aggfunc = \"sum\")\n",
    "    print(First)\n",
    "    print(\"===============================================\")\n",
    "    print(Socend)\n",
    "    print(\"===============================================\")\n",
    "    plt.figure(figsize = (10 , 5))\n",
    "    print(First.plot.bar(color = 'r'))\n",
    "    plt.title(\"\\n\" + INT + \" By \" + Text + \"\\n\")\n",
    "    plt.xlabel(Text)\n",
    "    plt.ylabel(INT)\n",
    "    plt.xticks(rotation = 0.25)\n",
    "    plt.grid(axis = 'y' , alpha = 0.7)\n",
    "    plt.grid(axis = 'x' , alpha = 0.7)\n",
    "    plt.show()"
   ]
  },
  {
   "cell_type": "code",
   "execution_count": 36,
   "id": "ea9d9ba0",
   "metadata": {},
   "outputs": [
    {
     "name": "stdout",
     "output_type": "stream",
     "text": [
      "Year\n",
      "2019    658954600\n",
      "2020    458426500\n",
      "Name: Sales, dtype: int64\n",
      "===============================================\n",
      "          Sales\n",
      "Year           \n",
      "2019  658954600\n",
      "2020  458426500\n",
      "===============================================\n",
      "AxesSubplot(0.125,0.11;0.775x0.77)\n"
     ]
    },
    {
     "data": {
      "image/png": "[encoded data removed]",
      "text/plain": [
       "<Figure size 1000x500 with 1 Axes>"
      ]
     },
     "metadata": {},
     "output_type": "display_data"
    }
   ],
   "source": [
    "getnumdata(df , \"Year\" , \"Sales\")"
   ]
  },
  {
   "cell_type": "code",
   "execution_count": 37,
   "id": "6e4ce1e8",
   "metadata": {},
   "outputs": [
    {
     "name": "stdout",
     "output_type": "stream",
     "text": [
      "Q\n",
      "Q4    423175000\n",
      "Q2    280921500\n",
      "Q3    262803000\n",
      "Q1    150481600\n",
      "Name: Sales, dtype: int64\n",
      "===============================================\n",
      "        Sales\n",
      "Q            \n",
      "Q1  150481600\n",
      "Q2  280921500\n",
      "Q3  262803000\n",
      "Q4  423175000\n",
      "===============================================\n",
      "AxesSubplot(0.125,0.11;0.775x0.77)\n"
     ]
    },
    {
     "data": {
      "image/png": "[encoded data removed]",
      "text/plain": [
       "<Figure size 1000x500 with 1 Axes>"
      ]
     },
     "metadata": {},
     "output_type": "display_data"
    }
   ],
   "source": [
    "getnumdata(df , \"Q\" , \"Sales\")"
   ]
  },
  {
   "cell_type": "code",
   "execution_count": 41,
   "id": "9c2ee883",
   "metadata": {},
   "outputs": [],
   "source": [
    "# Performing Time Serias Analysis\n",
    "def timeserias(df , Period , Insights):\n",
    "    \n",
    "    First = df.groupby([Period])[Insights].sum()\n",
    "    print(First)\n",
    "    print(\"===============================================\")\n",
    "    plt.figure(figsize = (10 , 4))\n",
    "    print(First.plot( x = First.index , y = First.values , marker = \"o\" , linestyle = \"--\" , color = 'blue' , linewidth = 2 ,\n",
    "                    markersize = 6))\n",
    "    plt.title(\"\\n \" + Insights + \" by \" + Period + \"\\n\" , fontsize = 14 , fontweight = 'bold' , color = 'darkblue' )\n",
    "    plt.xlabel(\"\\n\" + Period + \"\\n\" , fontsize = 12)\n",
    "    plt.ylabel(\"\\n\" + Insights + \"\\n\")\n",
    "    plt.legend()\n",
    "    \n",
    "    plt.xticks( rotation = 0.25 , fontsize = 12)\n",
    "    plt.yticks(fontsize = 12)\n",
    "    \n",
    "    plt.grid(axis = 'y' , linestyle = '--' , alpha = 0.7)\n",
    "    \n",
    "    plt.show()"
   ]
  },
  {
   "cell_type": "code",
   "execution_count": 42,
   "id": "71a8414a",
   "metadata": {},
   "outputs": [
    {
     "name": "stdout",
     "output_type": "stream",
     "text": [
      "Month\n",
      "Apr    113458000\n",
      "Aug     95491000\n",
      "Dec     46935000\n",
      "Feb     37511000\n",
      "Jan     46514100\n",
      "Jul     86597500\n",
      "Jun     96630500\n",
      "Mar     66456500\n",
      "May     70833000\n",
      "Nov    206794500\n",
      "Oct    169445500\n",
      "Sep     80714500\n",
      "Name: Sales, dtype: int64\n",
      "===============================================\n",
      "AxesSubplot(0.125,0.11;0.775x0.77)\n"
     ]
    },
    {
     "data": {
      "image/png": "[encoded data removed]",
      "text/plain": [
       "<Figure size 1000x400 with 1 Axes>"
      ]
     },
     "metadata": {},
     "output_type": "display_data"
    }
   ],
   "source": [
    "timeserias(df , 'Month' , 'Sales')"
   ]
  },
  {
   "cell_type": "code",
   "execution_count": 43,
   "id": "3b3ea602",
   "metadata": {},
   "outputs": [
    {
     "name": "stdout",
     "output_type": "stream",
     "text": [
      "Q\n",
      "Q1    150481600\n",
      "Q2    280921500\n",
      "Q3    262803000\n",
      "Q4    423175000\n",
      "Name: Sales, dtype: int64\n",
      "===============================================\n",
      "AxesSubplot(0.125,0.11;0.775x0.77)\n"
     ]
    },
    {
     "data": {
      "image/png": "[encoded data removed]",
      "text/plain": [
       "<Figure size 1000x400 with 1 Axes>"
      ]
     },
     "metadata": {},
     "output_type": "display_data"
    }
   ],
   "source": [
    "timeserias(df , 'Q' , 'Sales')"
   ]
  },
  {
   "cell_type": "code",
   "execution_count": 44,
   "id": "dbfc8bcc",
   "metadata": {},
   "outputs": [
    {
     "name": "stdout",
     "output_type": "stream",
     "text": [
      "Year\n",
      "2019    658954600\n",
      "2020    458426500\n",
      "Name: Sales, dtype: int64\n",
      "===============================================\n",
      "AxesSubplot(0.125,0.11;0.775x0.77)\n"
     ]
    },
    {
     "data": {
      "image/png": "[encoded data removed]",
      "text/plain": [
       "<Figure size 1000x400 with 1 Axes>"
      ]
     },
     "metadata": {},
     "output_type": "display_data"
    }
   ],
   "source": [
    "timeserias(df , \"Year\" , \"Sales\")"
   ]
  },
  {
   "cell_type": "code",
   "execution_count": 47,
   "id": "a7033622",
   "metadata": {},
   "outputs": [
    {
     "name": "stderr",
     "output_type": "stream",
     "text": [
      "No artists with labels found to put in legend.  Note that artists whose label start with an underscore are ignored when legend() is called with no argument.\n"
     ]
    },
    {
     "data": {
      "image/png": "[encoded data removed]",
      "text/plain": [
       "<Figure size 1000x500 with 1 Axes>"
      ]
     },
     "metadata": {},
     "output_type": "display_data"
    }
   ],
   "source": [
    "plt.figure( figsize = (10 , 5) )\n",
    "sns.lineplot( x = \"Month\" , y = \"Sales\" , data = df , markers = \"o\" , color = 'green' , linewidth = 2.5)\n",
    "\n",
    "plt.title(\"\\nSales By Month\\n\" , fontsize = 14 , fontweight = 'bold' , color = 'darkblue')\n",
    "plt.xlabel(\"\\nMonths\\n\" , fontsize = 10)\n",
    "plt.ylabel(\"\\nRevenues\\n\" , fontsize = 10)\n",
    "\n",
    "plt.legend()\n",
    "\n",
    "plt.grid(axis = 'y' , linestyle = '--' , alpha = 0.7)\n",
    "\n",
    "plt.show()"
   ]
  },
  {
   "cell_type": "code",
   "execution_count": 48,
   "id": "54b604f0",
   "metadata": {},
   "outputs": [],
   "source": [
    "# Generating a Function for Normal Columns\n",
    "\n",
    "def linefornormal(df , String , Number):\n",
    "    \n",
    "    \n",
    "    plt.figure( figsize = (10 , 5) )\n",
    "    sns.lineplot( x = String , y = Number , data = df , markers = \"o\" , color = 'green' , linewidth = 2.5)\n",
    "\n",
    "    plt.title(\"\\nSales By Month\\n\" , fontsize = 14 , fontweight = 'bold' , color = 'darkblue')\n",
    "    plt.xlabel(\"\\nMonths\\n\" , fontsize = 10)\n",
    "    plt.ylabel(\"\\nRevenues\\n\" , fontsize = 10)\n",
    "\n",
    "    plt.legend()\n",
    "\n",
    "    plt.grid(axis = 'y' , linestyle = '--' , alpha = 0.7)\n",
    "\n",
    "    plt.show()\n",
    "    \n",
    "    "
   ]
  },
  {
   "cell_type": "code",
   "execution_count": 49,
   "id": "072779e4",
   "metadata": {},
   "outputs": [
    {
     "name": "stderr",
     "output_type": "stream",
     "text": [
      "No artists with labels found to put in legend.  Note that artists whose label start with an underscore are ignored when legend() is called with no argument.\n"
     ]
    },
    {
     "data": {
      "image/png": "[encoded data removed]",
      "text/plain": [
       "<Figure size 1000x500 with 1 Axes>"
      ]
     },
     "metadata": {},
     "output_type": "display_data"
    }
   ],
   "source": [
    "linefornormal(df , \"Countries\" , 'Total Cogs')"
   ]
  },
  {
   "cell_type": "code",
   "execution_count": 50,
   "id": "669e3168",
   "metadata": {},
   "outputs": [
    {
     "data": {
      "text/html": [
       "<div>\n",
       "<style scoped>\n",
       "    .dataframe tbody tr th:only-of-type {\n",
       "        vertical-align: middle;\n",
       "    }\n",
       "\n",
       "    .dataframe tbody tr th {\n",
       "        vertical-align: top;\n",
       "    }\n",
       "\n",
       "    .dataframe thead th {\n",
       "        text-align: right;\n",
       "    }\n",
       "</style>\n",
       "<table border=\"1\" class=\"dataframe\">\n",
       "  <thead>\n",
       "    <tr style=\"text-align: right;\">\n",
       "      <th></th>\n",
       "      <th>Year</th>\n",
       "      <th>Q</th>\n",
       "      <th>Month</th>\n",
       "      <th>Countries</th>\n",
       "      <th>Branch</th>\n",
       "      <th>Category</th>\n",
       "      <th>Sub-Category</th>\n",
       "      <th>Brand</th>\n",
       "      <th>Sales Volume</th>\n",
       "      <th>Cost Per Unit</th>\n",
       "      <th>Total Cogs</th>\n",
       "      <th>Unit Price</th>\n",
       "      <th>Sales</th>\n",
       "    </tr>\n",
       "  </thead>\n",
       "  <tbody>\n",
       "    <tr>\n",
       "      <th>0</th>\n",
       "      <td>2019</td>\n",
       "      <td>Q2</td>\n",
       "      <td>Apr</td>\n",
       "      <td>USA</td>\n",
       "      <td>Class C</td>\n",
       "      <td>Accessories</td>\n",
       "      <td>Fast Charger</td>\n",
       "      <td>Apple</td>\n",
       "      <td>700</td>\n",
       "      <td>450</td>\n",
       "      <td>315000</td>\n",
       "      <td>500</td>\n",
       "      <td>350000</td>\n",
       "    </tr>\n",
       "    <tr>\n",
       "      <th>1</th>\n",
       "      <td>2019</td>\n",
       "      <td>Q2</td>\n",
       "      <td>May</td>\n",
       "      <td>USA</td>\n",
       "      <td>Class C</td>\n",
       "      <td>Accessories</td>\n",
       "      <td>Fast Charger</td>\n",
       "      <td>Apple</td>\n",
       "      <td>900</td>\n",
       "      <td>450</td>\n",
       "      <td>405000</td>\n",
       "      <td>500</td>\n",
       "      <td>450000</td>\n",
       "    </tr>\n",
       "    <tr>\n",
       "      <th>2</th>\n",
       "      <td>2019</td>\n",
       "      <td>Q2</td>\n",
       "      <td>May</td>\n",
       "      <td>Canada</td>\n",
       "      <td>Class C</td>\n",
       "      <td>Accessories</td>\n",
       "      <td>Fast Charger</td>\n",
       "      <td>Apple</td>\n",
       "      <td>700</td>\n",
       "      <td>450</td>\n",
       "      <td>315000</td>\n",
       "      <td>500</td>\n",
       "      <td>350000</td>\n",
       "    </tr>\n",
       "    <tr>\n",
       "      <th>3</th>\n",
       "      <td>2019</td>\n",
       "      <td>Q2</td>\n",
       "      <td>Jun</td>\n",
       "      <td>USA</td>\n",
       "      <td>Class C</td>\n",
       "      <td>Accessories</td>\n",
       "      <td>Fast Charger</td>\n",
       "      <td>Apple</td>\n",
       "      <td>900</td>\n",
       "      <td>450</td>\n",
       "      <td>405000</td>\n",
       "      <td>500</td>\n",
       "      <td>450000</td>\n",
       "    </tr>\n",
       "    <tr>\n",
       "      <th>4</th>\n",
       "      <td>2019</td>\n",
       "      <td>Q2</td>\n",
       "      <td>Jun</td>\n",
       "      <td>Brazil</td>\n",
       "      <td>Class B</td>\n",
       "      <td>Accessories</td>\n",
       "      <td>Fast Charger</td>\n",
       "      <td>Apple</td>\n",
       "      <td>700</td>\n",
       "      <td>450</td>\n",
       "      <td>315000</td>\n",
       "      <td>500</td>\n",
       "      <td>350000</td>\n",
       "    </tr>\n",
       "  </tbody>\n",
       "</table>\n",
       "</div>"
      ],
      "text/plain": [
       "   Year   Q Month Countries   Branch     Category  Sub-Category  Brand  \\\n",
       "0  2019  Q2   Apr       USA  Class C  Accessories  Fast Charger  Apple   \n",
       "1  2019  Q2   May       USA  Class C  Accessories  Fast Charger  Apple   \n",
       "2  2019  Q2   May    Canada  Class C  Accessories  Fast Charger  Apple   \n",
       "3  2019  Q2   Jun       USA  Class C  Accessories  Fast Charger  Apple   \n",
       "4  2019  Q2   Jun    Brazil  Class B  Accessories  Fast Charger  Apple   \n",
       "\n",
       "   Sales Volume  Cost Per Unit  Total Cogs  Unit Price   Sales  \n",
       "0           700            450      315000         500  350000  \n",
       "1           900            450      405000         500  450000  \n",
       "2           700            450      315000         500  350000  \n",
       "3           900            450      405000         500  450000  \n",
       "4           700            450      315000         500  350000  "
      ]
     },
     "execution_count": 50,
     "metadata": {},
     "output_type": "execute_result"
    }
   ],
   "source": [
    "# Executing Multi-Variate Analysis\n",
    "df.head()"
   ]
  },
  {
   "cell_type": "code",
   "execution_count": 59,
   "id": "ea165b73",
   "metadata": {},
   "outputs": [
    {
     "data": {
      "text/html": [
       "<div>\n",
       "<style scoped>\n",
       "    .dataframe tbody tr th:only-of-type {\n",
       "        vertical-align: middle;\n",
       "    }\n",
       "\n",
       "    .dataframe tbody tr th {\n",
       "        vertical-align: top;\n",
       "    }\n",
       "\n",
       "    .dataframe thead th {\n",
       "        text-align: right;\n",
       "    }\n",
       "</style>\n",
       "<table border=\"1\" class=\"dataframe\">\n",
       "  <thead>\n",
       "    <tr style=\"text-align: right;\">\n",
       "      <th>Month</th>\n",
       "      <th>Apr</th>\n",
       "      <th>Aug</th>\n",
       "      <th>Dec</th>\n",
       "      <th>Feb</th>\n",
       "      <th>Jan</th>\n",
       "      <th>Jul</th>\n",
       "      <th>Jun</th>\n",
       "      <th>Mar</th>\n",
       "      <th>May</th>\n",
       "      <th>Nov</th>\n",
       "      <th>Oct</th>\n",
       "      <th>Sep</th>\n",
       "    </tr>\n",
       "    <tr>\n",
       "      <th>Countries</th>\n",
       "      <th></th>\n",
       "      <th></th>\n",
       "      <th></th>\n",
       "      <th></th>\n",
       "      <th></th>\n",
       "      <th></th>\n",
       "      <th></th>\n",
       "      <th></th>\n",
       "      <th></th>\n",
       "      <th></th>\n",
       "      <th></th>\n",
       "      <th></th>\n",
       "    </tr>\n",
       "  </thead>\n",
       "  <tbody>\n",
       "    <tr>\n",
       "      <th>Australia</th>\n",
       "      <td>3375000.0</td>\n",
       "      <td>14317000.0</td>\n",
       "      <td>NaN</td>\n",
       "      <td>6479000.0</td>\n",
       "      <td>66000.0</td>\n",
       "      <td>NaN</td>\n",
       "      <td>NaN</td>\n",
       "      <td>24951000.0</td>\n",
       "      <td>NaN</td>\n",
       "      <td>NaN</td>\n",
       "      <td>NaN</td>\n",
       "      <td>NaN</td>\n",
       "    </tr>\n",
       "    <tr>\n",
       "      <th>Brazil</th>\n",
       "      <td>14987000.0</td>\n",
       "      <td>9140000.0</td>\n",
       "      <td>NaN</td>\n",
       "      <td>22194500.0</td>\n",
       "      <td>707600.0</td>\n",
       "      <td>NaN</td>\n",
       "      <td>3725000.0</td>\n",
       "      <td>7830000.0</td>\n",
       "      <td>NaN</td>\n",
       "      <td>NaN</td>\n",
       "      <td>16961500.0</td>\n",
       "      <td>NaN</td>\n",
       "    </tr>\n",
       "    <tr>\n",
       "      <th>Canada</th>\n",
       "      <td>39100000.0</td>\n",
       "      <td>NaN</td>\n",
       "      <td>NaN</td>\n",
       "      <td>1122000.0</td>\n",
       "      <td>563500.0</td>\n",
       "      <td>5865000.0</td>\n",
       "      <td>24232500.0</td>\n",
       "      <td>3800000.0</td>\n",
       "      <td>17305000.0</td>\n",
       "      <td>NaN</td>\n",
       "      <td>NaN</td>\n",
       "      <td>NaN</td>\n",
       "    </tr>\n",
       "    <tr>\n",
       "      <th>Russia</th>\n",
       "      <td>13610000.0</td>\n",
       "      <td>72034000.0</td>\n",
       "      <td>46935000.0</td>\n",
       "      <td>7651000.0</td>\n",
       "      <td>44684000.0</td>\n",
       "      <td>80732500.0</td>\n",
       "      <td>28400000.0</td>\n",
       "      <td>5545500.0</td>\n",
       "      <td>33082000.0</td>\n",
       "      <td>206794500.0</td>\n",
       "      <td>152484000.0</td>\n",
       "      <td>80714500.0</td>\n",
       "    </tr>\n",
       "    <tr>\n",
       "      <th>USA</th>\n",
       "      <td>42386000.0</td>\n",
       "      <td>NaN</td>\n",
       "      <td>NaN</td>\n",
       "      <td>64500.0</td>\n",
       "      <td>493000.0</td>\n",
       "      <td>NaN</td>\n",
       "      <td>40273000.0</td>\n",
       "      <td>24330000.0</td>\n",
       "      <td>20446000.0</td>\n",
       "      <td>NaN</td>\n",
       "      <td>NaN</td>\n",
       "      <td>NaN</td>\n",
       "    </tr>\n",
       "  </tbody>\n",
       "</table>\n",
       "</div>"
      ],
      "text/plain": [
       "Month             Apr         Aug         Dec         Feb         Jan  \\\n",
       "Countries                                                               \n",
       "Australia   3375000.0  14317000.0         NaN   6479000.0     66000.0   \n",
       "Brazil     14987000.0   9140000.0         NaN  22194500.0    707600.0   \n",
       "Canada     39100000.0         NaN         NaN   1122000.0    563500.0   \n",
       "Russia     13610000.0  72034000.0  46935000.0   7651000.0  44684000.0   \n",
       "USA        42386000.0         NaN         NaN     64500.0    493000.0   \n",
       "\n",
       "Month             Jul         Jun         Mar         May          Nov  \\\n",
       "Countries                                                                \n",
       "Australia         NaN         NaN  24951000.0         NaN          NaN   \n",
       "Brazil            NaN   3725000.0   7830000.0         NaN          NaN   \n",
       "Canada      5865000.0  24232500.0   3800000.0  17305000.0          NaN   \n",
       "Russia     80732500.0  28400000.0   5545500.0  33082000.0  206794500.0   \n",
       "USA               NaN  40273000.0  24330000.0  20446000.0          NaN   \n",
       "\n",
       "Month              Oct         Sep  \n",
       "Countries                           \n",
       "Australia          NaN         NaN  \n",
       "Brazil      16961500.0         NaN  \n",
       "Canada             NaN         NaN  \n",
       "Russia     152484000.0  80714500.0  \n",
       "USA                NaN         NaN  "
      ]
     },
     "execution_count": 59,
     "metadata": {},
     "output_type": "execute_result"
    }
   ],
   "source": [
    "# Displaying the Revenues in terms of Countries & Months\n",
    "df.pivot_table( index = \"Countries\" , columns = \"Month\" , values = \"Sales\" , aggfunc = \"sum\")"
   ]
  },
  {
   "cell_type": "code",
   "execution_count": 60,
   "id": "77806579",
   "metadata": {},
   "outputs": [
    {
     "data": {
      "text/html": [
       "<div>\n",
       "<style scoped>\n",
       "    .dataframe tbody tr th:only-of-type {\n",
       "        vertical-align: middle;\n",
       "    }\n",
       "\n",
       "    .dataframe tbody tr th {\n",
       "        vertical-align: top;\n",
       "    }\n",
       "\n",
       "    .dataframe thead th {\n",
       "        text-align: right;\n",
       "    }\n",
       "</style>\n",
       "<table border=\"1\" class=\"dataframe\">\n",
       "  <thead>\n",
       "    <tr style=\"text-align: right;\">\n",
       "      <th>Year</th>\n",
       "      <th>2019</th>\n",
       "      <th>2020</th>\n",
       "    </tr>\n",
       "    <tr>\n",
       "      <th>Countries</th>\n",
       "      <th></th>\n",
       "      <th></th>\n",
       "    </tr>\n",
       "  </thead>\n",
       "  <tbody>\n",
       "    <tr>\n",
       "      <th>Australia</th>\n",
       "      <td>39306000</td>\n",
       "      <td>9882000</td>\n",
       "    </tr>\n",
       "    <tr>\n",
       "      <th>Brazil</th>\n",
       "      <td>21612100</td>\n",
       "      <td>53933500</td>\n",
       "    </tr>\n",
       "    <tr>\n",
       "      <th>Canada</th>\n",
       "      <td>74673000</td>\n",
       "      <td>17315000</td>\n",
       "    </tr>\n",
       "    <tr>\n",
       "      <th>Russia</th>\n",
       "      <td>430311000</td>\n",
       "      <td>342356000</td>\n",
       "    </tr>\n",
       "    <tr>\n",
       "      <th>USA</th>\n",
       "      <td>93052500</td>\n",
       "      <td>34940000</td>\n",
       "    </tr>\n",
       "  </tbody>\n",
       "</table>\n",
       "</div>"
      ],
      "text/plain": [
       "Year            2019       2020\n",
       "Countries                      \n",
       "Australia   39306000    9882000\n",
       "Brazil      21612100   53933500\n",
       "Canada      74673000   17315000\n",
       "Russia     430311000  342356000\n",
       "USA         93052500   34940000"
      ]
     },
     "execution_count": 60,
     "metadata": {},
     "output_type": "execute_result"
    }
   ],
   "source": [
    "# Presenting Total Sales by Counrtries & Years\n",
    "\n",
    "df.pivot_table( index = \"Countries\" , values = \"Sales\" , columns = \"Year\" , aggfunc = \"sum\")"
   ]
  },
  {
   "cell_type": "code",
   "execution_count": 62,
   "id": "0eb1770b",
   "metadata": {},
   "outputs": [
    {
     "name": "stdout",
     "output_type": "stream",
     "text": [
      "Q                  Q1           Q2           Q3           Q4\n",
      "Countries                                                   \n",
      "Australia  31496000.0    3375000.0   14317000.0          NaN\n",
      "Brazil     30732100.0   18712000.0    9140000.0   16961500.0\n",
      "Canada      5485500.0   80637500.0    5865000.0          NaN\n",
      "Russia     57880500.0   75092000.0  233481000.0  406213500.0\n",
      "USA        24887500.0  103105000.0          NaN          NaN\n",
      "===============================================\n",
      "Through initial Analysis on our Dataset, we've noticed that in Australia & USA We have on Revenues in Q-4\n"
     ]
    }
   ],
   "source": [
    "# Presenting Total Sales by Counrtries & Quarters\n",
    "\n",
    "print(df.pivot_table( index = \"Countries\" , values = \"Sales\" , columns = \"Q\" , aggfunc = \"sum\"))\n",
    "\n",
    "print(\"===============================================\")\n",
    "\n",
    "print(\"Through initial Analysis on our Dataset, we've noticed that in Australia & USA We have on Revenues in Q-4\")"
   ]
  },
  {
   "cell_type": "code",
   "execution_count": 68,
   "id": "82b34384",
   "metadata": {},
   "outputs": [
    {
     "data": {
      "application/vnd.plotly.v1+json": {
       "config": {
        "plotlyServerURL": "https://plot.ly"
       },
       "data": [
        {
         "domain": {
          "x": [
           0,
           1
          ],
          "y": [
           0,
           1
          ]
         },
         "hovertemplate": "Q=%{label}<br>Sales=%{value}<extra></extra>",
         "labels": [
          "Q2",
          "Q2",
          "Q2",
          "Q2",
          "Q2",
          "Q3",
          "Q3",
          "Q3",
          "Q3",
          "Q3",
          "Q3",
          "Q4",
          "Q4",
          "Q4",
          "Q4",
          "Q4",
          "Q4",
          "Q4",
          "Q4",
          "Q4",
          "Q4",
          "Q4",
          "Q1",
          "Q1",
          "Q1",
          "Q1",
          "Q2",
          "Q2",
          "Q2",
          "Q2",
          "Q3",
          "Q3",
          "Q3",
          "Q3",
          "Q4",
          "Q4",
          "Q4",
          "Q4",
          "Q1",
          "Q1",
          "Q1",
          "Q1",
          "Q1",
          "Q1",
          "Q1",
          "Q2",
          "Q2",
          "Q2",
          "Q2",
          "Q2",
          "Q3",
          "Q3",
          "Q3",
          "Q3",
          "Q3",
          "Q3",
          "Q4",
          "Q4",
          "Q4",
          "Q4",
          "Q4",
          "Q4",
          "Q4",
          "Q4",
          "Q4",
          "Q4",
          "Q4",
          "Q1",
          "Q1",
          "Q1",
          "Q1",
          "Q2",
          "Q2",
          "Q2",
          "Q2",
          "Q3",
          "Q3",
          "Q3",
          "Q3",
          "Q4",
          "Q4",
          "Q4",
          "Q4",
          "Q2",
          "Q3",
          "Q3",
          "Q3",
          "Q3",
          "Q3",
          "Q3",
          "Q4",
          "Q4",
          "Q4",
          "Q4",
          "Q4",
          "Q4",
          "Q4",
          "Q4",
          "Q4",
          "Q4",
          "Q4",
          "Q1",
          "Q1",
          "Q1",
          "Q1",
          "Q2",
          "Q2",
          "Q2",
          "Q2",
          "Q3",
          "Q3",
          "Q3",
          "Q3",
          "Q4",
          "Q4",
          "Q4",
          "Q4",
          "Q3",
          "Q3",
          "Q3",
          "Q3",
          "Q3",
          "Q3",
          "Q3",
          "Q3",
          "Q4",
          "Q4",
          "Q4",
          "Q4",
          "Q4",
          "Q4",
          "Q4",
          "Q4",
          "Q4",
          "Q4",
          "Q4",
          "Q4",
          "Q4",
          "Q4",
          "Q4",
          "Q4",
          "Q4",
          "Q4",
          "Q4",
          "Q4",
          "Q4",
          "Q4",
          "Q4",
          "Q4",
          "Q4",
          "Q4",
          "Q4",
          "Q4",
          "Q4",
          "Q4",
          "Q1",
          "Q1",
          "Q2",
          "Q2",
          "Q2",
          "Q2",
          "Q2",
          "Q2",
          "Q3",
          "Q3",
          "Q3",
          "Q3",
          "Q3",
          "Q3",
          "Q3",
          "Q3",
          "Q3",
          "Q4",
          "Q4",
          "Q4",
          "Q4",
          "Q4",
          "Q4",
          "Q4",
          "Q4",
          "Q4",
          "Q1",
          "Q1",
          "Q1",
          "Q1",
          "Q1",
          "Q1",
          "Q1",
          "Q2",
          "Q2",
          "Q1",
          "Q1",
          "Q1",
          "Q1",
          "Q1",
          "Q1",
          "Q1",
          "Q1",
          "Q1",
          "Q1",
          "Q1",
          "Q1",
          "Q1",
          "Q1",
          "Q1",
          "Q1",
          "Q1",
          "Q1",
          "Q2",
          "Q2",
          "Q2",
          "Q2",
          "Q2",
          "Q2",
          "Q2",
          "Q2",
          "Q2",
          "Q2",
          "Q2",
          "Q2",
          "Q2",
          "Q2",
          "Q2",
          "Q2",
          "Q2",
          "Q2",
          "Q2",
          "Q2",
          "Q3",
          "Q3",
          "Q3",
          "Q3",
          "Q3",
          "Q3",
          "Q4",
          "Q1",
          "Q1",
          "Q1",
          "Q1",
          "Q2",
          "Q2",
          "Q2",
          "Q2",
          "Q3",
          "Q3",
          "Q3",
          "Q3",
          "Q4",
          "Q4",
          "Q4",
          "Q4",
          "Q4",
          "Q1",
          "Q1",
          "Q1",
          "Q1",
          "Q1",
          "Q1",
          "Q1",
          "Q1",
          "Q1",
          "Q1",
          "Q1",
          "Q1",
          "Q1",
          "Q1",
          "Q1",
          "Q1",
          "Q1",
          "Q1",
          "Q1",
          "Q2",
          "Q2",
          "Q2",
          "Q2",
          "Q2",
          "Q2",
          "Q2",
          "Q2",
          "Q2",
          "Q2",
          "Q2",
          "Q2",
          "Q2",
          "Q2",
          "Q2",
          "Q3",
          "Q3",
          "Q2",
          "Q2",
          "Q2",
          "Q2",
          "Q3",
          "Q3",
          "Q3",
          "Q3",
          "Q3",
          "Q3",
          "Q3",
          "Q3",
          "Q3",
          "Q3",
          "Q3",
          "Q4",
          "Q4",
          "Q4",
          "Q4",
          "Q4",
          "Q4",
          "Q4",
          "Q4",
          "Q4",
          "Q4",
          "Q4",
          "Q4",
          "Q4",
          "Q4",
          "Q4",
          "Q4",
          "Q4",
          "Q4",
          "Q4",
          "Q4",
          "Q4",
          "Q4",
          "Q4",
          "Q4",
          "Q1",
          "Q1",
          "Q1",
          "Q1",
          "Q1",
          "Q1",
          "Q1",
          "Q1",
          "Q1",
          "Q1",
          "Q1",
          "Q1",
          "Q1",
          "Q1",
          "Q2",
          "Q2",
          "Q2",
          "Q2",
          "Q2",
          "Q2",
          "Q2",
          "Q2",
          "Q2",
          "Q2",
          "Q3",
          "Q3",
          "Q3",
          "Q3",
          "Q3",
          "Q3",
          "Q3",
          "Q3",
          "Q4",
          "Q4",
          "Q4",
          "Q4",
          "Q4",
          "Q4",
          "Q4",
          "Q4",
          "Q4"
         ],
         "legendgroup": "",
         "name": "",
         "showlegend": true,
         "type": "pie",
         "values": [
          350000,
          450000,
          350000,
          450000,
          350000,
          450000,
          350000,
          450000,
          350000,
          495000,
          385000,
          495000,
          385000,
          495000,
          385000,
          495000,
          385000,
          495000,
          385000,
          495000,
          385000,
          495000,
          385000,
          540000,
          420000,
          540000,
          420000,
          540000,
          420000,
          540000,
          420000,
          540000,
          420000,
          585000,
          455000,
          585000,
          455000,
          552500,
          315000,
          399600,
          450000,
          351000,
          310500,
          405000,
          315000,
          405000,
          360000,
          450000,
          360000,
          450000,
          360000,
          450000,
          360000,
          450000,
          360000,
          500000,
          400000,
          500000,
          400000,
          500000,
          400000,
          500000,
          400000,
          500000,
          400000,
          550000,
          440000,
          550000,
          440000,
          550000,
          440000,
          550000,
          440000,
          550000,
          480000,
          600000,
          480000,
          600000,
          480000,
          600000,
          480000,
          600000,
          480000,
          247500,
          175000,
          247500,
          175000,
          247500,
          175000,
          247500,
          175000,
          247500,
          175000,
          247500,
          175000,
          247500,
          175000,
          247500,
          175000,
          297000,
          210000,
          297000,
          210000,
          297000,
          210000,
          297000,
          210000,
          297000,
          210000,
          297000,
          210000,
          346500,
          245000,
          346500,
          245000,
          346500,
          245000,
          5850000,
          5772000,
          3750000,
          5850000,
          3500000,
          8085000,
          5772000,
          3750000,
          8400000,
          5850000,
          3500000,
          8085000,
          5772000,
          3750000,
          8400000,
          5850000,
          3500000,
          8085000,
          5772000,
          3750000,
          8400000,
          5850000,
          3500000,
          8085000,
          5772000,
          3750000,
          8400000,
          5850000,
          3500000,
          8085000,
          5772000,
          3750000,
          8400000,
          5850000,
          3500000,
          8085000,
          5772000,
          5850000,
          5772000,
          3120000,
          2600000,
          3120000,
          2600000,
          8900000,
          3120000,
          6900000,
          2600000,
          8900000,
          3120000,
          6900000,
          2600000,
          8900000,
          3120000,
          6900000,
          2600000,
          8900000,
          3120000,
          6900000,
          2600000,
          8900000,
          3120000,
          6900000,
          400000,
          20000,
          360000,
          308000,
          396000,
          300000,
          360000,
          320000,
          400000,
          320000,
          400000,
          9000,
          18000,
          25500,
          9000,
          18000,
          51000,
          22500,
          18000,
          17000,
          13500,
          30000,
          17000,
          2700000,
          2400000,
          1275000,
          3150000,
          5328000,
          7565000,
          3375000,
          5400000,
          5865000,
          3150000,
          5328000,
          7565000,
          3375000,
          5400000,
          5865000,
          3150000,
          5328000,
          7565000,
          3375000,
          5400000,
          5865000,
          3150000,
          5328000,
          7565000,
          3375000,
          5400000,
          5865000,
          3150000,
          5328000,
          7565000,
          3375000,
          3150000,
          7600000,
          7315000,
          7600000,
          7315000,
          7600000,
          7315000,
          7600000,
          7315000,
          7600000,
          7315000,
          7600000,
          7315000,
          7600000,
          7315000,
          7600000,
          7315000,
          7600000,
          1425000,
          160000,
          9000,
          30000,
          130000,
          9000,
          30000,
          178000,
          9000,
          15000,
          140000,
          6000,
          30000,
          160000,
          900000,
          1875000,
          140000,
          1950000,
          5775000,
          198000,
          2340000,
          6000000,
          140000,
          1950000,
          5775000,
          198000,
          2340000,
          6000000,
          140000,
          1950000,
          198000,
          2340000,
          140000,
          1950000,
          2340000,
          1950000,
          2340000,
          6545000,
          6800000,
          6545000,
          6800000,
          6545000,
          6800000,
          6210000,
          2275000,
          6545000,
          8010000,
          2730000,
          6800000,
          6210000,
          2275000,
          8010000,
          2730000,
          6210000,
          2275000,
          8010000,
          2730000,
          6210000,
          2275000,
          8010000,
          2730000,
          6210000,
          2275000,
          8010000,
          2730000,
          6210000,
          2275000,
          8010000,
          2730000,
          6210000,
          2275000,
          8010000,
          3000000,
          2730000,
          6210000,
          2800000,
          2275000,
          8010000,
          3000000,
          2730000,
          6750000,
          6210000,
          2800000,
          2275000,
          6660000,
          8010000,
          3000000,
          6750000,
          6210000,
          2800000,
          6660000,
          8010000,
          3000000,
          6750000,
          6210000,
          2800000,
          6660000,
          3000000,
          6750000,
          2800000,
          6660000,
          3000000,
          6750000,
          2800000,
          6660000,
          3000000,
          6750000,
          2800000,
          6660000,
          3000000,
          6750000,
          2800000,
          6660000,
          3000000,
          6750000,
          420000,
          22500
         ]
        }
       ],
       "layout": {
        "legend": {
         "tracegroupgap": 0
        },
        "piecolorway": [
         "rgb(141,211,199)",
         "rgb(255,255,179)",
         "rgb(190,186,218)",
         "rgb(251,128,114)",
         "rgb(128,177,211)",
         "rgb(253,180,98)",
         "rgb(179,222,105)",
         "rgb(252,205,229)",
         "rgb(217,217,217)",
         "rgb(188,128,189)",
         "rgb(204,235,197)",
         "rgb(255,237,111)"
        ],
        "template": {
         "data": {
          "bar": [
           {
            "error_x": {
             "color": "#2a3f5f"
            },
            "error_y": {
             "color": "#2a3f5f"
            },
            "marker": {
             "line": {
              "color": "#E5ECF6",
              "width": 0.5
             },
             "pattern": {
              "fillmode": "overlay",
              "size": 10,
              "solidity": 0.2
             }
            },
            "type": "bar"
           }
          ],
          "barpolar": [
           {
            "marker": {
             "line": {
              "color": "#E5ECF6",
              "width": 0.5
             },
             "pattern": {
              "fillmode": "overlay",
              "size": 10,
              "solidity": 0.2
             }
            },
            "type": "barpolar"
           }
          ],
          "carpet": [
           {
            "aaxis": {
             "endlinecolor": "#2a3f5f",
             "gridcolor": "white",
             "linecolor": "white",
             "minorgridcolor": "white",
             "startlinecolor": "#2a3f5f"
            },
            "baxis": {
             "endlinecolor": "#2a3f5f",
             "gridcolor": "white",
             "linecolor": "white",
             "minorgridcolor": "white",
             "startlinecolor": "#2a3f5f"
            },
            "type": "carpet"
           }
          ],
          "choropleth": [
           {
            "colorbar": {
             "outlinewidth": 0,
             "ticks": ""
            },
            "type": "choropleth"
           }
          ],
          "contour": [
           {
            "colorbar": {
             "outlinewidth": 0,
             "ticks": ""
            },
            "colorscale": [
             [
              0,
              "#0d0887"
             ],
             [
              0.1111111111111111,
              "#46039f"
             ],
             [
              0.2222222222222222,
              "#7201a8"
             ],
             [
              0.3333333333333333,
              "#9c179e"
             ],
             [
              0.4444444444444444,
              "#bd3786"
             ],
             [
              0.5555555555555556,
              "#d8576b"
             ],
             [
              0.6666666666666666,
              "#ed7953"
             ],
             [
              0.7777777777777778,
              "#fb9f3a"
             ],
             [
              0.8888888888888888,
              "#fdca26"
             ],
             [
              1,
              "#f0f921"
             ]
            ],
            "type": "contour"
           }
          ],
          "contourcarpet": [
           {
            "colorbar": {
             "outlinewidth": 0,
             "ticks": ""
            },
            "type": "contourcarpet"
           }
          ],
          "heatmap": [
           {
            "colorbar": {
             "outlinewidth": 0,
             "ticks": ""
            },
            "colorscale": [
             [
              0,
              "#0d0887"
             ],
             [
              0.1111111111111111,
              "#46039f"
             ],
             [
              0.2222222222222222,
              "#7201a8"
             ],
             [
              0.3333333333333333,
              "#9c179e"
             ],
             [
              0.4444444444444444,
              "#bd3786"
             ],
             [
              0.5555555555555556,
              "#d8576b"
             ],
             [
              0.6666666666666666,
              "#ed7953"
             ],
             [
              0.7777777777777778,
              "#fb9f3a"
             ],
             [
              0.8888888888888888,
              "#fdca26"
             ],
             [
              1,
              "#f0f921"
             ]
            ],
            "type": "heatmap"
           }
          ],
          "heatmapgl": [
           {
            "colorbar": {
             "outlinewidth": 0,
             "ticks": ""
            },
            "colorscale": [
             [
              0,
              "#0d0887"
             ],
             [
              0.1111111111111111,
              "#46039f"
             ],
             [
              0.2222222222222222,
              "#7201a8"
             ],
             [
              0.3333333333333333,
              "#9c179e"
             ],
             [
              0.4444444444444444,
              "#bd3786"
             ],
             [
              0.5555555555555556,
              "#d8576b"
             ],
             [
              0.6666666666666666,
              "#ed7953"
             ],
             [
              0.7777777777777778,
              "#fb9f3a"
             ],
             [
              0.8888888888888888,
              "#fdca26"
             ],
             [
              1,
              "#f0f921"
             ]
            ],
            "type": "heatmapgl"
           }
          ],
          "histogram": [
           {
            "marker": {
             "pattern": {
              "fillmode": "overlay",
              "size": 10,
              "solidity": 0.2
             }
            },
            "type": "histogram"
           }
          ],
          "histogram2d": [
           {
            "colorbar": {
             "outlinewidth": 0,
             "ticks": ""
            },
            "colorscale": [
             [
              0,
              "#0d0887"
             ],
             [
              0.1111111111111111,
              "#46039f"
             ],
             [
              0.2222222222222222,
              "#7201a8"
             ],
             [
              0.3333333333333333,
              "#9c179e"
             ],
             [
              0.4444444444444444,
              "#bd3786"
             ],
             [
              0.5555555555555556,
              "#d8576b"
             ],
             [
              0.6666666666666666,
              "#ed7953"
             ],
             [
              0.7777777777777778,
              "#fb9f3a"
             ],
             [
              0.8888888888888888,
              "#fdca26"
             ],
             [
              1,
              "#f0f921"
             ]
            ],
            "type": "histogram2d"
           }
          ],
          "histogram2dcontour": [
           {
            "colorbar": {
             "outlinewidth": 0,
             "ticks": ""
            },
            "colorscale": [
             [
              0,
              "#0d0887"
             ],
             [
              0.1111111111111111,
              "#46039f"
             ],
             [
              0.2222222222222222,
              "#7201a8"
             ],
             [
              0.3333333333333333,
              "#9c179e"
             ],
             [
              0.4444444444444444,
              "#bd3786"
             ],
             [
              0.5555555555555556,
              "#d8576b"
             ],
             [
              0.6666666666666666,
              "#ed7953"
             ],
             [
              0.7777777777777778,
              "#fb9f3a"
             ],
             [
              0.8888888888888888,
              "#fdca26"
             ],
             [
              1,
              "#f0f921"
             ]
            ],
            "type": "histogram2dcontour"
           }
          ],
          "mesh3d": [
           {
            "colorbar": {
             "outlinewidth": 0,
             "ticks": ""
            },
            "type": "mesh3d"
           }
          ],
          "parcoords": [
           {
            "line": {
             "colorbar": {
              "outlinewidth": 0,
              "ticks": ""
             }
            },
            "type": "parcoords"
           }
          ],
          "pie": [
           {
            "automargin": true,
            "type": "pie"
           }
          ],
          "scatter": [
           {
            "fillpattern": {
             "fillmode": "overlay",
             "size": 10,
             "solidity": 0.2
            },
            "type": "scatter"
           }
          ],
          "scatter3d": [
           {
            "line": {
             "colorbar": {
              "outlinewidth": 0,
              "ticks": ""
             }
            },
            "marker": {
             "colorbar": {
              "outlinewidth": 0,
              "ticks": ""
             }
            },
            "type": "scatter3d"
           }
          ],
          "scattercarpet": [
           {
            "marker": {
             "colorbar": {
              "outlinewidth": 0,
              "ticks": ""
             }
            },
            "type": "scattercarpet"
           }
          ],
          "scattergeo": [
           {
            "marker": {
             "colorbar": {
              "outlinewidth": 0,
              "ticks": ""
             }
            },
            "type": "scattergeo"
           }
          ],
          "scattergl": [
           {
            "marker": {
             "colorbar": {
              "outlinewidth": 0,
              "ticks": ""
             }
            },
            "type": "scattergl"
           }
          ],
          "scattermapbox": [
           {
            "marker": {
             "colorbar": {
              "outlinewidth": 0,
              "ticks": ""
             }
            },
            "type": "scattermapbox"
           }
          ],
          "scatterpolar": [
           {
            "marker": {
             "colorbar": {
              "outlinewidth": 0,
              "ticks": ""
             }
            },
            "type": "scatterpolar"
           }
          ],
          "scatterpolargl": [
           {
            "marker": {
             "colorbar": {
              "outlinewidth": 0,
              "ticks": ""
             }
            },
            "type": "scatterpolargl"
           }
          ],
          "scatterternary": [
           {
            "marker": {
             "colorbar": {
              "outlinewidth": 0,
              "ticks": ""
             }
            },
            "type": "scatterternary"
           }
          ],
          "surface": [
           {
            "colorbar": {
             "outlinewidth": 0,
             "ticks": ""
            },
            "colorscale": [
             [
              0,
              "#0d0887"
             ],
             [
              0.1111111111111111,
              "#46039f"
             ],
             [
              0.2222222222222222,
              "#7201a8"
             ],
             [
              0.3333333333333333,
              "#9c179e"
             ],
             [
              0.4444444444444444,
              "#bd3786"
             ],
             [
              0.5555555555555556,
              "#d8576b"
             ],
             [
              0.6666666666666666,
              "#ed7953"
             ],
             [
              0.7777777777777778,
              "#fb9f3a"
             ],
             [
              0.8888888888888888,
              "#fdca26"
             ],
             [
              1,
              "#f0f921"
             ]
            ],
            "type": "surface"
           }
          ],
          "table": [
           {
            "cells": {
             "fill": {
              "color": "#EBF0F8"
             },
             "line": {
              "color": "white"
             }
            },
            "header": {
             "fill": {
              "color": "#C8D4E3"
             },
             "line": {
              "color": "white"
             }
            },
            "type": "table"
           }
          ]
         },
         "layout": {
          "annotationdefaults": {
           "arrowcolor": "#2a3f5f",
           "arrowhead": 0,
           "arrowwidth": 1
          },
          "autotypenumbers": "strict",
          "coloraxis": {
           "colorbar": {
            "outlinewidth": 0,
            "ticks": ""
           }
          },
          "colorscale": {
           "diverging": [
            [
             0,
             "#8e0152"
            ],
            [
             0.1,
             "#c51b7d"
            ],
            [
             0.2,
             "#de77ae"
            ],
            [
             0.3,
             "#f1b6da"
            ],
            [
             0.4,
             "#fde0ef"
            ],
            [
             0.5,
             "#f7f7f7"
            ],
            [
             0.6,
             "#e6f5d0"
            ],
            [
             0.7,
             "#b8e186"
            ],
            [
             0.8,
             "#7fbc41"
            ],
            [
             0.9,
             "#4d9221"
            ],
            [
             1,
             "#276419"
            ]
           ],
           "sequential": [
            [
             0,
             "#0d0887"
            ],
            [
             0.1111111111111111,
             "#46039f"
            ],
            [
             0.2222222222222222,
             "#7201a8"
            ],
            [
             0.3333333333333333,
             "#9c179e"
            ],
            [
             0.4444444444444444,
             "#bd3786"
            ],
            [
             0.5555555555555556,
             "#d8576b"
            ],
            [
             0.6666666666666666,
             "#ed7953"
            ],
            [
             0.7777777777777778,
             "#fb9f3a"
            ],
            [
             0.8888888888888888,
             "#fdca26"
            ],
            [
             1,
             "#f0f921"
            ]
           ],
           "sequentialminus": [
            [
             0,
             "#0d0887"
            ],
            [
             0.1111111111111111,
             "#46039f"
            ],
            [
             0.2222222222222222,
             "#7201a8"
            ],
            [
             0.3333333333333333,
             "#9c179e"
            ],
            [
             0.4444444444444444,
             "#bd3786"
            ],
            [
             0.5555555555555556,
             "#d8576b"
            ],
            [
             0.6666666666666666,
             "#ed7953"
            ],
            [
             0.7777777777777778,
             "#fb9f3a"
            ],
            [
             0.8888888888888888,
             "#fdca26"
            ],
            [
             1,
             "#f0f921"
            ]
           ]
          },
          "colorway": [
           "#636efa",
           "#EF553B",
           "#00cc96",
           "#ab63fa",
           "#FFA15A",
           "#19d3f3",
           "#FF6692",
           "#B6E880",
           "#FF97FF",
           "#FECB52"
          ],
          "font": {
           "color": "#2a3f5f"
          },
          "geo": {
           "bgcolor": "white",
           "lakecolor": "white",
           "landcolor": "#E5ECF6",
           "showlakes": true,
           "showland": true,
           "subunitcolor": "white"
          },
          "hoverlabel": {
           "align": "left"
          },
          "hovermode": "closest",
          "mapbox": {
           "style": "light"
          },
          "paper_bgcolor": "white",
          "plot_bgcolor": "#E5ECF6",
          "polar": {
           "angularaxis": {
            "gridcolor": "white",
            "linecolor": "white",
            "ticks": ""
           },
           "bgcolor": "#E5ECF6",
           "radialaxis": {
            "gridcolor": "white",
            "linecolor": "white",
            "ticks": ""
           }
          },
          "scene": {
           "xaxis": {
            "backgroundcolor": "#E5ECF6",
            "gridcolor": "white",
            "gridwidth": 2,
            "linecolor": "white",
            "showbackground": true,
            "ticks": "",
            "zerolinecolor": "white"
           },
           "yaxis": {
            "backgroundcolor": "#E5ECF6",
            "gridcolor": "white",
            "gridwidth": 2,
            "linecolor": "white",
            "showbackground": true,
            "ticks": "",
            "zerolinecolor": "white"
           },
           "zaxis": {
            "backgroundcolor": "#E5ECF6",
            "gridcolor": "white",
            "gridwidth": 2,
            "linecolor": "white",
            "showbackground": true,
            "ticks": "",
            "zerolinecolor": "white"
           }
          },
          "shapedefaults": {
           "line": {
            "color": "#2a3f5f"
           }
          },
          "ternary": {
           "aaxis": {
            "gridcolor": "white",
            "linecolor": "white",
            "ticks": ""
           },
           "baxis": {
            "gridcolor": "white",
            "linecolor": "white",
            "ticks": ""
           },
           "bgcolor": "#E5ECF6",
           "caxis": {
            "gridcolor": "white",
            "linecolor": "white",
            "ticks": ""
           }
          },
          "title": {
           "x": 0.05
          },
          "xaxis": {
           "automargin": true,
           "gridcolor": "white",
           "linecolor": "white",
           "ticks": "",
           "title": {
            "standoff": 15
           },
           "zerolinecolor": "white",
           "zerolinewidth": 2
          },
          "yaxis": {
           "automargin": true,
           "gridcolor": "white",
           "linecolor": "white",
           "ticks": "",
           "title": {
            "standoff": 15
           },
           "zerolinecolor": "white",
           "zerolinewidth": 2
          }
         }
        },
        "title": {
         "text": "Sales by Quarter"
        }
       }
      },
      "text/html": [
       "<div>                            <div id=\"a513b5d0-3de1-4bd4-9e57-20a0a3dbc921\" class=\"plotly-graph-div\" style=\"height:525px; width:100%;\"></div>            <script type=\"text/javascript\">                require([\"plotly\"], function(Plotly) {                    window.PLOTLYENV=window.PLOTLYENV || {};                                    if (document.getElementById(\"a513b5d0-3de1-4bd4-9e57-20a0a3dbc921\")) {                    Plotly.newPlot(                        \"a513b5d0-3de1-4bd4-9e57-20a0a3dbc921\",                        [{\"domain\":{\"x\":[0.0,1.0],\"y\":[0.0,1.0]},\"hovertemplate\":\"Q=%{label}<br>Sales=%{value}<extra></extra>\",\"labels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legendgroup\":\"\",\"name\":\"\",\"showlegend\":true,\"values\":[350000,450000,350000,450000,350000,450000,350000,450000,350000,495000,385000,495000,385000,495000,385000,495000,385000,495000,385000,495000,385000,495000,385000,540000,420000,540000,420000,540000,420000,540000,420000,540000,420000,585000,455000,585000,455000,552500,315000,399600,450000,351000,310500,405000,315000,405000,360000,450000,360000,450000,360000,450000,360000,450000,360000,500000,400000,500000,400000,500000,400000,500000,400000,500000,400000,550000,440000,550000,440000,550000,440000,550000,440000,550000,480000,600000,480000,600000,480000,600000,480000,600000,480000,247500,175000,247500,175000,247500,175000,247500,175000,247500,175000,247500,175000,247500,175000,247500,175000,297000,210000,297000,210000,297000,210000,297000,210000,297000,210000,297000,210000,346500,245000,346500,245000,346500,245000,5850000,5772000,3750000,5850000,3500000,8085000,5772000,3750000,8400000,5850000,3500000,8085000,5772000,3750000,8400000,5850000,3500000,8085000,5772000,3750000,8400000,5850000,3500000,8085000,5772000,3750000,8400000,5850000,3500000,8085000,5772000,3750000,8400000,5850000,3500000,8085000,5772000,5850000,5772000,3120000,2600000,3120000,2600000,8900000,3120000,6900000,2600000,8900000,3120000,6900000,2600000,8900000,3120000,6900000,2600000,8900000,3120000,6900000,2600000,8900000,3120000,6900000,400000,20000,360000,308000,396000,300000,360000,320000,400000,320000,400000,9000,18000,25500,9000,18000,51000,22500,18000,17000,13500,30000,17000,2700000,2400000,1275000,3150000,5328000,7565000,3375000,5400000,5865000,3150000,5328000,7565000,3375000,5400000,5865000,3150000,5328000,7565000,3375000,5400000,5865000,3150000,5328000,7565000,3375000,5400000,5865000,3150000,5328000,7565000,3375000,3150000,7600000,7315000,7600000,7315000,7600000,7315000,7600000,7315000,7600000,7315000,7600000,7315000,7600000,7315000,7600000,7315000,7600000,1425000,160000,9000,30000,130000,9000,30000,178000,9000,15000,140000,6000,30000,160000,900000,1875000,140000,1950000,5775000,198000,2340000,6000000,140000,1950000,5775000,198000,2340000,6000000,140000,1950000,198000,2340000,140000,1950000,2340000,1950000,2340000,6545000,6800000,6545000,6800000,6545000,6800000,6210000,2275000,6545000,8010000,2730000,6800000,6210000,2275000,8010000,2730000,6210000,2275000,8010000,2730000,6210000,2275000,8010000,2730000,6210000,2275000,8010000,2730000,6210000,2275000,8010000,2730000,6210000,2275000,8010000,3000000,2730000,6210000,2800000,2275000,8010000,3000000,2730000,6750000,6210000,2800000,2275000,6660000,8010000,3000000,6750000,6210000,2800000,6660000,8010000,3000000,6750000,6210000,2800000,6660000,3000000,6750000,2800000,6660000,3000000,6750000,2800000,6660000,3000000,6750000,2800000,6660000,3000000,6750000,2800000,6660000,3000000,6750000,420000,22500],\"type\":\"pie\"}],                        {\"template\":{\"data\":{\"histogram2dcontour\":[{\"type\":\"histogram2dcontour\",\"colorbar\":{\"outlinewidth\":0,\"ticks\":\"\"},\"colorscale\":[[0.0,\"#0d0887\"],[0.1111111111111111,\"#46039f\"],[0.2222222222222222,\"#7201a8\"],[0.3333333333333333,\"#9c179e\"],[0.4444444444444444,\"#bd3786\"],[0.5555555555555556,\"#d8576b\"],[0.6666666666666666,\"#ed7953\"],[0.7777777777777778,\"#fb9f3a\"],[0.8888888888888888,\"#fdca26\"],[1.0,\"#f0f921\"]]}],\"choropleth\":[{\"type\":\"choropleth\",\"colorbar\":{\"outlinewidth\":0,\"ticks\":\"\"}}],\"histogram2d\":[{\"type\":\"histogram2d\",\"colorbar\":{\"outlinewidth\":0,\"ticks\":\"\"},\"colorscale\":[[0.0,\"#0d0887\"],[0.1111111111111111,\"#46039f\"],[0.2222222222222222,\"#7201a8\"],[0.3333333333333333,\"#9c179e\"],[0.4444444444444444,\"#bd3786\"],[0.5555555555555556,\"#d8576b\"],[0.6666666666666666,\"#ed7953\"],[0.7777777777777778,\"#fb9f3a\"],[0.8888888888888888,\"#fdca26\"],[1.0,\"#f0f921\"]]}],\"heatmap\":[{\"type\":\"heatmap\",\"colorbar\":{\"outlinewidth\":0,\"ticks\":\"\"},\"colorscale\":[[0.0,\"#0d0887\"],[0.1111111111111111,\"#46039f\"],[0.2222222222222222,\"#7201a8\"],[0.3333333333333333,\"#9c179e\"],[0.4444444444444444,\"#bd3786\"],[0.5555555555555556,\"#d8576b\"],[0.6666666666666666,\"#ed7953\"],[0.7777777777777778,\"#fb9f3a\"],[0.8888888888888888,\"#fdca26\"],[1.0,\"#f0f921\"]]}],\"heatmapgl\":[{\"type\":\"heatmapgl\",\"colorbar\":{\"outlinewidth\":0,\"ticks\":\"\"},\"colorscale\":[[0.0,\"#0d0887\"],[0.1111111111111111,\"#46039f\"],[0.2222222222222222,\"#7201a8\"],[0.3333333333333333,\"#9c179e\"],[0.4444444444444444,\"#bd3786\"],[0.5555555555555556,\"#d8576b\"],[0.6666666666666666,\"#ed7953\"],[0.7777777777777778,\"#fb9f3a\"],[0.8888888888888888,\"#fdca26\"],[1.0,\"#f0f921\"]]}],\"contourcarpet\":[{\"type\":\"contourcarpet\",\"colorbar\":{\"outlinewidth\":0,\"ticks\":\"\"}}],\"contour\":[{\"type\":\"contour\",\"colorbar\":{\"outlinewidth\":0,\"ticks\":\"\"},\"colorscale\":[[0.0,\"#0d0887\"],[0.1111111111111111,\"#46039f\"],[0.2222222222222222,\"#7201a8\"],[0.3333333333333333,\"#9c179e\"],[0.4444444444444444,\"#bd3786\"],[0.5555555555555556,\"#d8576b\"],[0.6666666666666666,\"#ed7953\"],[0.7777777777777778,\"#fb9f3a\"],[0.8888888888888888,\"#fdca26\"],[1.0,\"#f0f921\"]]}],\"surface\":[{\"type\":\"surface\",\"colorbar\":{\"outlinewidth\":0,\"ticks\":\"\"},\"colorscale\":[[0.0,\"#0d0887\"],[0.1111111111111111,\"#46039f\"],[0.2222222222222222,\"#7201a8\"],[0.3333333333333333,\"#9c179e\"],[0.4444444444444444,\"#bd3786\"],[0.5555555555555556,\"#d8576b\"],[0.6666666666666666,\"#ed7953\"],[0.7777777777777778,\"#fb9f3a\"],[0.8888888888888888,\"#fdca26\"],[1.0,\"#f0f921\"]]}],\"mesh3d\":[{\"type\":\"mesh3d\",\"colorbar\":{\"outlinewidth\":0,\"ticks\":\"\"}}],\"scatter\":[{\"fillpattern\":{\"fillmode\":\"overlay\",\"size\":10,\"solidity\":0.2},\"type\":\"scatter\"}],\"parcoords\":[{\"type\":\"parcoords\",\"line\":{\"colorbar\":{\"outlinewidth\":0,\"ticks\":\"\"}}}],\"scatterpolargl\":[{\"type\":\"scatterpolargl\",\"marker\":{\"colorbar\":{\"outlinewidth\":0,\"ticks\":\"\"}}}],\"bar\":[{\"error_x\":{\"color\":\"#2a3f5f\"},\"error_y\":{\"color\":\"#2a3f5f\"},\"marker\":{\"line\":{\"color\":\"#E5ECF6\",\"width\":0.5},\"pattern\":{\"fillmode\":\"overlay\",\"size\":10,\"solidity\":0.2}},\"type\":\"bar\"}],\"scattergeo\":[{\"type\":\"scattergeo\",\"marker\":{\"colorbar\":{\"outlinewidth\":0,\"ticks\":\"\"}}}],\"scatterpolar\":[{\"type\":\"scatterpolar\",\"marker\":{\"colorbar\":{\"outlinewidth\":0,\"ticks\":\"\"}}}],\"histogram\":[{\"marker\":{\"pattern\":{\"fillmode\":\"overlay\",\"size\":10,\"solidity\":0.2}},\"type\":\"histogram\"}],\"scattergl\":[{\"type\":\"scattergl\",\"marker\":{\"colorbar\":{\"outlinewidth\":0,\"ticks\":\"\"}}}],\"scatter3d\":[{\"type\":\"scatter3d\",\"line\":{\"colorbar\":{\"outlinewidth\":0,\"ticks\":\"\"}},\"marker\":{\"colorbar\":{\"outlinewidth\":0,\"ticks\":\"\"}}}],\"scattermapbox\":[{\"type\":\"scattermapbox\",\"marker\":{\"colorbar\":{\"outlinewidth\":0,\"ticks\":\"\"}}}],\"scatterternary\":[{\"type\":\"scatterternary\",\"marker\":{\"colorbar\":{\"outlinewidth\":0,\"ticks\":\"\"}}}],\"scattercarpet\":[{\"type\":\"scattercarpet\",\"marker\":{\"colorbar\":{\"outlinewidth\":0,\"ticks\":\"\"}}}],\"carpet\":[{\"aaxis\":{\"endlinecolor\":\"#2a3f5f\",\"gridcolor\":\"white\",\"linecolor\":\"white\",\"minorgridcolor\":\"white\",\"startlinecolor\":\"#2a3f5f\"},\"baxis\":{\"endlinecolor\":\"#2a3f5f\",\"gridcolor\":\"white\",\"linecolor\":\"white\",\"minorgridcolor\":\"white\",\"startlinecolor\":\"#2a3f5f\"},\"type\":\"carpet\"}],\"table\":[{\"cells\":{\"fill\":{\"color\":\"#EBF0F8\"},\"line\":{\"color\":\"white\"}},\"header\":{\"fill\":{\"color\":\"#C8D4E3\"},\"line\":{\"color\":\"white\"}},\"type\":\"table\"}],\"barpolar\":[{\"marker\":{\"line\":{\"color\":\"#E5ECF6\",\"width\":0.5},\"pattern\":{\"fillmode\":\"overlay\",\"size\":10,\"solidity\":0.2}},\"type\":\"barpolar\"}],\"pie\":[{\"automargin\":true,\"type\":\"pie\"}]},\"layout\":{\"autotypenumbers\":\"strict\",\"colorway\":[\"#636efa\",\"#EF553B\",\"#00cc96\",\"#ab63fa\",\"#FFA15A\",\"#19d3f3\",\"#FF6692\",\"#B6E880\",\"#FF97FF\",\"#FECB52\"],\"font\":{\"color\":\"#2a3f5f\"},\"hovermode\":\"closest\",\"hoverlabel\":{\"align\":\"left\"},\"paper_bgcolor\":\"white\",\"plot_bgcolor\":\"#E5ECF6\",\"polar\":{\"bgcolor\":\"#E5ECF6\",\"angularaxis\":{\"gridcolor\":\"white\",\"linecolor\":\"white\",\"ticks\":\"\"},\"radialaxis\":{\"gridcolor\":\"white\",\"linecolor\":\"white\",\"ticks\":\"\"}},\"ternary\":{\"bgcolor\":\"#E5ECF6\",\"aaxis\":{\"gridcolor\":\"white\",\"linecolor\":\"white\",\"ticks\":\"\"},\"baxis\":{\"gridcolor\":\"white\",\"linecolor\":\"white\",\"ticks\":\"\"},\"caxis\":{\"gridcolor\":\"white\",\"linecolor\":\"white\",\"ticks\":\"\"}},\"coloraxis\":{\"colorbar\":{\"outlinewidth\":0,\"ticks\":\"\"}},\"colorscale\":{\"sequential\":[[0.0,\"#0d0887\"],[0.1111111111111111,\"#46039f\"],[0.2222222222222222,\"#7201a8\"],[0.3333333333333333,\"#9c179e\"],[0.4444444444444444,\"#bd3786\"],[0.5555555555555556,\"#d8576b\"],[0.6666666666666666,\"#ed7953\"],[0.7777777777777778,\"#fb9f3a\"],[0.8888888888888888,\"#fdca26\"],[1.0,\"#f0f921\"]],\"sequentialminus\":[[0.0,\"#0d0887\"],[0.1111111111111111,\"#46039f\"],[0.2222222222222222,\"#7201a8\"],[0.3333333333333333,\"#9c179e\"],[0.4444444444444444,\"#bd3786\"],[0.5555555555555556,\"#d8576b\"],[0.6666666666666666,\"#ed7953\"],[0.7777777777777778,\"#fb9f3a\"],[0.8888888888888888,\"#fdca26\"],[1.0,\"#f0f921\"]],\"diverging\":[[0,\"#8e0152\"],[0.1,\"#c51b7d\"],[0.2,\"#de77ae\"],[0.3,\"#f1b6da\"],[0.4,\"#fde0ef\"],[0.5,\"#f7f7f7\"],[0.6,\"#e6f5d0\"],[0.7,\"#b8e186\"],[0.8,\"#7fbc41\"],[0.9,\"#4d9221\"],[1,\"#276419\"]]},\"xaxis\":{\"gridcolor\":\"white\",\"linecolor\":\"white\",\"ticks\":\"\",\"title\":{\"standoff\":15},\"zerolinecolor\":\"white\",\"automargin\":true,\"zerolinewidth\":2},\"yaxis\":{\"gridcolor\":\"white\",\"linecolor\":\"white\",\"ticks\":\"\",\"title\":{\"standoff\":15},\"zerolinecolor\":\"white\",\"automargin\":true,\"zerolinewidth\":2},\"scene\":{\"xaxis\":{\"backgroundcolor\":\"#E5ECF6\",\"gridcolor\":\"white\",\"linecolor\":\"white\",\"showbackground\":true,\"ticks\":\"\",\"zerolinecolor\":\"white\",\"gridwidth\":2},\"yaxis\":{\"backgroundcolor\":\"#E5ECF6\",\"gridcolor\":\"white\",\"linecolor\":\"white\",\"showbackground\":true,\"ticks\":\"\",\"zerolinecolor\":\"white\",\"gridwidth\":2},\"zaxis\":{\"backgroundcolor\":\"#E5ECF6\",\"gridcolor\":\"white\",\"linecolor\":\"white\",\"showbackground\":true,\"ticks\":\"\",\"zerolinecolor\":\"white\",\"gridwidth\":2}},\"shapedefaults\":{\"line\":{\"color\":\"#2a3f5f\"}},\"annotationdefaults\":{\"arrowcolor\":\"#2a3f5f\",\"arrowhead\":0,\"arrowwidth\":1},\"geo\":{\"bgcolor\":\"white\",\"landcolor\":\"#E5ECF6\",\"subunitcolor\":\"white\",\"showland\":true,\"showlakes\":true,\"lakecolor\":\"white\"},\"title\":{\"x\":0.05},\"mapbox\":{\"style\":\"light\"}}},\"legend\":{\"tracegroupgap\":0},\"title\":{\"text\":\"Sales by Quarter\"},\"piecolorway\":[\"rgb(141,211,199)\",\"rgb(255,255,179)\",\"rgb(190,186,218)\",\"rgb(251,128,114)\",\"rgb(128,177,211)\",\"rgb(253,180,98)\",\"rgb(179,222,105)\",\"rgb(252,205,229)\",\"rgb(217,217,217)\",\"rgb(188,128,189)\",\"rgb(204,235,197)\",\"rgb(255,237,111)\"]},                        {\"responsive\": true}                    ).then(function(){\n",
       "                            \n",
       "var gd = document.getElementById('a513b5d0-3de1-4bd4-9e57-20a0a3dbc921');\n",
       "var x = new MutationObserver(function (mutations, observer) {{\n",
       "        var display = window.getComputedStyle(gd).display;\n",
       "        if (!display || display === 'none') {{\n",
       "            console.log([gd, 'removed!']);\n",
       "            Plotly.purge(gd);\n",
       "            observer.disconnect();\n",
       "        }}\n",
       "}});\n",
       "\n",
       "// Listen for the removal of the full notebook cells\n",
       "var notebookContainer = gd.closest('#notebook-container');\n",
       "if (notebookContainer) {{\n",
       "    x.observe(notebookContainer, {childList: true});\n",
       "}}\n",
       "\n",
       "// Listen for the clearing of the current output cell\n",
       "var outputEl = gd.closest('.output');\n",
       "if (outputEl) {{\n",
       "    x.observe(outputEl, {childList: true});\n",
       "}}\n",
       "\n",
       "                        })                };                });            </script>        </div>"
      ]
     },
     "metadata": {},
     "output_type": "display_data"
    }
   ],
   "source": [
    "# Ploting a Pie Chart to Demonestrate Sales by Quarter\n",
    "\n",
    "fig = px.pie( data_frame = df , names = \"Q\" , values = \"Sales\" , title = \"Sales by Quarter\" , color_discrete_sequence = px.colors.qualitative.Set3)\n",
    "fig.show()"
   ]
  },
  {
   "cell_type": "code",
   "execution_count": 88,
   "id": "dba68d2d",
   "metadata": {},
   "outputs": [],
   "source": [
    "# Creating a Chart that Showcases our Sales by County\n",
    "\n",
    "Salesbycountry = df.groupby(['Month'] , as_index = False)['Sales'].sum().sort_values( by = \"Sales\" , ascending = False)\n",
    "Salesbycountry = pd.DataFrame(Salesbycountry)\n"
   ]
  },
  {
   "cell_type": "code",
   "execution_count": 89,
   "id": "ea769c48",
   "metadata": {},
   "outputs": [
    {
     "data": {
      "text/html": [
       "<div>\n",
       "<style scoped>\n",
       "    .dataframe tbody tr th:only-of-type {\n",
       "        vertical-align: middle;\n",
       "    }\n",
       "\n",
       "    .dataframe tbody tr th {\n",
       "        vertical-align: top;\n",
       "    }\n",
       "\n",
       "    .dataframe thead th {\n",
       "        text-align: right;\n",
       "    }\n",
       "</style>\n",
       "<table border=\"1\" class=\"dataframe\">\n",
       "  <thead>\n",
       "    <tr style=\"text-align: right;\">\n",
       "      <th></th>\n",
       "      <th>Month</th>\n",
       "      <th>Sales</th>\n",
       "    </tr>\n",
       "  </thead>\n",
       "  <tbody>\n",
       "    <tr>\n",
       "      <th>9</th>\n",
       "      <td>Nov</td>\n",
       "      <td>206794500</td>\n",
       "    </tr>\n",
       "    <tr>\n",
       "      <th>10</th>\n",
       "      <td>Oct</td>\n",
       "      <td>169445500</td>\n",
       "    </tr>\n",
       "    <tr>\n",
       "      <th>0</th>\n",
       "      <td>Apr</td>\n",
       "      <td>113458000</td>\n",
       "    </tr>\n",
       "    <tr>\n",
       "      <th>6</th>\n",
       "      <td>Jun</td>\n",
       "      <td>96630500</td>\n",
       "    </tr>\n",
       "    <tr>\n",
       "      <th>1</th>\n",
       "      <td>Aug</td>\n",
       "      <td>95491000</td>\n",
       "    </tr>\n",
       "  </tbody>\n",
       "</table>\n",
       "</div>"
      ],
      "text/plain": [
       "   Month      Sales\n",
       "9    Nov  206794500\n",
       "10   Oct  169445500\n",
       "0    Apr  113458000\n",
       "6    Jun   96630500\n",
       "1    Aug   95491000"
      ]
     },
     "execution_count": 89,
     "metadata": {},
     "output_type": "execute_result"
    }
   ],
   "source": [
    "Salesbycountry.head()"
   ]
  },
  {
   "cell_type": "code",
   "execution_count": 90,
   "id": "2770bae5",
   "metadata": {},
   "outputs": [
    {
     "data": {
      "application/vnd.plotly.v1+json": {
       "config": {
        "plotlyServerURL": "https://plot.ly"
       },
       "data": [
        {
         "alignmentgroup": "True",
         "hovertemplate": "Month=%{x}<br>Sales=%{text}<extra></extra>",
         "legendgroup": "",
         "marker": {
          "color": "#636efa",
          "pattern": {
           "shape": ""
          }
         },
         "name": "",
         "offsetgroup": "",
         "orientation": "v",
         "showlegend": false,
         "text": [
          206794500,
          169445500,
          113458000,
          96630500,
          95491000,
          86597500,
          80714500,
          70833000,
          66456500,
          46935000,
          46514100,
          37511000
         ],
         "textposition": "auto",
         "type": "bar",
         "x": [
          "Nov",
          "Oct",
          "Apr",
          "Jun",
          "Aug",
          "Jul",
          "Sep",
          "May",
          "Mar",
          "Dec",
          "Jan",
          "Feb"
         ],
         "xaxis": "x",
         "y": [
          206794500,
          169445500,
          113458000,
          96630500,
          95491000,
          86597500,
          80714500,
          70833000,
          66456500,
          46935000,
          46514100,
          37511000
         ],
         "yaxis": "y"
        }
       ],
       "layout": {
        "barmode": "relative",
        "legend": {
         "tracegroupgap": 0
        },
        "template": {
         "data": {
          "bar": [
           {
            "error_x": {
             "color": "#2a3f5f"
            },
            "error_y": {
             "color": "#2a3f5f"
            },
            "marker": {
             "line": {
              "color": "#E5ECF6",
              "width": 0.5
             },
             "pattern": {
              "fillmode": "overlay",
              "size": 10,
              "solidity": 0.2
             }
            },
            "type": "bar"
           }
          ],
          "barpolar": [
           {
            "marker": {
             "line": {
              "color": "#E5ECF6",
              "width": 0.5
             },
             "pattern": {
              "fillmode": "overlay",
              "size": 10,
              "solidity": 0.2
             }
            },
            "type": "barpolar"
           }
          ],
          "carpet": [
           {
            "aaxis": {
             "endlinecolor": "#2a3f5f",
             "gridcolor": "white",
             "linecolor": "white",
             "minorgridcolor": "white",
             "startlinecolor": "#2a3f5f"
            },
            "baxis": {
             "endlinecolor": "#2a3f5f",
             "gridcolor": "white",
             "linecolor": "white",
             "minorgridcolor": "white",
             "startlinecolor": "#2a3f5f"
            },
            "type": "carpet"
           }
          ],
          "choropleth": [
           {
            "colorbar": {
             "outlinewidth": 0,
             "ticks": ""
            },
            "type": "choropleth"
           }
          ],
          "contour": [
           {
            "colorbar": {
             "outlinewidth": 0,
             "ticks": ""
            },
            "colorscale": [
             [
              0,
              "#0d0887"
             ],
             [
              0.1111111111111111,
              "#46039f"
             ],
             [
              0.2222222222222222,
              "#7201a8"
             ],
             [
              0.3333333333333333,
              "#9c179e"
             ],
             [
              0.4444444444444444,
              "#bd3786"
             ],
             [
              0.5555555555555556,
              "#d8576b"
             ],
             [
              0.6666666666666666,
              "#ed7953"
             ],
             [
              0.7777777777777778,
              "#fb9f3a"
             ],
             [
              0.8888888888888888,
              "#fdca26"
             ],
             [
              1,
              "#f0f921"
             ]
            ],
            "type": "contour"
           }
          ],
          "contourcarpet": [
           {
            "colorbar": {
             "outlinewidth": 0,
             "ticks": ""
            },
            "type": "contourcarpet"
           }
          ],
          "heatmap": [
           {
            "colorbar": {
             "outlinewidth": 0,
             "ticks": ""
            },
            "colorscale": [
             [
              0,
              "#0d0887"
             ],
             [
              0.1111111111111111,
              "#46039f"
             ],
             [
              0.2222222222222222,
              "#7201a8"
             ],
             [
              0.3333333333333333,
              "#9c179e"
             ],
             [
              0.4444444444444444,
              "#bd3786"
             ],
             [
              0.5555555555555556,
              "#d8576b"
             ],
             [
              0.6666666666666666,
              "#ed7953"
             ],
             [
              0.7777777777777778,
              "#fb9f3a"
             ],
             [
              0.8888888888888888,
              "#fdca26"
             ],
             [
              1,
              "#f0f921"
             ]
            ],
            "type": "heatmap"
           }
          ],
          "heatmapgl": [
           {
            "colorbar": {
             "outlinewidth": 0,
             "ticks": ""
            },
            "colorscale": [
             [
              0,
              "#0d0887"
             ],
             [
              0.1111111111111111,
              "#46039f"
             ],
             [
              0.2222222222222222,
              "#7201a8"
             ],
             [
              0.3333333333333333,
              "#9c179e"
             ],
             [
              0.4444444444444444,
              "#bd3786"
             ],
             [
              0.5555555555555556,
              "#d8576b"
             ],
             [
              0.6666666666666666,
              "#ed7953"
             ],
             [
              0.7777777777777778,
              "#fb9f3a"
             ],
             [
              0.8888888888888888,
              "#fdca26"
             ],
             [
              1,
              "#f0f921"
             ]
            ],
            "type": "heatmapgl"
           }
          ],
          "histogram": [
           {
            "marker": {
             "pattern": {
              "fillmode": "overlay",
              "size": 10,
              "solidity": 0.2
             }
            },
            "type": "histogram"
           }
          ],
          "histogram2d": [
           {
            "colorbar": {
             "outlinewidth": 0,
             "ticks": ""
            },
            "colorscale": [
             [
              0,
              "#0d0887"
             ],
             [
              0.1111111111111111,
              "#46039f"
             ],
             [
              0.2222222222222222,
              "#7201a8"
             ],
             [
              0.3333333333333333,
              "#9c179e"
             ],
             [
              0.4444444444444444,
              "#bd3786"
             ],
             [
              0.5555555555555556,
              "#d8576b"
             ],
             [
              0.6666666666666666,
              "#ed7953"
             ],
             [
              0.7777777777777778,
              "#fb9f3a"
             ],
             [
              0.8888888888888888,
              "#fdca26"
             ],
             [
              1,
              "#f0f921"
             ]
            ],
            "type": "histogram2d"
           }
          ],
          "histogram2dcontour": [
           {
            "colorbar": {
             "outlinewidth": 0,
             "ticks": ""
            },
            "colorscale": [
             [
              0,
              "#0d0887"
             ],
             [
              0.1111111111111111,
              "#46039f"
             ],
             [
              0.2222222222222222,
              "#7201a8"
             ],
             [
              0.3333333333333333,
              "#9c179e"
             ],
             [
              0.4444444444444444,
              "#bd3786"
             ],
             [
              0.5555555555555556,
              "#d8576b"
             ],
             [
              0.6666666666666666,
              "#ed7953"
             ],
             [
              0.7777777777777778,
              "#fb9f3a"
             ],
             [
              0.8888888888888888,
              "#fdca26"
             ],
             [
              1,
              "#f0f921"
             ]
            ],
            "type": "histogram2dcontour"
           }
          ],
          "mesh3d": [
           {
            "colorbar": {
             "outlinewidth": 0,
             "ticks": ""
            },
            "type": "mesh3d"
           }
          ],
          "parcoords": [
           {
            "line": {
             "colorbar": {
              "outlinewidth": 0,
              "ticks": ""
             }
            },
            "type": "parcoords"
           }
          ],
          "pie": [
           {
            "automargin": true,
            "type": "pie"
           }
          ],
          "scatter": [
           {
            "fillpattern": {
             "fillmode": "overlay",
             "size": 10,
             "solidity": 0.2
            },
            "type": "scatter"
           }
          ],
          "scatter3d": [
           {
            "line": {
             "colorbar": {
              "outlinewidth": 0,
              "ticks": ""
             }
            },
            "marker": {
             "colorbar": {
              "outlinewidth": 0,
              "ticks": ""
             }
            },
            "type": "scatter3d"
           }
          ],
          "scattercarpet": [
           {
            "marker": {
             "colorbar": {
              "outlinewidth": 0,
              "ticks": ""
             }
            },
            "type": "scattercarpet"
           }
          ],
          "scattergeo": [
           {
            "marker": {
             "colorbar": {
              "outlinewidth": 0,
              "ticks": ""
             }
            },
            "type": "scattergeo"
           }
          ],
          "scattergl": [
           {
            "marker": {
             "colorbar": {
              "outlinewidth": 0,
              "ticks": ""
             }
            },
            "type": "scattergl"
           }
          ],
          "scattermapbox": [
           {
            "marker": {
             "colorbar": {
              "outlinewidth": 0,
              "ticks": ""
             }
            },
            "type": "scattermapbox"
           }
          ],
          "scatterpolar": [
           {
            "marker": {
             "colorbar": {
              "outlinewidth": 0,
              "ticks": ""
             }
            },
            "type": "scatterpolar"
           }
          ],
          "scatterpolargl": [
           {
            "marker": {
             "colorbar": {
              "outlinewidth": 0,
              "ticks": ""
             }
            },
            "type": "scatterpolargl"
           }
          ],
          "scatterternary": [
           {
            "marker": {
             "colorbar": {
              "outlinewidth": 0,
              "ticks": ""
             }
            },
            "type": "scatterternary"
           }
          ],
          "surface": [
           {
            "colorbar": {
             "outlinewidth": 0,
             "ticks": ""
            },
            "colorscale": [
             [
              0,
              "#0d0887"
             ],
             [
              0.1111111111111111,
              "#46039f"
             ],
             [
              0.2222222222222222,
              "#7201a8"
             ],
             [
              0.3333333333333333,
              "#9c179e"
             ],
             [
              0.4444444444444444,
              "#bd3786"
             ],
             [
              0.5555555555555556,
              "#d8576b"
             ],
             [
              0.6666666666666666,
              "#ed7953"
             ],
             [
              0.7777777777777778,
              "#fb9f3a"
             ],
             [
              0.8888888888888888,
              "#fdca26"
             ],
             [
              1,
              "#f0f921"
             ]
            ],
            "type": "surface"
           }
          ],
          "table": [
           {
            "cells": {
             "fill": {
              "color": "#EBF0F8"
             },
             "line": {
              "color": "white"
             }
            },
            "header": {
             "fill": {
              "color": "#C8D4E3"
             },
             "line": {
              "color": "white"
             }
            },
            "type": "table"
           }
          ]
         },
         "layout": {
          "annotationdefaults": {
           "arrowcolor": "#2a3f5f",
           "arrowhead": 0,
           "arrowwidth": 1
          },
          "autotypenumbers": "strict",
          "coloraxis": {
           "colorbar": {
            "outlinewidth": 0,
            "ticks": ""
           }
          },
          "colorscale": {
           "diverging": [
            [
             0,
             "#8e0152"
            ],
            [
             0.1,
             "#c51b7d"
            ],
            [
             0.2,
             "#de77ae"
            ],
            [
             0.3,
             "#f1b6da"
            ],
            [
             0.4,
             "#fde0ef"
            ],
            [
             0.5,
             "#f7f7f7"
            ],
            [
             0.6,
             "#e6f5d0"
            ],
            [
             0.7,
             "#b8e186"
            ],
            [
             0.8,
             "#7fbc41"
            ],
            [
             0.9,
             "#4d9221"
            ],
            [
             1,
             "#276419"
            ]
           ],
           "sequential": [
            [
             0,
             "#0d0887"
            ],
            [
             0.1111111111111111,
             "#46039f"
            ],
            [
             0.2222222222222222,
             "#7201a8"
            ],
            [
             0.3333333333333333,
             "#9c179e"
            ],
            [
             0.4444444444444444,
             "#bd3786"
            ],
            [
             0.5555555555555556,
             "#d8576b"
            ],
            [
             0.6666666666666666,
             "#ed7953"
            ],
            [
             0.7777777777777778,
             "#fb9f3a"
            ],
            [
             0.8888888888888888,
             "#fdca26"
            ],
            [
             1,
             "#f0f921"
            ]
           ],
           "sequentialminus": [
            [
             0,
             "#0d0887"
            ],
            [
             0.1111111111111111,
             "#46039f"
            ],
            [
             0.2222222222222222,
             "#7201a8"
            ],
            [
             0.3333333333333333,
             "#9c179e"
            ],
            [
             0.4444444444444444,
             "#bd3786"
            ],
            [
             0.5555555555555556,
             "#d8576b"
            ],
            [
             0.6666666666666666,
             "#ed7953"
            ],
            [
             0.7777777777777778,
             "#fb9f3a"
            ],
            [
             0.8888888888888888,
             "#fdca26"
            ],
            [
             1,
             "#f0f921"
            ]
           ]
          },
          "colorway": [
           "#636efa",
           "#EF553B",
           "#00cc96",
           "#ab63fa",
           "#FFA15A",
           "#19d3f3",
           "#FF6692",
           "#B6E880",
           "#FF97FF",
           "#FECB52"
          ],
          "font": {
           "color": "#2a3f5f"
          },
          "geo": {
           "bgcolor": "white",
           "lakecolor": "white",
           "landcolor": "#E5ECF6",
           "showlakes": true,
           "showland": true,
           "subunitcolor": "white"
          },
          "hoverlabel": {
           "align": "left"
          },
          "hovermode": "closest",
          "mapbox": {
           "style": "light"
          },
          "paper_bgcolor": "white",
          "plot_bgcolor": "#E5ECF6",
          "polar": {
           "angularaxis": {
            "gridcolor": "white",
            "linecolor": "white",
            "ticks": ""
           },
           "bgcolor": "#E5ECF6",
           "radialaxis": {
            "gridcolor": "white",
            "linecolor": "white",
            "ticks": ""
           }
          },
          "scene": {
           "xaxis": {
            "backgroundcolor": "#E5ECF6",
            "gridcolor": "white",
            "gridwidth": 2,
            "linecolor": "white",
            "showbackground": true,
            "ticks": "",
            "zerolinecolor": "white"
           },
           "yaxis": {
            "backgroundcolor": "#E5ECF6",
            "gridcolor": "white",
            "gridwidth": 2,
            "linecolor": "white",
            "showbackground": true,
            "ticks": "",
            "zerolinecolor": "white"
           },
           "zaxis": {
            "backgroundcolor": "#E5ECF6",
            "gridcolor": "white",
            "gridwidth": 2,
            "linecolor": "white",
            "showbackground": true,
            "ticks": "",
            "zerolinecolor": "white"
           }
          },
          "shapedefaults": {
           "line": {
            "color": "#2a3f5f"
           }
          },
          "ternary": {
           "aaxis": {
            "gridcolor": "white",
            "linecolor": "white",
            "ticks": ""
           },
           "baxis": {
            "gridcolor": "white",
            "linecolor": "white",
            "ticks": ""
           },
           "bgcolor": "#E5ECF6",
           "caxis": {
            "gridcolor": "white",
            "linecolor": "white",
            "ticks": ""
           }
          },
          "title": {
           "x": 0.05
          },
          "xaxis": {
           "automargin": true,
           "gridcolor": "white",
           "linecolor": "white",
           "ticks": "",
           "title": {
            "standoff": 15
           },
           "zerolinecolor": "white",
           "zerolinewidth": 2
          },
          "yaxis": {
           "automargin": true,
           "gridcolor": "white",
           "linecolor": "white",
           "ticks": "",
           "title": {
            "standoff": 15
           },
           "zerolinecolor": "white",
           "zerolinewidth": 2
          }
         }
        },
        "title": {
         "text": "Sales by Country"
        },
        "xaxis": {
         "anchor": "y",
         "domain": [
          0,
          1
         ],
         "title": {
          "text": "Month"
         }
        },
        "yaxis": {
         "anchor": "x",
         "domain": [
          0,
          1
         ],
         "title": {
          "text": "Sales"
         }
        }
       }
      },
      "text/html": [
       "<div>                            <div id=\"00a3f899-9e31-4fc2-95ef-eab7030cf8dd\" class=\"plotly-graph-div\" style=\"height:525px; width:100%;\"></div>            <script type=\"text/javascript\">                require([\"plotly\"], function(Plotly) {                    window.PLOTLYENV=window.PLOTLYENV || {};                                    if (document.getElementById(\"00a3f899-9e31-4fc2-95ef-eab7030cf8dd\")) {                    Plotly.newPlot(                        \"00a3f899-9e31-4fc2-95ef-eab7030cf8dd\",                        [{\"alignmentgroup\":\"True\",\"hovertemplate\":\"Month=%{x}<br>Sales=%{text}<extra></extra>\",\"legendgroup\":\"\",\"marker\":{\"color\":\"#636efa\",\"pattern\":{\"shape\":\"\"}},\"name\":\"\",\"offsetgroup\":\"\",\"orientation\":\"v\",\"showlegend\":false,\"text\":[206794500.0,169445500.0,113458000.0,96630500.0,95491000.0,86597500.0,80714500.0,70833000.0,66456500.0,46935000.0,46514100.0,37511000.0],\"textposition\":\"auto\",\"x\":[\"Nov\",\"Oct\",\"Apr\",\"Jun\",\"Aug\",\"Jul\",\"Sep\",\"May\",\"Mar\",\"Dec\",\"Jan\",\"Feb\"],\"xaxis\":\"x\",\"y\":[206794500,169445500,113458000,96630500,95491000,86597500,80714500,70833000,66456500,46935000,46514100,37511000],\"yaxis\":\"y\",\"type\":\"bar\"}],                        {\"template\":{\"data\":{\"histogram2dcontour\":[{\"type\":\"histogram2dcontour\",\"colorbar\":{\"outlinewidth\":0,\"ticks\":\"\"},\"colorscale\":[[0.0,\"#0d0887\"],[0.1111111111111111,\"#46039f\"],[0.2222222222222222,\"#7201a8\"],[0.3333333333333333,\"#9c179e\"],[0.4444444444444444,\"#bd3786\"],[0.5555555555555556,\"#d8576b\"],[0.6666666666666666,\"#ed7953\"],[0.7777777777777778,\"#fb9f3a\"],[0.8888888888888888,\"#fdca26\"],[1.0,\"#f0f921\"]]}],\"choropleth\":[{\"type\":\"choropleth\",\"colorbar\":{\"outlinewidth\":0,\"ticks\":\"\"}}],\"histogram2d\":[{\"type\":\"histogram2d\",\"colorbar\":{\"outlinewidth\":0,\"ticks\":\"\"},\"colorscale\":[[0.0,\"#0d0887\"],[0.1111111111111111,\"#46039f\"],[0.2222222222222222,\"#7201a8\"],[0.3333333333333333,\"#9c179e\"],[0.4444444444444444,\"#bd3786\"],[0.5555555555555556,\"#d8576b\"],[0.6666666666666666,\"#ed7953\"],[0.7777777777777778,\"#fb9f3a\"],[0.8888888888888888,\"#fdca26\"],[1.0,\"#f0f921\"]]}],\"heatmap\":[{\"type\":\"heatmap\",\"colorbar\":{\"outlinewidth\":0,\"ticks\":\"\"},\"colorscale\":[[0.0,\"#0d0887\"],[0.1111111111111111,\"#46039f\"],[0.2222222222222222,\"#7201a8\"],[0.3333333333333333,\"#9c179e\"],[0.4444444444444444,\"#bd3786\"],[0.5555555555555556,\"#d8576b\"],[0.6666666666666666,\"#ed7953\"],[0.7777777777777778,\"#fb9f3a\"],[0.8888888888888888,\"#fdca26\"],[1.0,\"#f0f921\"]]}],\"heatmapgl\":[{\"type\":\"heatmapgl\",\"colorbar\":{\"outlinewidth\":0,\"ticks\":\"\"},\"colorscale\":[[0.0,\"#0d0887\"],[0.1111111111111111,\"#46039f\"],[0.2222222222222222,\"#7201a8\"],[0.3333333333333333,\"#9c179e\"],[0.4444444444444444,\"#bd3786\"],[0.5555555555555556,\"#d8576b\"],[0.6666666666666666,\"#ed7953\"],[0.7777777777777778,\"#fb9f3a\"],[0.8888888888888888,\"#fdca26\"],[1.0,\"#f0f921\"]]}],\"contourcarpet\":[{\"type\":\"contourcarpet\",\"colorbar\":{\"outlinewidth\":0,\"ticks\":\"\"}}],\"contour\":[{\"type\":\"contour\",\"colorbar\":{\"outlinewidth\":0,\"ticks\":\"\"},\"colorscale\":[[0.0,\"#0d0887\"],[0.1111111111111111,\"#46039f\"],[0.2222222222222222,\"#7201a8\"],[0.3333333333333333,\"#9c179e\"],[0.4444444444444444,\"#bd3786\"],[0.5555555555555556,\"#d8576b\"],[0.6666666666666666,\"#ed7953\"],[0.7777777777777778,\"#fb9f3a\"],[0.8888888888888888,\"#fdca26\"],[1.0,\"#f0f921\"]]}],\"surface\":[{\"type\":\"surface\",\"colorbar\":{\"outlinewidth\":0,\"ticks\":\"\"},\"colorscale\":[[0.0,\"#0d0887\"],[0.1111111111111111,\"#46039f\"],[0.2222222222222222,\"#7201a8\"],[0.3333333333333333,\"#9c179e\"],[0.4444444444444444,\"#bd3786\"],[0.5555555555555556,\"#d8576b\"],[0.6666666666666666,\"#ed7953\"],[0.7777777777777778,\"#fb9f3a\"],[0.8888888888888888,\"#fdca26\"],[1.0,\"#f0f921\"]]}],\"mesh3d\":[{\"type\":\"mesh3d\",\"colorbar\":{\"outlinewidth\":0,\"ticks\":\"\"}}],\"scatter\":[{\"fillpattern\":{\"fillmode\":\"overlay\",\"size\":10,\"solidity\":0.2},\"type\":\"scatter\"}],\"parcoords\":[{\"type\":\"parcoords\",\"line\":{\"colorbar\":{\"outlinewidth\":0,\"ticks\":\"\"}}}],\"scatterpolargl\":[{\"type\":\"scatterpolargl\",\"marker\":{\"colorbar\":{\"outlinewidth\":0,\"ticks\":\"\"}}}],\"bar\":[{\"error_x\":{\"color\":\"#2a3f5f\"},\"error_y\":{\"color\":\"#2a3f5f\"},\"marker\":{\"line\":{\"color\":\"#E5ECF6\",\"width\":0.5},\"pattern\":{\"fillmode\":\"overlay\",\"size\":10,\"solidity\":0.2}},\"type\":\"bar\"}],\"scattergeo\":[{\"type\":\"scattergeo\",\"marker\":{\"colorbar\":{\"outlinewidth\":0,\"ticks\":\"\"}}}],\"scatterpolar\":[{\"type\":\"scatterpolar\",\"marker\":{\"colorbar\":{\"outlinewidth\":0,\"ticks\":\"\"}}}],\"histogram\":[{\"marker\":{\"pattern\":{\"fillmode\":\"overlay\",\"size\":10,\"solidity\":0.2}},\"type\":\"histogram\"}],\"scattergl\":[{\"type\":\"scattergl\",\"marker\":{\"colorbar\":{\"outlinewidth\":0,\"ticks\":\"\"}}}],\"scatter3d\":[{\"type\":\"scatter3d\",\"line\":{\"colorbar\":{\"outlinewidth\":0,\"ticks\":\"\"}},\"marker\":{\"colorbar\":{\"outlinewidth\":0,\"ticks\":\"\"}}}],\"scattermapbox\":[{\"type\":\"scattermapbox\",\"marker\":{\"colorbar\":{\"outlinewidth\":0,\"ticks\":\"\"}}}],\"scatterternary\":[{\"type\":\"scatterternary\",\"marker\":{\"colorbar\":{\"outlinewidth\":0,\"ticks\":\"\"}}}],\"scattercarpet\":[{\"type\":\"scattercarpet\",\"marker\":{\"colorbar\":{\"outlinewidth\":0,\"ticks\":\"\"}}}],\"carpet\":[{\"aaxis\":{\"endlinecolor\":\"#2a3f5f\",\"gridcolor\":\"white\",\"linecolor\":\"white\",\"minorgridcolor\":\"white\",\"startlinecolor\":\"#2a3f5f\"},\"baxis\":{\"endlinecolor\":\"#2a3f5f\",\"gridcolor\":\"white\",\"linecolor\":\"white\",\"minorgridcolor\":\"white\",\"startlinecolor\":\"#2a3f5f\"},\"type\":\"carpet\"}],\"table\":[{\"cells\":{\"fill\":{\"color\":\"#EBF0F8\"},\"line\":{\"color\":\"white\"}},\"header\":{\"fill\":{\"color\":\"#C8D4E3\"},\"line\":{\"color\":\"white\"}},\"type\":\"table\"}],\"barpolar\":[{\"marker\":{\"line\":{\"color\":\"#E5ECF6\",\"width\":0.5},\"pattern\":{\"fillmode\":\"overlay\",\"size\":10,\"solidity\":0.2}},\"type\":\"barpolar\"}],\"pie\":[{\"automargin\":true,\"type\":\"pie\"}]},\"layout\":{\"autotypenumbers\":\"strict\",\"colorway\":[\"#636efa\",\"#EF553B\",\"#00cc96\",\"#ab63fa\",\"#FFA15A\",\"#19d3f3\",\"#FF6692\",\"#B6E880\",\"#FF97FF\",\"#FECB52\"],\"font\":{\"color\":\"#2a3f5f\"},\"hovermode\":\"closest\",\"hoverlabel\":{\"align\":\"left\"},\"paper_bgcolor\":\"white\",\"plot_bgcolor\":\"#E5ECF6\",\"polar\":{\"bgcolor\":\"#E5ECF6\",\"angularaxis\":{\"gridcolor\":\"white\",\"linecolor\":\"white\",\"ticks\":\"\"},\"radialaxis\":{\"gridcolor\":\"white\",\"linecolor\":\"white\",\"ticks\":\"\"}},\"ternary\":{\"bgcolor\":\"#E5ECF6\",\"aaxis\":{\"gridcolor\":\"white\",\"linecolor\":\"white\",\"ticks\":\"\"},\"baxis\":{\"gridcolor\":\"white\",\"linecolor\":\"white\",\"ticks\":\"\"},\"caxis\":{\"gridcolor\":\"white\",\"linecolor\":\"white\",\"ticks\":\"\"}},\"coloraxis\":{\"colorbar\":{\"outlinewidth\":0,\"ticks\":\"\"}},\"colorscale\":{\"sequential\":[[0.0,\"#0d0887\"],[0.1111111111111111,\"#46039f\"],[0.2222222222222222,\"#7201a8\"],[0.3333333333333333,\"#9c179e\"],[0.4444444444444444,\"#bd3786\"],[0.5555555555555556,\"#d8576b\"],[0.6666666666666666,\"#ed7953\"],[0.7777777777777778,\"#fb9f3a\"],[0.8888888888888888,\"#fdca26\"],[1.0,\"#f0f921\"]],\"sequentialminus\":[[0.0,\"#0d0887\"],[0.1111111111111111,\"#46039f\"],[0.2222222222222222,\"#7201a8\"],[0.3333333333333333,\"#9c179e\"],[0.4444444444444444,\"#bd3786\"],[0.5555555555555556,\"#d8576b\"],[0.6666666666666666,\"#ed7953\"],[0.7777777777777778,\"#fb9f3a\"],[0.8888888888888888,\"#fdca26\"],[1.0,\"#f0f921\"]],\"diverging\":[[0,\"#8e0152\"],[0.1,\"#c51b7d\"],[0.2,\"#de77ae\"],[0.3,\"#f1b6da\"],[0.4,\"#fde0ef\"],[0.5,\"#f7f7f7\"],[0.6,\"#e6f5d0\"],[0.7,\"#b8e186\"],[0.8,\"#7fbc41\"],[0.9,\"#4d9221\"],[1,\"#276419\"]]},\"xaxis\":{\"gridcolor\":\"white\",\"linecolor\":\"white\",\"ticks\":\"\",\"title\":{\"standoff\":15},\"zerolinecolor\":\"white\",\"automargin\":true,\"zerolinewidth\":2},\"yaxis\":{\"gridcolor\":\"white\",\"linecolor\":\"white\",\"ticks\":\"\",\"title\":{\"standoff\":15},\"zerolinecolor\":\"white\",\"automargin\":true,\"zerolinewidth\":2},\"scene\":{\"xaxis\":{\"backgroundcolor\":\"#E5ECF6\",\"gridcolor\":\"white\",\"linecolor\":\"white\",\"showbackground\":true,\"ticks\":\"\",\"zerolinecolor\":\"white\",\"gridwidth\":2},\"yaxis\":{\"backgroundcolor\":\"#E5ECF6\",\"gridcolor\":\"white\",\"linecolor\":\"white\",\"showbackground\":true,\"ticks\":\"\",\"zerolinecolor\":\"white\",\"gridwidth\":2},\"zaxis\":{\"backgroundcolor\":\"#E5ECF6\",\"gridcolor\":\"white\",\"linecolor\":\"white\",\"showbackground\":true,\"ticks\":\"\",\"zerolinecolor\":\"white\",\"gridwidth\":2}},\"shapedefaults\":{\"line\":{\"color\":\"#2a3f5f\"}},\"annotationdefaults\":{\"arrowcolor\":\"#2a3f5f\",\"arrowhead\":0,\"arrowwidth\":1},\"geo\":{\"bgcolor\":\"white\",\"landcolor\":\"#E5ECF6\",\"subunitcolor\":\"white\",\"showland\":true,\"showlakes\":true,\"lakecolor\":\"white\"},\"title\":{\"x\":0.05},\"mapbox\":{\"style\":\"light\"}}},\"xaxis\":{\"anchor\":\"y\",\"domain\":[0.0,1.0],\"title\":{\"text\":\"Month\"}},\"yaxis\":{\"anchor\":\"x\",\"domain\":[0.0,1.0],\"title\":{\"text\":\"Sales\"}},\"legend\":{\"tracegroupgap\":0},\"title\":{\"text\":\"Sales by Country\"},\"barmode\":\"relative\"},                        {\"responsive\": true}                    ).then(function(){\n",
       "                            \n",
       "var gd = document.getElementById('00a3f899-9e31-4fc2-95ef-eab7030cf8dd');\n",
       "var x = new MutationObserver(function (mutations, observer) {{\n",
       "        var display = window.getComputedStyle(gd).display;\n",
       "        if (!display || display === 'none') {{\n",
       "            console.log([gd, 'removed!']);\n",
       "            Plotly.purge(gd);\n",
       "            observer.disconnect();\n",
       "        }}\n",
       "}});\n",
       "\n",
       "// Listen for the removal of the full notebook cells\n",
       "var notebookContainer = gd.closest('#notebook-container');\n",
       "if (notebookContainer) {{\n",
       "    x.observe(notebookContainer, {childList: true});\n",
       "}}\n",
       "\n",
       "// Listen for the clearing of the current output cell\n",
       "var outputEl = gd.closest('.output');\n",
       "if (outputEl) {{\n",
       "    x.observe(outputEl, {childList: true});\n",
       "}}\n",
       "\n",
       "                        })                };                });            </script>        </div>"
      ]
     },
     "metadata": {},
     "output_type": "display_data"
    }
   ],
   "source": [
    "fig =px.bar(  Salesbycountry , x = \"Month\" , y = \"Sales\", title = \"Sales by Country\" , text = \"Sales\")\n",
    "fig.show()"
   ]
  },
  {
   "cell_type": "code",
   "execution_count": 96,
   "id": "37a8c505",
   "metadata": {},
   "outputs": [
    {
     "data": {
      "application/vnd.plotly.v1+json": {
       "config": {
        "plotlyServerURL": "https://plot.ly"
       },
       "data": [
        {
         "alignmentgroup": "True",
         "hovertemplate": "Month=%{x}<br>Sales=%{text}<extra></extra>",
         "legendgroup": "",
         "marker": {
          "color": "#636efa",
          "pattern": {
           "shape": ""
          }
         },
         "name": "",
         "offsetgroup": "",
         "orientation": "v",
         "showlegend": false,
         "text": [
          206794500,
          169445500,
          113458000,
          96630500,
          95491000,
          86597500,
          80714500,
          70833000,
          66456500,
          46935000,
          46514100,
          37511000
         ],
         "textposition": "outside",
         "type": "bar",
         "x": [
          "Nov",
          "Oct",
          "Apr",
          "Jun",
          "Aug",
          "Jul",
          "Sep",
          "May",
          "Mar",
          "Dec",
          "Jan",
          "Feb"
         ],
         "xaxis": "x",
         "y": [
          206794500,
          169445500,
          113458000,
          96630500,
          95491000,
          86597500,
          80714500,
          70833000,
          66456500,
          46935000,
          46514100,
          37511000
         ],
         "yaxis": "y"
        }
       ],
       "layout": {
        "barmode": "relative",
        "legend": {
         "tracegroupgap": 0
        },
        "template": {
         "data": {
          "bar": [
           {
            "error_x": {
             "color": "#2a3f5f"
            },
            "error_y": {
             "color": "#2a3f5f"
            },
            "marker": {
             "line": {
              "color": "#E5ECF6",
              "width": 0.5
             },
             "pattern": {
              "fillmode": "overlay",
              "size": 10,
              "solidity": 0.2
             }
            },
            "type": "bar"
           }
          ],
          "barpolar": [
           {
            "marker": {
             "line": {
              "color": "#E5ECF6",
              "width": 0.5
             },
             "pattern": {
              "fillmode": "overlay",
              "size": 10,
              "solidity": 0.2
             }
            },
            "type": "barpolar"
           }
          ],
          "carpet": [
           {
            "aaxis": {
             "endlinecolor": "#2a3f5f",
             "gridcolor": "white",
             "linecolor": "white",
             "minorgridcolor": "white",
             "startlinecolor": "#2a3f5f"
            },
            "baxis": {
             "endlinecolor": "#2a3f5f",
             "gridcolor": "white",
             "linecolor": "white",
             "minorgridcolor": "white",
             "startlinecolor": "#2a3f5f"
            },
            "type": "carpet"
           }
          ],
          "choropleth": [
           {
            "colorbar": {
             "outlinewidth": 0,
             "ticks": ""
            },
            "type": "choropleth"
           }
          ],
          "contour": [
           {
            "colorbar": {
             "outlinewidth": 0,
             "ticks": ""
            },
            "colorscale": [
             [
              0,
              "#0d0887"
             ],
             [
              0.1111111111111111,
              "#46039f"
             ],
             [
              0.2222222222222222,
              "#7201a8"
             ],
             [
              0.3333333333333333,
              "#9c179e"
             ],
             [
              0.4444444444444444,
              "#bd3786"
             ],
             [
              0.5555555555555556,
              "#d8576b"
             ],
             [
              0.6666666666666666,
              "#ed7953"
             ],
             [
              0.7777777777777778,
              "#fb9f3a"
             ],
             [
              0.8888888888888888,
              "#fdca26"
             ],
             [
              1,
              "#f0f921"
             ]
            ],
            "type": "contour"
           }
          ],
          "contourcarpet": [
           {
            "colorbar": {
             "outlinewidth": 0,
             "ticks": ""
            },
            "type": "contourcarpet"
           }
          ],
          "heatmap": [
           {
            "colorbar": {
             "outlinewidth": 0,
             "ticks": ""
            },
            "colorscale": [
             [
              0,
              "#0d0887"
             ],
             [
              0.1111111111111111,
              "#46039f"
             ],
             [
              0.2222222222222222,
              "#7201a8"
             ],
             [
              0.3333333333333333,
              "#9c179e"
             ],
             [
              0.4444444444444444,
              "#bd3786"
             ],
             [
              0.5555555555555556,
              "#d8576b"
             ],
             [
              0.6666666666666666,
              "#ed7953"
             ],
             [
              0.7777777777777778,
              "#fb9f3a"
             ],
             [
              0.8888888888888888,
              "#fdca26"
             ],
             [
              1,
              "#f0f921"
             ]
            ],
            "type": "heatmap"
           }
          ],
          "heatmapgl": [
           {
            "colorbar": {
             "outlinewidth": 0,
             "ticks": ""
            },
            "colorscale": [
             [
              0,
              "#0d0887"
             ],
             [
              0.1111111111111111,
              "#46039f"
             ],
             [
              0.2222222222222222,
              "#7201a8"
             ],
             [
              0.3333333333333333,
              "#9c179e"
             ],
             [
              0.4444444444444444,
              "#bd3786"
             ],
             [
              0.5555555555555556,
              "#d8576b"
             ],
             [
              0.6666666666666666,
              "#ed7953"
             ],
             [
              0.7777777777777778,
              "#fb9f3a"
             ],
             [
              0.8888888888888888,
              "#fdca26"
             ],
             [
              1,
              "#f0f921"
             ]
            ],
            "type": "heatmapgl"
           }
          ],
          "histogram": [
           {
            "marker": {
             "pattern": {
              "fillmode": "overlay",
              "size": 10,
              "solidity": 0.2
             }
            },
            "type": "histogram"
           }
          ],
          "histogram2d": [
           {
            "colorbar": {
             "outlinewidth": 0,
             "ticks": ""
            },
            "colorscale": [
             [
              0,
              "#0d0887"
             ],
             [
              0.1111111111111111,
              "#46039f"
             ],
             [
              0.2222222222222222,
              "#7201a8"
             ],
             [
              0.3333333333333333,
              "#9c179e"
             ],
             [
              0.4444444444444444,
              "#bd3786"
             ],
             [
              0.5555555555555556,
              "#d8576b"
             ],
             [
              0.6666666666666666,
              "#ed7953"
             ],
             [
              0.7777777777777778,
              "#fb9f3a"
             ],
             [
              0.8888888888888888,
              "#fdca26"
             ],
             [
              1,
              "#f0f921"
             ]
            ],
            "type": "histogram2d"
           }
          ],
          "histogram2dcontour": [
           {
            "colorbar": {
             "outlinewidth": 0,
             "ticks": ""
            },
            "colorscale": [
             [
              0,
              "#0d0887"
             ],
             [
              0.1111111111111111,
              "#46039f"
             ],
             [
              0.2222222222222222,
              "#7201a8"
             ],
             [
              0.3333333333333333,
              "#9c179e"
             ],
             [
              0.4444444444444444,
              "#bd3786"
             ],
             [
              0.5555555555555556,
              "#d8576b"
             ],
             [
              0.6666666666666666,
              "#ed7953"
             ],
             [
              0.7777777777777778,
              "#fb9f3a"
             ],
             [
              0.8888888888888888,
              "#fdca26"
             ],
             [
              1,
              "#f0f921"
             ]
            ],
            "type": "histogram2dcontour"
           }
          ],
          "mesh3d": [
           {
            "colorbar": {
             "outlinewidth": 0,
             "ticks": ""
            },
            "type": "mesh3d"
           }
          ],
          "parcoords": [
           {
            "line": {
             "colorbar": {
              "outlinewidth": 0,
              "ticks": ""
             }
            },
            "type": "parcoords"
           }
          ],
          "pie": [
           {
            "automargin": true,
            "type": "pie"
           }
          ],
          "scatter": [
           {
            "fillpattern": {
             "fillmode": "overlay",
             "size": 10,
             "solidity": 0.2
            },
            "type": "scatter"
           }
          ],
          "scatter3d": [
           {
            "line": {
             "colorbar": {
              "outlinewidth": 0,
              "ticks": ""
             }
            },
            "marker": {
             "colorbar": {
              "outlinewidth": 0,
              "ticks": ""
             }
            },
            "type": "scatter3d"
           }
          ],
          "scattercarpet": [
           {
            "marker": {
             "colorbar": {
              "outlinewidth": 0,
              "ticks": ""
             }
            },
            "type": "scattercarpet"
           }
          ],
          "scattergeo": [
           {
            "marker": {
             "colorbar": {
              "outlinewidth": 0,
              "ticks": ""
             }
            },
            "type": "scattergeo"
           }
          ],
          "scattergl": [
           {
            "marker": {
             "colorbar": {
              "outlinewidth": 0,
              "ticks": ""
             }
            },
            "type": "scattergl"
           }
          ],
          "scattermapbox": [
           {
            "marker": {
             "colorbar": {
              "outlinewidth": 0,
              "ticks": ""
             }
            },
            "type": "scattermapbox"
           }
          ],
          "scatterpolar": [
           {
            "marker": {
             "colorbar": {
              "outlinewidth": 0,
              "ticks": ""
             }
            },
            "type": "scatterpolar"
           }
          ],
          "scatterpolargl": [
           {
            "marker": {
             "colorbar": {
              "outlinewidth": 0,
              "ticks": ""
             }
            },
            "type": "scatterpolargl"
           }
          ],
          "scatterternary": [
           {
            "marker": {
             "colorbar": {
              "outlinewidth": 0,
              "ticks": ""
             }
            },
            "type": "scatterternary"
           }
          ],
          "surface": [
           {
            "colorbar": {
             "outlinewidth": 0,
             "ticks": ""
            },
            "colorscale": [
             [
              0,
              "#0d0887"
             ],
             [
              0.1111111111111111,
              "#46039f"
             ],
             [
              0.2222222222222222,
              "#7201a8"
             ],
             [
              0.3333333333333333,
              "#9c179e"
             ],
             [
              0.4444444444444444,
              "#bd3786"
             ],
             [
              0.5555555555555556,
              "#d8576b"
             ],
             [
              0.6666666666666666,
              "#ed7953"
             ],
             [
              0.7777777777777778,
              "#fb9f3a"
             ],
             [
              0.8888888888888888,
              "#fdca26"
             ],
             [
              1,
              "#f0f921"
             ]
            ],
            "type": "surface"
           }
          ],
          "table": [
           {
            "cells": {
             "fill": {
              "color": "#EBF0F8"
             },
             "line": {
              "color": "white"
             }
            },
            "header": {
             "fill": {
              "color": "#C8D4E3"
             },
             "line": {
              "color": "white"
             }
            },
            "type": "table"
           }
          ]
         },
         "layout": {
          "annotationdefaults": {
           "arrowcolor": "#2a3f5f",
           "arrowhead": 0,
           "arrowwidth": 1
          },
          "autotypenumbers": "strict",
          "coloraxis": {
           "colorbar": {
            "outlinewidth": 0,
            "ticks": ""
           }
          },
          "colorscale": {
           "diverging": [
            [
             0,
             "#8e0152"
            ],
            [
             0.1,
             "#c51b7d"
            ],
            [
             0.2,
             "#de77ae"
            ],
            [
             0.3,
             "#f1b6da"
            ],
            [
             0.4,
             "#fde0ef"
            ],
            [
             0.5,
             "#f7f7f7"
            ],
            [
             0.6,
             "#e6f5d0"
            ],
            [
             0.7,
             "#b8e186"
            ],
            [
             0.8,
             "#7fbc41"
            ],
            [
             0.9,
             "#4d9221"
            ],
            [
             1,
             "#276419"
            ]
           ],
           "sequential": [
            [
             0,
             "#0d0887"
            ],
            [
             0.1111111111111111,
             "#46039f"
            ],
            [
             0.2222222222222222,
             "#7201a8"
            ],
            [
             0.3333333333333333,
             "#9c179e"
            ],
            [
             0.4444444444444444,
             "#bd3786"
            ],
            [
             0.5555555555555556,
             "#d8576b"
            ],
            [
             0.6666666666666666,
             "#ed7953"
            ],
            [
             0.7777777777777778,
             "#fb9f3a"
            ],
            [
             0.8888888888888888,
             "#fdca26"
            ],
            [
             1,
             "#f0f921"
            ]
           ],
           "sequentialminus": [
            [
             0,
             "#0d0887"
            ],
            [
             0.1111111111111111,
             "#46039f"
            ],
            [
             0.2222222222222222,
             "#7201a8"
            ],
            [
             0.3333333333333333,
             "#9c179e"
            ],
            [
             0.4444444444444444,
             "#bd3786"
            ],
            [
             0.5555555555555556,
             "#d8576b"
            ],
            [
             0.6666666666666666,
             "#ed7953"
            ],
            [
             0.7777777777777778,
             "#fb9f3a"
            ],
            [
             0.8888888888888888,
             "#fdca26"
            ],
            [
             1,
             "#f0f921"
            ]
           ]
          },
          "colorway": [
           "#636efa",
           "#EF553B",
           "#00cc96",
           "#ab63fa",
           "#FFA15A",
           "#19d3f3",
           "#FF6692",
           "#B6E880",
           "#FF97FF",
           "#FECB52"
          ],
          "font": {
           "color": "#2a3f5f"
          },
          "geo": {
           "bgcolor": "white",
           "lakecolor": "white",
           "landcolor": "#E5ECF6",
           "showlakes": true,
           "showland": true,
           "subunitcolor": "white"
          },
          "hoverlabel": {
           "align": "left"
          },
          "hovermode": "closest",
          "mapbox": {
           "style": "light"
          },
          "paper_bgcolor": "white",
          "plot_bgcolor": "#E5ECF6",
          "polar": {
           "angularaxis": {
            "gridcolor": "white",
            "linecolor": "white",
            "ticks": ""
           },
           "bgcolor": "#E5ECF6",
           "radialaxis": {
            "gridcolor": "white",
            "linecolor": "white",
            "ticks": ""
           }
          },
          "scene": {
           "xaxis": {
            "backgroundcolor": "#E5ECF6",
            "gridcolor": "white",
            "gridwidth": 2,
            "linecolor": "white",
            "showbackground": true,
            "ticks": "",
            "zerolinecolor": "white"
           },
           "yaxis": {
            "backgroundcolor": "#E5ECF6",
            "gridcolor": "white",
            "gridwidth": 2,
            "linecolor": "white",
            "showbackground": true,
            "ticks": "",
            "zerolinecolor": "white"
           },
           "zaxis": {
            "backgroundcolor": "#E5ECF6",
            "gridcolor": "white",
            "gridwidth": 2,
            "linecolor": "white",
            "showbackground": true,
            "ticks": "",
            "zerolinecolor": "white"
           }
          },
          "shapedefaults": {
           "line": {
            "color": "#2a3f5f"
           }
          },
          "ternary": {
           "aaxis": {
            "gridcolor": "white",
            "linecolor": "white",
            "ticks": ""
           },
           "baxis": {
            "gridcolor": "white",
            "linecolor": "white",
            "ticks": ""
           },
           "bgcolor": "#E5ECF6",
           "caxis": {
            "gridcolor": "white",
            "linecolor": "white",
            "ticks": ""
           }
          },
          "title": {
           "x": 0.05
          },
          "xaxis": {
           "automargin": true,
           "gridcolor": "white",
           "linecolor": "white",
           "ticks": "",
           "title": {
            "standoff": 15
           },
           "zerolinecolor": "white",
           "zerolinewidth": 2
          },
          "yaxis": {
           "automargin": true,
           "gridcolor": "white",
           "linecolor": "white",
           "ticks": "",
           "title": {
            "standoff": 15
           },
           "zerolinecolor": "white",
           "zerolinewidth": 2
          }
         }
        },
        "title": {
         "text": "Sales by Country"
        },
        "xaxis": {
         "anchor": "y",
         "domain": [
          0,
          1
         ],
         "title": {
          "text": "Month"
         }
        },
        "yaxis": {
         "anchor": "x",
         "domain": [
          0,
          1
         ],
         "title": {
          "text": "Sales"
         }
        }
       }
      },
      "text/html": [
       "<div>                            <div id=\"8f2a2ac6-be47-47e4-b672-c93306e18981\" class=\"plotly-graph-div\" style=\"height:525px; width:100%;\"></div>            <script type=\"text/javascript\">                require([\"plotly\"], function(Plotly) {                    window.PLOTLYENV=window.PLOTLYENV || {};                                    if (document.getElementById(\"8f2a2ac6-be47-47e4-b672-c93306e18981\")) {                    Plotly.newPlot(                        \"8f2a2ac6-be47-47e4-b672-c93306e18981\",                        [{\"alignmentgroup\":\"True\",\"hovertemplate\":\"Month=%{x}<br>Sales=%{text}<extra></extra>\",\"legendgroup\":\"\",\"marker\":{\"color\":\"#636efa\",\"pattern\":{\"shape\":\"\"}},\"name\":\"\",\"offsetgroup\":\"\",\"orientation\":\"v\",\"showlegend\":false,\"text\":[206794500.0,169445500.0,113458000.0,96630500.0,95491000.0,86597500.0,80714500.0,70833000.0,66456500.0,46935000.0,46514100.0,37511000.0],\"textposition\":\"outside\",\"x\":[\"Nov\",\"Oct\",\"Apr\",\"Jun\",\"Aug\",\"Jul\",\"Sep\",\"May\",\"Mar\",\"Dec\",\"Jan\",\"Feb\"],\"xaxis\":\"x\",\"y\":[206794500,169445500,113458000,96630500,95491000,86597500,80714500,70833000,66456500,46935000,46514100,37511000],\"yaxis\":\"y\",\"type\":\"bar\"}],                        {\"template\":{\"data\":{\"histogram2dcontour\":[{\"type\":\"histogram2dcontour\",\"colorbar\":{\"outlinewidth\":0,\"ticks\":\"\"},\"colorscale\":[[0.0,\"#0d0887\"],[0.1111111111111111,\"#46039f\"],[0.2222222222222222,\"#7201a8\"],[0.3333333333333333,\"#9c179e\"],[0.4444444444444444,\"#bd3786\"],[0.5555555555555556,\"#d8576b\"],[0.6666666666666666,\"#ed7953\"],[0.7777777777777778,\"#fb9f3a\"],[0.8888888888888888,\"#fdca26\"],[1.0,\"#f0f921\"]]}],\"choropleth\":[{\"type\":\"choropleth\",\"colorbar\":{\"outlinewidth\":0,\"ticks\":\"\"}}],\"histogram2d\":[{\"type\":\"histogram2d\",\"colorbar\":{\"outlinewidth\":0,\"ticks\":\"\"},\"colorscale\":[[0.0,\"#0d0887\"],[0.1111111111111111,\"#46039f\"],[0.2222222222222222,\"#7201a8\"],[0.3333333333333333,\"#9c179e\"],[0.4444444444444444,\"#bd3786\"],[0.5555555555555556,\"#d8576b\"],[0.6666666666666666,\"#ed7953\"],[0.7777777777777778,\"#fb9f3a\"],[0.8888888888888888,\"#fdca26\"],[1.0,\"#f0f921\"]]}],\"heatmap\":[{\"type\":\"heatmap\",\"colorbar\":{\"outlinewidth\":0,\"ticks\":\"\"},\"colorscale\":[[0.0,\"#0d0887\"],[0.1111111111111111,\"#46039f\"],[0.2222222222222222,\"#7201a8\"],[0.3333333333333333,\"#9c179e\"],[0.4444444444444444,\"#bd3786\"],[0.5555555555555556,\"#d8576b\"],[0.6666666666666666,\"#ed7953\"],[0.7777777777777778,\"#fb9f3a\"],[0.8888888888888888,\"#fdca26\"],[1.0,\"#f0f921\"]]}],\"heatmapgl\":[{\"type\":\"heatmapgl\",\"colorbar\":{\"outlinewidth\":0,\"ticks\":\"\"},\"colorscale\":[[0.0,\"#0d0887\"],[0.1111111111111111,\"#46039f\"],[0.2222222222222222,\"#7201a8\"],[0.3333333333333333,\"#9c179e\"],[0.4444444444444444,\"#bd3786\"],[0.5555555555555556,\"#d8576b\"],[0.6666666666666666,\"#ed7953\"],[0.7777777777777778,\"#fb9f3a\"],[0.8888888888888888,\"#fdca26\"],[1.0,\"#f0f921\"]]}],\"contourcarpet\":[{\"type\":\"contourcarpet\",\"colorbar\":{\"outlinewidth\":0,\"ticks\":\"\"}}],\"contour\":[{\"type\":\"contour\",\"colorbar\":{\"outlinewidth\":0,\"ticks\":\"\"},\"colorscale\":[[0.0,\"#0d0887\"],[0.1111111111111111,\"#46039f\"],[0.2222222222222222,\"#7201a8\"],[0.3333333333333333,\"#9c179e\"],[0.4444444444444444,\"#bd3786\"],[0.5555555555555556,\"#d8576b\"],[0.6666666666666666,\"#ed7953\"],[0.7777777777777778,\"#fb9f3a\"],[0.8888888888888888,\"#fdca26\"],[1.0,\"#f0f921\"]]}],\"surface\":[{\"type\":\"surface\",\"colorbar\":{\"outlinewidth\":0,\"ticks\":\"\"},\"colorscale\":[[0.0,\"#0d0887\"],[0.1111111111111111,\"#46039f\"],[0.2222222222222222,\"#7201a8\"],[0.3333333333333333,\"#9c179e\"],[0.4444444444444444,\"#bd3786\"],[0.5555555555555556,\"#d8576b\"],[0.6666666666666666,\"#ed7953\"],[0.7777777777777778,\"#fb9f3a\"],[0.8888888888888888,\"#fdca26\"],[1.0,\"#f0f921\"]]}],\"mesh3d\":[{\"type\":\"mesh3d\",\"colorbar\":{\"outlinewidth\":0,\"ticks\":\"\"}}],\"scatter\":[{\"fillpattern\":{\"fillmode\":\"overlay\",\"size\":10,\"solidity\":0.2},\"type\":\"scatter\"}],\"parcoords\":[{\"type\":\"parcoords\",\"line\":{\"colorbar\":{\"outlinewidth\":0,\"ticks\":\"\"}}}],\"scatterpolargl\":[{\"type\":\"scatterpolargl\",\"marker\":{\"colorbar\":{\"outlinewidth\":0,\"ticks\":\"\"}}}],\"bar\":[{\"error_x\":{\"color\":\"#2a3f5f\"},\"error_y\":{\"color\":\"#2a3f5f\"},\"marker\":{\"line\":{\"color\":\"#E5ECF6\",\"width\":0.5},\"pattern\":{\"fillmode\":\"overlay\",\"size\":10,\"solidity\":0.2}},\"type\":\"bar\"}],\"scattergeo\":[{\"type\":\"scattergeo\",\"marker\":{\"colorbar\":{\"outlinewidth\":0,\"ticks\":\"\"}}}],\"scatterpolar\":[{\"type\":\"scatterpolar\",\"marker\":{\"colorbar\":{\"outlinewidth\":0,\"ticks\":\"\"}}}],\"histogram\":[{\"marker\":{\"pattern\":{\"fillmode\":\"overlay\",\"size\":10,\"solidity\":0.2}},\"type\":\"histogram\"}],\"scattergl\":[{\"type\":\"scattergl\",\"marker\":{\"colorbar\":{\"outlinewidth\":0,\"ticks\":\"\"}}}],\"scatter3d\":[{\"type\":\"scatter3d\",\"line\":{\"colorbar\":{\"outlinewidth\":0,\"ticks\":\"\"}},\"marker\":{\"colorbar\":{\"outlinewidth\":0,\"ticks\":\"\"}}}],\"scattermapbox\":[{\"type\":\"scattermapbox\",\"marker\":{\"colorbar\":{\"outlinewidth\":0,\"ticks\":\"\"}}}],\"scatterternary\":[{\"type\":\"scatterternary\",\"marker\":{\"colorbar\":{\"outlinewidth\":0,\"ticks\":\"\"}}}],\"scattercarpet\":[{\"type\":\"scattercarpet\",\"marker\":{\"colorbar\":{\"outlinewidth\":0,\"ticks\":\"\"}}}],\"carpet\":[{\"aaxis\":{\"endlinecolor\":\"#2a3f5f\",\"gridcolor\":\"white\",\"linecolor\":\"white\",\"minorgridcolor\":\"white\",\"startlinecolor\":\"#2a3f5f\"},\"baxis\":{\"endlinecolor\":\"#2a3f5f\",\"gridcolor\":\"white\",\"linecolor\":\"white\",\"minorgridcolor\":\"white\",\"startlinecolor\":\"#2a3f5f\"},\"type\":\"carpet\"}],\"table\":[{\"cells\":{\"fill\":{\"color\":\"#EBF0F8\"},\"line\":{\"color\":\"white\"}},\"header\":{\"fill\":{\"color\":\"#C8D4E3\"},\"line\":{\"color\":\"white\"}},\"type\":\"table\"}],\"barpolar\":[{\"marker\":{\"line\":{\"color\":\"#E5ECF6\",\"width\":0.5},\"pattern\":{\"fillmode\":\"overlay\",\"size\":10,\"solidity\":0.2}},\"type\":\"barpolar\"}],\"pie\":[{\"automargin\":true,\"type\":\"pie\"}]},\"layout\":{\"autotypenumbers\":\"strict\",\"colorway\":[\"#636efa\",\"#EF553B\",\"#00cc96\",\"#ab63fa\",\"#FFA15A\",\"#19d3f3\",\"#FF6692\",\"#B6E880\",\"#FF97FF\",\"#FECB52\"],\"font\":{\"color\":\"#2a3f5f\"},\"hovermode\":\"closest\",\"hoverlabel\":{\"align\":\"left\"},\"paper_bgcolor\":\"white\",\"plot_bgcolor\":\"#E5ECF6\",\"polar\":{\"bgcolor\":\"#E5ECF6\",\"angularaxis\":{\"gridcolor\":\"white\",\"linecolor\":\"white\",\"ticks\":\"\"},\"radialaxis\":{\"gridcolor\":\"white\",\"linecolor\":\"white\",\"ticks\":\"\"}},\"ternary\":{\"bgcolor\":\"#E5ECF6\",\"aaxis\":{\"gridcolor\":\"white\",\"linecolor\":\"white\",\"ticks\":\"\"},\"baxis\":{\"gridcolor\":\"white\",\"linecolor\":\"white\",\"ticks\":\"\"},\"caxis\":{\"gridcolor\":\"white\",\"linecolor\":\"white\",\"ticks\":\"\"}},\"coloraxis\":{\"colorbar\":{\"outlinewidth\":0,\"ticks\":\"\"}},\"colorscale\":{\"sequential\":[[0.0,\"#0d0887\"],[0.1111111111111111,\"#46039f\"],[0.2222222222222222,\"#7201a8\"],[0.3333333333333333,\"#9c179e\"],[0.4444444444444444,\"#bd3786\"],[0.5555555555555556,\"#d8576b\"],[0.6666666666666666,\"#ed7953\"],[0.7777777777777778,\"#fb9f3a\"],[0.8888888888888888,\"#fdca26\"],[1.0,\"#f0f921\"]],\"sequentialminus\":[[0.0,\"#0d0887\"],[0.1111111111111111,\"#46039f\"],[0.2222222222222222,\"#7201a8\"],[0.3333333333333333,\"#9c179e\"],[0.4444444444444444,\"#bd3786\"],[0.5555555555555556,\"#d8576b\"],[0.6666666666666666,\"#ed7953\"],[0.7777777777777778,\"#fb9f3a\"],[0.8888888888888888,\"#fdca26\"],[1.0,\"#f0f921\"]],\"diverging\":[[0,\"#8e0152\"],[0.1,\"#c51b7d\"],[0.2,\"#de77ae\"],[0.3,\"#f1b6da\"],[0.4,\"#fde0ef\"],[0.5,\"#f7f7f7\"],[0.6,\"#e6f5d0\"],[0.7,\"#b8e186\"],[0.8,\"#7fbc41\"],[0.9,\"#4d9221\"],[1,\"#276419\"]]},\"xaxis\":{\"gridcolor\":\"white\",\"linecolor\":\"white\",\"ticks\":\"\",\"title\":{\"standoff\":15},\"zerolinecolor\":\"white\",\"automargin\":true,\"zerolinewidth\":2},\"yaxis\":{\"gridcolor\":\"white\",\"linecolor\":\"white\",\"ticks\":\"\",\"title\":{\"standoff\":15},\"zerolinecolor\":\"white\",\"automargin\":true,\"zerolinewidth\":2},\"scene\":{\"xaxis\":{\"backgroundcolor\":\"#E5ECF6\",\"gridcolor\":\"white\",\"linecolor\":\"white\",\"showbackground\":true,\"ticks\":\"\",\"zerolinecolor\":\"white\",\"gridwidth\":2},\"yaxis\":{\"backgroundcolor\":\"#E5ECF6\",\"gridcolor\":\"white\",\"linecolor\":\"white\",\"showbackground\":true,\"ticks\":\"\",\"zerolinecolor\":\"white\",\"gridwidth\":2},\"zaxis\":{\"backgroundcolor\":\"#E5ECF6\",\"gridcolor\":\"white\",\"linecolor\":\"white\",\"showbackground\":true,\"ticks\":\"\",\"zerolinecolor\":\"white\",\"gridwidth\":2}},\"shapedefaults\":{\"line\":{\"color\":\"#2a3f5f\"}},\"annotationdefaults\":{\"arrowcolor\":\"#2a3f5f\",\"arrowhead\":0,\"arrowwidth\":1},\"geo\":{\"bgcolor\":\"white\",\"landcolor\":\"#E5ECF6\",\"subunitcolor\":\"white\",\"showland\":true,\"showlakes\":true,\"lakecolor\":\"white\"},\"title\":{\"x\":0.05},\"mapbox\":{\"style\":\"light\"}}},\"xaxis\":{\"anchor\":\"y\",\"domain\":[0.0,1.0],\"title\":{\"text\":\"Month\"}},\"yaxis\":{\"anchor\":\"x\",\"domain\":[0.0,1.0],\"title\":{\"text\":\"Sales\"}},\"legend\":{\"tracegroupgap\":0},\"title\":{\"text\":\"Sales by Country\"},\"barmode\":\"relative\"},                        {\"responsive\": true}                    ).then(function(){\n",
       "                            \n",
       "var gd = document.getElementById('8f2a2ac6-be47-47e4-b672-c93306e18981');\n",
       "var x = new MutationObserver(function (mutations, observer) {{\n",
       "        var display = window.getComputedStyle(gd).display;\n",
       "        if (!display || display === 'none') {{\n",
       "            console.log([gd, 'removed!']);\n",
       "            Plotly.purge(gd);\n",
       "            observer.disconnect();\n",
       "        }}\n",
       "}});\n",
       "\n",
       "// Listen for the removal of the full notebook cells\n",
       "var notebookContainer = gd.closest('#notebook-container');\n",
       "if (notebookContainer) {{\n",
       "    x.observe(notebookContainer, {childList: true});\n",
       "}}\n",
       "\n",
       "// Listen for the clearing of the current output cell\n",
       "var outputEl = gd.closest('.output');\n",
       "if (outputEl) {{\n",
       "    x.observe(outputEl, {childList: true});\n",
       "}}\n",
       "\n",
       "                        })                };                });            </script>        </div>"
      ]
     },
     "metadata": {},
     "output_type": "display_data"
    }
   ],
   "source": [
    "fig =px.bar(  Salesbycountry , x = \"Month\" , y = \"Sales\", title = \"Sales by Country\" , text = \"Sales\" , color_continuous_scale = \"blues\")\n",
    "fig.update_traces( textposition=\"outside\")\n",
    "fig.show()"
   ]
  },
  {
   "cell_type": "code",
   "execution_count": 92,
   "id": "63018fcc",
   "metadata": {},
   "outputs": [
    {
     "data": {
      "application/vnd.plotly.v1+json": {
       "config": {
        "plotlyServerURL": "https://plot.ly"
       },
       "data": [
        {
         "alignmentgroup": "True",
         "hovertemplate": "Countries=%{x}<br>Sales=%{text}<extra></extra>",
         "legendgroup": "",
         "marker": {
          "color": "#636efa",
          "pattern": {
           "shape": ""
          }
         },
         "name": "",
         "offsetgroup": "",
         "orientation": "v",
         "showlegend": false,
         "text": [
          772667000,
          127992500,
          91988000,
          75545600,
          49188000
         ],
         "textposition": "auto",
         "type": "bar",
         "x": [
          "Russia",
          "USA",
          "Canada",
          "Brazil",
          "Australia"
         ],
         "xaxis": "x",
         "y": [
          772667000,
          127992500,
          91988000,
          75545600,
          49188000
         ],
         "yaxis": "y"
        }
       ],
       "layout": {
        "barmode": "relative",
        "legend": {
         "tracegroupgap": 0
        },
        "template": {
         "data": {
          "bar": [
           {
            "error_x": {
             "color": "#2a3f5f"
            },
            "error_y": {
             "color": "#2a3f5f"
            },
            "marker": {
             "line": {
              "color": "#E5ECF6",
              "width": 0.5
             },
             "pattern": {
              "fillmode": "overlay",
              "size": 10,
              "solidity": 0.2
             }
            },
            "type": "bar"
           }
          ],
          "barpolar": [
           {
            "marker": {
             "line": {
              "color": "#E5ECF6",
              "width": 0.5
             },
             "pattern": {
              "fillmode": "overlay",
              "size": 10,
              "solidity": 0.2
             }
            },
            "type": "barpolar"
           }
          ],
          "carpet": [
           {
            "aaxis": {
             "endlinecolor": "#2a3f5f",
             "gridcolor": "white",
             "linecolor": "white",
             "minorgridcolor": "white",
             "startlinecolor": "#2a3f5f"
            },
            "baxis": {
             "endlinecolor": "#2a3f5f",
             "gridcolor": "white",
             "linecolor": "white",
             "minorgridcolor": "white",
             "startlinecolor": "#2a3f5f"
            },
            "type": "carpet"
           }
          ],
          "choropleth": [
           {
            "colorbar": {
             "outlinewidth": 0,
             "ticks": ""
            },
            "type": "choropleth"
           }
          ],
          "contour": [
           {
            "colorbar": {
             "outlinewidth": 0,
             "ticks": ""
            },
            "colorscale": [
             [
              0,
              "#0d0887"
             ],
             [
              0.1111111111111111,
              "#46039f"
             ],
             [
              0.2222222222222222,
              "#7201a8"
             ],
             [
              0.3333333333333333,
              "#9c179e"
             ],
             [
              0.4444444444444444,
              "#bd3786"
             ],
             [
              0.5555555555555556,
              "#d8576b"
             ],
             [
              0.6666666666666666,
              "#ed7953"
             ],
             [
              0.7777777777777778,
              "#fb9f3a"
             ],
             [
              0.8888888888888888,
              "#fdca26"
             ],
             [
              1,
              "#f0f921"
             ]
            ],
            "type": "contour"
           }
          ],
          "contourcarpet": [
           {
            "colorbar": {
             "outlinewidth": 0,
             "ticks": ""
            },
            "type": "contourcarpet"
           }
          ],
          "heatmap": [
           {
            "colorbar": {
             "outlinewidth": 0,
             "ticks": ""
            },
            "colorscale": [
             [
              0,
              "#0d0887"
             ],
             [
              0.1111111111111111,
              "#46039f"
             ],
             [
              0.2222222222222222,
              "#7201a8"
             ],
             [
              0.3333333333333333,
              "#9c179e"
             ],
             [
              0.4444444444444444,
              "#bd3786"
             ],
             [
              0.5555555555555556,
              "#d8576b"
             ],
             [
              0.6666666666666666,
              "#ed7953"
             ],
             [
              0.7777777777777778,
              "#fb9f3a"
             ],
             [
              0.8888888888888888,
              "#fdca26"
             ],
             [
              1,
              "#f0f921"
             ]
            ],
            "type": "heatmap"
           }
          ],
          "heatmapgl": [
           {
            "colorbar": {
             "outlinewidth": 0,
             "ticks": ""
            },
            "colorscale": [
             [
              0,
              "#0d0887"
             ],
             [
              0.1111111111111111,
              "#46039f"
             ],
             [
              0.2222222222222222,
              "#7201a8"
             ],
             [
              0.3333333333333333,
              "#9c179e"
             ],
             [
              0.4444444444444444,
              "#bd3786"
             ],
             [
              0.5555555555555556,
              "#d8576b"
             ],
             [
              0.6666666666666666,
              "#ed7953"
             ],
             [
              0.7777777777777778,
              "#fb9f3a"
             ],
             [
              0.8888888888888888,
              "#fdca26"
             ],
             [
              1,
              "#f0f921"
             ]
            ],
            "type": "heatmapgl"
           }
          ],
          "histogram": [
           {
            "marker": {
             "pattern": {
              "fillmode": "overlay",
              "size": 10,
              "solidity": 0.2
             }
            },
            "type": "histogram"
           }
          ],
          "histogram2d": [
           {
            "colorbar": {
             "outlinewidth": 0,
             "ticks": ""
            },
            "colorscale": [
             [
              0,
              "#0d0887"
             ],
             [
              0.1111111111111111,
              "#46039f"
             ],
             [
              0.2222222222222222,
              "#7201a8"
             ],
             [
              0.3333333333333333,
              "#9c179e"
             ],
             [
              0.4444444444444444,
              "#bd3786"
             ],
             [
              0.5555555555555556,
              "#d8576b"
             ],
             [
              0.6666666666666666,
              "#ed7953"
             ],
             [
              0.7777777777777778,
              "#fb9f3a"
             ],
             [
              0.8888888888888888,
              "#fdca26"
             ],
             [
              1,
              "#f0f921"
             ]
            ],
            "type": "histogram2d"
           }
          ],
          "histogram2dcontour": [
           {
            "colorbar": {
             "outlinewidth": 0,
             "ticks": ""
            },
            "colorscale": [
             [
              0,
              "#0d0887"
             ],
             [
              0.1111111111111111,
              "#46039f"
             ],
             [
              0.2222222222222222,
              "#7201a8"
             ],
             [
              0.3333333333333333,
              "#9c179e"
             ],
             [
              0.4444444444444444,
              "#bd3786"
             ],
             [
              0.5555555555555556,
              "#d8576b"
             ],
             [
              0.6666666666666666,
              "#ed7953"
             ],
             [
              0.7777777777777778,
              "#fb9f3a"
             ],
             [
              0.8888888888888888,
              "#fdca26"
             ],
             [
              1,
              "#f0f921"
             ]
            ],
            "type": "histogram2dcontour"
           }
          ],
          "mesh3d": [
           {
            "colorbar": {
             "outlinewidth": 0,
             "ticks": ""
            },
            "type": "mesh3d"
           }
          ],
          "parcoords": [
           {
            "line": {
             "colorbar": {
              "outlinewidth": 0,
              "ticks": ""
             }
            },
            "type": "parcoords"
           }
          ],
          "pie": [
           {
            "automargin": true,
            "type": "pie"
           }
          ],
          "scatter": [
           {
            "fillpattern": {
             "fillmode": "overlay",
             "size": 10,
             "solidity": 0.2
            },
            "type": "scatter"
           }
          ],
          "scatter3d": [
           {
            "line": {
             "colorbar": {
              "outlinewidth": 0,
              "ticks": ""
             }
            },
            "marker": {
             "colorbar": {
              "outlinewidth": 0,
              "ticks": ""
             }
            },
            "type": "scatter3d"
           }
          ],
          "scattercarpet": [
           {
            "marker": {
             "colorbar": {
              "outlinewidth": 0,
              "ticks": ""
             }
            },
            "type": "scattercarpet"
           }
          ],
          "scattergeo": [
           {
            "marker": {
             "colorbar": {
              "outlinewidth": 0,
              "ticks": ""
             }
            },
            "type": "scattergeo"
           }
          ],
          "scattergl": [
           {
            "marker": {
             "colorbar": {
              "outlinewidth": 0,
              "ticks": ""
             }
            },
            "type": "scattergl"
           }
          ],
          "scattermapbox": [
           {
            "marker": {
             "colorbar": {
              "outlinewidth": 0,
              "ticks": ""
             }
            },
            "type": "scattermapbox"
           }
          ],
          "scatterpolar": [
           {
            "marker": {
             "colorbar": {
              "outlinewidth": 0,
              "ticks": ""
             }
            },
            "type": "scatterpolar"
           }
          ],
          "scatterpolargl": [
           {
            "marker": {
             "colorbar": {
              "outlinewidth": 0,
              "ticks": ""
             }
            },
            "type": "scatterpolargl"
           }
          ],
          "scatterternary": [
           {
            "marker": {
             "colorbar": {
              "outlinewidth": 0,
              "ticks": ""
             }
            },
            "type": "scatterternary"
           }
          ],
          "surface": [
           {
            "colorbar": {
             "outlinewidth": 0,
             "ticks": ""
            },
            "colorscale": [
             [
              0,
              "#0d0887"
             ],
             [
              0.1111111111111111,
              "#46039f"
             ],
             [
              0.2222222222222222,
              "#7201a8"
             ],
             [
              0.3333333333333333,
              "#9c179e"
             ],
             [
              0.4444444444444444,
              "#bd3786"
             ],
             [
              0.5555555555555556,
              "#d8576b"
             ],
             [
              0.6666666666666666,
              "#ed7953"
             ],
             [
              0.7777777777777778,
              "#fb9f3a"
             ],
             [
              0.8888888888888888,
              "#fdca26"
             ],
             [
              1,
              "#f0f921"
             ]
            ],
            "type": "surface"
           }
          ],
          "table": [
           {
            "cells": {
             "fill": {
              "color": "#EBF0F8"
             },
             "line": {
              "color": "white"
             }
            },
            "header": {
             "fill": {
              "color": "#C8D4E3"
             },
             "line": {
              "color": "white"
             }
            },
            "type": "table"
           }
          ]
         },
         "layout": {
          "annotationdefaults": {
           "arrowcolor": "#2a3f5f",
           "arrowhead": 0,
           "arrowwidth": 1
          },
          "autotypenumbers": "strict",
          "coloraxis": {
           "colorbar": {
            "outlinewidth": 0,
            "ticks": ""
           }
          },
          "colorscale": {
           "diverging": [
            [
             0,
             "#8e0152"
            ],
            [
             0.1,
             "#c51b7d"
            ],
            [
             0.2,
             "#de77ae"
            ],
            [
             0.3,
             "#f1b6da"
            ],
            [
             0.4,
             "#fde0ef"
            ],
            [
             0.5,
             "#f7f7f7"
            ],
            [
             0.6,
             "#e6f5d0"
            ],
            [
             0.7,
             "#b8e186"
            ],
            [
             0.8,
             "#7fbc41"
            ],
            [
             0.9,
             "#4d9221"
            ],
            [
             1,
             "#276419"
            ]
           ],
           "sequential": [
            [
             0,
             "#0d0887"
            ],
            [
             0.1111111111111111,
             "#46039f"
            ],
            [
             0.2222222222222222,
             "#7201a8"
            ],
            [
             0.3333333333333333,
             "#9c179e"
            ],
            [
             0.4444444444444444,
             "#bd3786"
            ],
            [
             0.5555555555555556,
             "#d8576b"
            ],
            [
             0.6666666666666666,
             "#ed7953"
            ],
            [
             0.7777777777777778,
             "#fb9f3a"
            ],
            [
             0.8888888888888888,
             "#fdca26"
            ],
            [
             1,
             "#f0f921"
            ]
           ],
           "sequentialminus": [
            [
             0,
             "#0d0887"
            ],
            [
             0.1111111111111111,
             "#46039f"
            ],
            [
             0.2222222222222222,
             "#7201a8"
            ],
            [
             0.3333333333333333,
             "#9c179e"
            ],
            [
             0.4444444444444444,
             "#bd3786"
            ],
            [
             0.5555555555555556,
             "#d8576b"
            ],
            [
             0.6666666666666666,
             "#ed7953"
            ],
            [
             0.7777777777777778,
             "#fb9f3a"
            ],
            [
             0.8888888888888888,
             "#fdca26"
            ],
            [
             1,
             "#f0f921"
            ]
           ]
          },
          "colorway": [
           "#636efa",
           "#EF553B",
           "#00cc96",
           "#ab63fa",
           "#FFA15A",
           "#19d3f3",
           "#FF6692",
           "#B6E880",
           "#FF97FF",
           "#FECB52"
          ],
          "font": {
           "color": "#2a3f5f"
          },
          "geo": {
           "bgcolor": "white",
           "lakecolor": "white",
           "landcolor": "#E5ECF6",
           "showlakes": true,
           "showland": true,
           "subunitcolor": "white"
          },
          "hoverlabel": {
           "align": "left"
          },
          "hovermode": "closest",
          "mapbox": {
           "style": "light"
          },
          "paper_bgcolor": "white",
          "plot_bgcolor": "#E5ECF6",
          "polar": {
           "angularaxis": {
            "gridcolor": "white",
            "linecolor": "white",
            "ticks": ""
           },
           "bgcolor": "#E5ECF6",
           "radialaxis": {
            "gridcolor": "white",
            "linecolor": "white",
            "ticks": ""
           }
          },
          "scene": {
           "xaxis": {
            "backgroundcolor": "#E5ECF6",
            "gridcolor": "white",
            "gridwidth": 2,
            "linecolor": "white",
            "showbackground": true,
            "ticks": "",
            "zerolinecolor": "white"
           },
           "yaxis": {
            "backgroundcolor": "#E5ECF6",
            "gridcolor": "white",
            "gridwidth": 2,
            "linecolor": "white",
            "showbackground": true,
            "ticks": "",
            "zerolinecolor": "white"
           },
           "zaxis": {
            "backgroundcolor": "#E5ECF6",
            "gridcolor": "white",
            "gridwidth": 2,
            "linecolor": "white",
            "showbackground": true,
            "ticks": "",
            "zerolinecolor": "white"
           }
          },
          "shapedefaults": {
           "line": {
            "color": "#2a3f5f"
           }
          },
          "ternary": {
           "aaxis": {
            "gridcolor": "white",
            "linecolor": "white",
            "ticks": ""
           },
           "baxis": {
            "gridcolor": "white",
            "linecolor": "white",
            "ticks": ""
           },
           "bgcolor": "#E5ECF6",
           "caxis": {
            "gridcolor": "white",
            "linecolor": "white",
            "ticks": ""
           }
          },
          "title": {
           "x": 0.05
          },
          "xaxis": {
           "automargin": true,
           "gridcolor": "white",
           "linecolor": "white",
           "ticks": "",
           "title": {
            "standoff": 15
           },
           "zerolinecolor": "white",
           "zerolinewidth": 2
          },
          "yaxis": {
           "automargin": true,
           "gridcolor": "white",
           "linecolor": "white",
           "ticks": "",
           "title": {
            "standoff": 15
           },
           "zerolinecolor": "white",
           "zerolinewidth": 2
          }
         }
        },
        "title": {
         "text": "Sales by Country"
        },
        "xaxis": {
         "anchor": "y",
         "domain": [
          0,
          1
         ],
         "title": {
          "text": "Countries"
         }
        },
        "yaxis": {
         "anchor": "x",
         "domain": [
          0,
          1
         ],
         "title": {
          "text": "Sales"
         }
        }
       }
      },
      "text/html": [
       "<div>                            <div id=\"b06ad2ba-7df7-4b8c-9838-13f8d7ae92d3\" class=\"plotly-graph-div\" style=\"height:525px; width:100%;\"></div>            <script type=\"text/javascript\">                require([\"plotly\"], function(Plotly) {                    window.PLOTLYENV=window.PLOTLYENV || {};                                    if (document.getElementById(\"b06ad2ba-7df7-4b8c-9838-13f8d7ae92d3\")) {                    Plotly.newPlot(                        \"b06ad2ba-7df7-4b8c-9838-13f8d7ae92d3\",                        [{\"alignmentgroup\":\"True\",\"hovertemplate\":\"Countries=%{x}<br>Sales=%{text}<extra></extra>\",\"legendgroup\":\"\",\"marker\":{\"color\":\"#636efa\",\"pattern\":{\"shape\":\"\"}},\"name\":\"\",\"offsetgroup\":\"\",\"orientation\":\"v\",\"showlegend\":false,\"text\":[772667000.0,127992500.0,91988000.0,75545600.0,49188000.0],\"textposition\":\"auto\",\"x\":[\"Russia\",\"USA\",\"Canada\",\"Brazil\",\"Australia\"],\"xaxis\":\"x\",\"y\":[772667000,127992500,91988000,75545600,49188000],\"yaxis\":\"y\",\"type\":\"bar\"}],                        {\"template\":{\"data\":{\"histogram2dcontour\":[{\"type\":\"histogram2dcontour\",\"colorbar\":{\"outlinewidth\":0,\"ticks\":\"\"},\"colorscale\":[[0.0,\"#0d0887\"],[0.1111111111111111,\"#46039f\"],[0.2222222222222222,\"#7201a8\"],[0.3333333333333333,\"#9c179e\"],[0.4444444444444444,\"#bd3786\"],[0.5555555555555556,\"#d8576b\"],[0.6666666666666666,\"#ed7953\"],[0.7777777777777778,\"#fb9f3a\"],[0.8888888888888888,\"#fdca26\"],[1.0,\"#f0f921\"]]}],\"choropleth\":[{\"type\":\"choropleth\",\"colorbar\":{\"outlinewidth\":0,\"ticks\":\"\"}}],\"histogram2d\":[{\"type\":\"histogram2d\",\"colorbar\":{\"outlinewidth\":0,\"ticks\":\"\"},\"colorscale\":[[0.0,\"#0d0887\"],[0.1111111111111111,\"#46039f\"],[0.2222222222222222,\"#7201a8\"],[0.3333333333333333,\"#9c179e\"],[0.4444444444444444,\"#bd3786\"],[0.5555555555555556,\"#d8576b\"],[0.6666666666666666,\"#ed7953\"],[0.7777777777777778,\"#fb9f3a\"],[0.8888888888888888,\"#fdca26\"],[1.0,\"#f0f921\"]]}],\"heatmap\":[{\"type\":\"heatmap\",\"colorbar\":{\"outlinewidth\":0,\"ticks\":\"\"},\"colorscale\":[[0.0,\"#0d0887\"],[0.1111111111111111,\"#46039f\"],[0.2222222222222222,\"#7201a8\"],[0.3333333333333333,\"#9c179e\"],[0.4444444444444444,\"#bd3786\"],[0.5555555555555556,\"#d8576b\"],[0.6666666666666666,\"#ed7953\"],[0.7777777777777778,\"#fb9f3a\"],[0.8888888888888888,\"#fdca26\"],[1.0,\"#f0f921\"]]}],\"heatmapgl\":[{\"type\":\"heatmapgl\",\"colorbar\":{\"outlinewidth\":0,\"ticks\":\"\"},\"colorscale\":[[0.0,\"#0d0887\"],[0.1111111111111111,\"#46039f\"],[0.2222222222222222,\"#7201a8\"],[0.3333333333333333,\"#9c179e\"],[0.4444444444444444,\"#bd3786\"],[0.5555555555555556,\"#d8576b\"],[0.6666666666666666,\"#ed7953\"],[0.7777777777777778,\"#fb9f3a\"],[0.8888888888888888,\"#fdca26\"],[1.0,\"#f0f921\"]]}],\"contourcarpet\":[{\"type\":\"contourcarpet\",\"colorbar\":{\"outlinewidth\":0,\"ticks\":\"\"}}],\"contour\":[{\"type\":\"contour\",\"colorbar\":{\"outlinewidth\":0,\"ticks\":\"\"},\"colorscale\":[[0.0,\"#0d0887\"],[0.1111111111111111,\"#46039f\"],[0.2222222222222222,\"#7201a8\"],[0.3333333333333333,\"#9c179e\"],[0.4444444444444444,\"#bd3786\"],[0.5555555555555556,\"#d8576b\"],[0.6666666666666666,\"#ed7953\"],[0.7777777777777778,\"#fb9f3a\"],[0.8888888888888888,\"#fdca26\"],[1.0,\"#f0f921\"]]}],\"surface\":[{\"type\":\"surface\",\"colorbar\":{\"outlinewidth\":0,\"ticks\":\"\"},\"colorscale\":[[0.0,\"#0d0887\"],[0.1111111111111111,\"#46039f\"],[0.2222222222222222,\"#7201a8\"],[0.3333333333333333,\"#9c179e\"],[0.4444444444444444,\"#bd3786\"],[0.5555555555555556,\"#d8576b\"],[0.6666666666666666,\"#ed7953\"],[0.7777777777777778,\"#fb9f3a\"],[0.8888888888888888,\"#fdca26\"],[1.0,\"#f0f921\"]]}],\"mesh3d\":[{\"type\":\"mesh3d\",\"colorbar\":{\"outlinewidth\":0,\"ticks\":\"\"}}],\"scatter\":[{\"fillpattern\":{\"fillmode\":\"overlay\",\"size\":10,\"solidity\":0.2},\"type\":\"scatter\"}],\"parcoords\":[{\"type\":\"parcoords\",\"line\":{\"colorbar\":{\"outlinewidth\":0,\"ticks\":\"\"}}}],\"scatterpolargl\":[{\"type\":\"scatterpolargl\",\"marker\":{\"colorbar\":{\"outlinewidth\":0,\"ticks\":\"\"}}}],\"bar\":[{\"error_x\":{\"color\":\"#2a3f5f\"},\"error_y\":{\"color\":\"#2a3f5f\"},\"marker\":{\"line\":{\"color\":\"#E5ECF6\",\"width\":0.5},\"pattern\":{\"fillmode\":\"overlay\",\"size\":10,\"solidity\":0.2}},\"type\":\"bar\"}],\"scattergeo\":[{\"type\":\"scattergeo\",\"marker\":{\"colorbar\":{\"outlinewidth\":0,\"ticks\":\"\"}}}],\"scatterpolar\":[{\"type\":\"scatterpolar\",\"marker\":{\"colorbar\":{\"outlinewidth\":0,\"ticks\":\"\"}}}],\"histogram\":[{\"marker\":{\"pattern\":{\"fillmode\":\"overlay\",\"size\":10,\"solidity\":0.2}},\"type\":\"histogram\"}],\"scattergl\":[{\"type\":\"scattergl\",\"marker\":{\"colorbar\":{\"outlinewidth\":0,\"ticks\":\"\"}}}],\"scatter3d\":[{\"type\":\"scatter3d\",\"line\":{\"colorbar\":{\"outlinewidth\":0,\"ticks\":\"\"}},\"marker\":{\"colorbar\":{\"outlinewidth\":0,\"ticks\":\"\"}}}],\"scattermapbox\":[{\"type\":\"scattermapbox\",\"marker\":{\"colorbar\":{\"outlinewidth\":0,\"ticks\":\"\"}}}],\"scatterternary\":[{\"type\":\"scatterternary\",\"marker\":{\"colorbar\":{\"outlinewidth\":0,\"ticks\":\"\"}}}],\"scattercarpet\":[{\"type\":\"scattercarpet\",\"marker\":{\"colorbar\":{\"outlinewidth\":0,\"ticks\":\"\"}}}],\"carpet\":[{\"aaxis\":{\"endlinecolor\":\"#2a3f5f\",\"gridcolor\":\"white\",\"linecolor\":\"white\",\"minorgridcolor\":\"white\",\"startlinecolor\":\"#2a3f5f\"},\"baxis\":{\"endlinecolor\":\"#2a3f5f\",\"gridcolor\":\"white\",\"linecolor\":\"white\",\"minorgridcolor\":\"white\",\"startlinecolor\":\"#2a3f5f\"},\"type\":\"carpet\"}],\"table\":[{\"cells\":{\"fill\":{\"color\":\"#EBF0F8\"},\"line\":{\"color\":\"white\"}},\"header\":{\"fill\":{\"color\":\"#C8D4E3\"},\"line\":{\"color\":\"white\"}},\"type\":\"table\"}],\"barpolar\":[{\"marker\":{\"line\":{\"color\":\"#E5ECF6\",\"width\":0.5},\"pattern\":{\"fillmode\":\"overlay\",\"size\":10,\"solidity\":0.2}},\"type\":\"barpolar\"}],\"pie\":[{\"automargin\":true,\"type\":\"pie\"}]},\"layout\":{\"autotypenumbers\":\"strict\",\"colorway\":[\"#636efa\",\"#EF553B\",\"#00cc96\",\"#ab63fa\",\"#FFA15A\",\"#19d3f3\",\"#FF6692\",\"#B6E880\",\"#FF97FF\",\"#FECB52\"],\"font\":{\"color\":\"#2a3f5f\"},\"hovermode\":\"closest\",\"hoverlabel\":{\"align\":\"left\"},\"paper_bgcolor\":\"white\",\"plot_bgcolor\":\"#E5ECF6\",\"polar\":{\"bgcolor\":\"#E5ECF6\",\"angularaxis\":{\"gridcolor\":\"white\",\"linecolor\":\"white\",\"ticks\":\"\"},\"radialaxis\":{\"gridcolor\":\"white\",\"linecolor\":\"white\",\"ticks\":\"\"}},\"ternary\":{\"bgcolor\":\"#E5ECF6\",\"aaxis\":{\"gridcolor\":\"white\",\"linecolor\":\"white\",\"ticks\":\"\"},\"baxis\":{\"gridcolor\":\"white\",\"linecolor\":\"white\",\"ticks\":\"\"},\"caxis\":{\"gridcolor\":\"white\",\"linecolor\":\"white\",\"ticks\":\"\"}},\"coloraxis\":{\"colorbar\":{\"outlinewidth\":0,\"ticks\":\"\"}},\"colorscale\":{\"sequential\":[[0.0,\"#0d0887\"],[0.1111111111111111,\"#46039f\"],[0.2222222222222222,\"#7201a8\"],[0.3333333333333333,\"#9c179e\"],[0.4444444444444444,\"#bd3786\"],[0.5555555555555556,\"#d8576b\"],[0.6666666666666666,\"#ed7953\"],[0.7777777777777778,\"#fb9f3a\"],[0.8888888888888888,\"#fdca26\"],[1.0,\"#f0f921\"]],\"sequentialminus\":[[0.0,\"#0d0887\"],[0.1111111111111111,\"#46039f\"],[0.2222222222222222,\"#7201a8\"],[0.3333333333333333,\"#9c179e\"],[0.4444444444444444,\"#bd3786\"],[0.5555555555555556,\"#d8576b\"],[0.6666666666666666,\"#ed7953\"],[0.7777777777777778,\"#fb9f3a\"],[0.8888888888888888,\"#fdca26\"],[1.0,\"#f0f921\"]],\"diverging\":[[0,\"#8e0152\"],[0.1,\"#c51b7d\"],[0.2,\"#de77ae\"],[0.3,\"#f1b6da\"],[0.4,\"#fde0ef\"],[0.5,\"#f7f7f7\"],[0.6,\"#e6f5d0\"],[0.7,\"#b8e186\"],[0.8,\"#7fbc41\"],[0.9,\"#4d9221\"],[1,\"#276419\"]]},\"xaxis\":{\"gridcolor\":\"white\",\"linecolor\":\"white\",\"ticks\":\"\",\"title\":{\"standoff\":15},\"zerolinecolor\":\"white\",\"automargin\":true,\"zerolinewidth\":2},\"yaxis\":{\"gridcolor\":\"white\",\"linecolor\":\"white\",\"ticks\":\"\",\"title\":{\"standoff\":15},\"zerolinecolor\":\"white\",\"automargin\":true,\"zerolinewidth\":2},\"scene\":{\"xaxis\":{\"backgroundcolor\":\"#E5ECF6\",\"gridcolor\":\"white\",\"linecolor\":\"white\",\"showbackground\":true,\"ticks\":\"\",\"zerolinecolor\":\"white\",\"gridwidth\":2},\"yaxis\":{\"backgroundcolor\":\"#E5ECF6\",\"gridcolor\":\"white\",\"linecolor\":\"white\",\"showbackground\":true,\"ticks\":\"\",\"zerolinecolor\":\"white\",\"gridwidth\":2},\"zaxis\":{\"backgroundcolor\":\"#E5ECF6\",\"gridcolor\":\"white\",\"linecolor\":\"white\",\"showbackground\":true,\"ticks\":\"\",\"zerolinecolor\":\"white\",\"gridwidth\":2}},\"shapedefaults\":{\"line\":{\"color\":\"#2a3f5f\"}},\"annotationdefaults\":{\"arrowcolor\":\"#2a3f5f\",\"arrowhead\":0,\"arrowwidth\":1},\"geo\":{\"bgcolor\":\"white\",\"landcolor\":\"#E5ECF6\",\"subunitcolor\":\"white\",\"showland\":true,\"showlakes\":true,\"lakecolor\":\"white\"},\"title\":{\"x\":0.05},\"mapbox\":{\"style\":\"light\"}}},\"xaxis\":{\"anchor\":\"y\",\"domain\":[0.0,1.0],\"title\":{\"text\":\"Countries\"}},\"yaxis\":{\"anchor\":\"x\",\"domain\":[0.0,1.0],\"title\":{\"text\":\"Sales\"}},\"legend\":{\"tracegroupgap\":0},\"title\":{\"text\":\"Sales by Country\"},\"barmode\":\"relative\"},                        {\"responsive\": true}                    ).then(function(){\n",
       "                            \n",
       "var gd = document.getElementById('b06ad2ba-7df7-4b8c-9838-13f8d7ae92d3');\n",
       "var x = new MutationObserver(function (mutations, observer) {{\n",
       "        var display = window.getComputedStyle(gd).display;\n",
       "        if (!display || display === 'none') {{\n",
       "            console.log([gd, 'removed!']);\n",
       "            Plotly.purge(gd);\n",
       "            observer.disconnect();\n",
       "        }}\n",
       "}});\n",
       "\n",
       "// Listen for the removal of the full notebook cells\n",
       "var notebookContainer = gd.closest('#notebook-container');\n",
       "if (notebookContainer) {{\n",
       "    x.observe(notebookContainer, {childList: true});\n",
       "}}\n",
       "\n",
       "// Listen for the clearing of the current output cell\n",
       "var outputEl = gd.closest('.output');\n",
       "if (outputEl) {{\n",
       "    x.observe(outputEl, {childList: true});\n",
       "}}\n",
       "\n",
       "                        })                };                });            </script>        </div>"
      ]
     },
     "metadata": {},
     "output_type": "display_data"
    }
   ],
   "source": [
    "# Ploting Sales by Country\n",
    "\n",
    "Sales_country = df.groupby([\"Countries\"] , as_index = False)[\"Sales\"].sum().sort_values( by = \"Sales\" , ascending = False)\n",
    "px.bar( data_frame = Sales_country , x = \"Countries\" , y = \"Sales\" , text = 'Sales' , title = \"Sales by Country\")"
   ]
  },
  {
   "cell_type": "code",
   "execution_count": 97,
   "id": "74ea1dd9",
   "metadata": {},
   "outputs": [
    {
     "data": {
      "text/html": [
       "<div>\n",
       "<style scoped>\n",
       "    .dataframe tbody tr th:only-of-type {\n",
       "        vertical-align: middle;\n",
       "    }\n",
       "\n",
       "    .dataframe tbody tr th {\n",
       "        vertical-align: top;\n",
       "    }\n",
       "\n",
       "    .dataframe thead th {\n",
       "        text-align: right;\n",
       "    }\n",
       "</style>\n",
       "<table border=\"1\" class=\"dataframe\">\n",
       "  <thead>\n",
       "    <tr style=\"text-align: right;\">\n",
       "      <th></th>\n",
       "      <th>Year</th>\n",
       "      <th>Q</th>\n",
       "      <th>Month</th>\n",
       "      <th>Countries</th>\n",
       "      <th>Branch</th>\n",
       "      <th>Category</th>\n",
       "      <th>Sub-Category</th>\n",
       "      <th>Brand</th>\n",
       "      <th>Sales Volume</th>\n",
       "      <th>Cost Per Unit</th>\n",
       "      <th>Total Cogs</th>\n",
       "      <th>Unit Price</th>\n",
       "      <th>Sales</th>\n",
       "    </tr>\n",
       "  </thead>\n",
       "  <tbody>\n",
       "    <tr>\n",
       "      <th>0</th>\n",
       "      <td>2019</td>\n",
       "      <td>Q2</td>\n",
       "      <td>Apr</td>\n",
       "      <td>USA</td>\n",
       "      <td>Class C</td>\n",
       "      <td>Accessories</td>\n",
       "      <td>Fast Charger</td>\n",
       "      <td>Apple</td>\n",
       "      <td>700</td>\n",
       "      <td>450</td>\n",
       "      <td>315000</td>\n",
       "      <td>500</td>\n",
       "      <td>350000</td>\n",
       "    </tr>\n",
       "    <tr>\n",
       "      <th>1</th>\n",
       "      <td>2019</td>\n",
       "      <td>Q2</td>\n",
       "      <td>May</td>\n",
       "      <td>USA</td>\n",
       "      <td>Class C</td>\n",
       "      <td>Accessories</td>\n",
       "      <td>Fast Charger</td>\n",
       "      <td>Apple</td>\n",
       "      <td>900</td>\n",
       "      <td>450</td>\n",
       "      <td>405000</td>\n",
       "      <td>500</td>\n",
       "      <td>450000</td>\n",
       "    </tr>\n",
       "    <tr>\n",
       "      <th>2</th>\n",
       "      <td>2019</td>\n",
       "      <td>Q2</td>\n",
       "      <td>May</td>\n",
       "      <td>Canada</td>\n",
       "      <td>Class C</td>\n",
       "      <td>Accessories</td>\n",
       "      <td>Fast Charger</td>\n",
       "      <td>Apple</td>\n",
       "      <td>700</td>\n",
       "      <td>450</td>\n",
       "      <td>315000</td>\n",
       "      <td>500</td>\n",
       "      <td>350000</td>\n",
       "    </tr>\n",
       "    <tr>\n",
       "      <th>3</th>\n",
       "      <td>2019</td>\n",
       "      <td>Q2</td>\n",
       "      <td>Jun</td>\n",
       "      <td>USA</td>\n",
       "      <td>Class C</td>\n",
       "      <td>Accessories</td>\n",
       "      <td>Fast Charger</td>\n",
       "      <td>Apple</td>\n",
       "      <td>900</td>\n",
       "      <td>450</td>\n",
       "      <td>405000</td>\n",
       "      <td>500</td>\n",
       "      <td>450000</td>\n",
       "    </tr>\n",
       "    <tr>\n",
       "      <th>4</th>\n",
       "      <td>2019</td>\n",
       "      <td>Q2</td>\n",
       "      <td>Jun</td>\n",
       "      <td>Brazil</td>\n",
       "      <td>Class B</td>\n",
       "      <td>Accessories</td>\n",
       "      <td>Fast Charger</td>\n",
       "      <td>Apple</td>\n",
       "      <td>700</td>\n",
       "      <td>450</td>\n",
       "      <td>315000</td>\n",
       "      <td>500</td>\n",
       "      <td>350000</td>\n",
       "    </tr>\n",
       "  </tbody>\n",
       "</table>\n",
       "</div>"
      ],
      "text/plain": [
       "   Year   Q Month Countries   Branch     Category  Sub-Category  Brand  \\\n",
       "0  2019  Q2   Apr       USA  Class C  Accessories  Fast Charger  Apple   \n",
       "1  2019  Q2   May       USA  Class C  Accessories  Fast Charger  Apple   \n",
       "2  2019  Q2   May    Canada  Class C  Accessories  Fast Charger  Apple   \n",
       "3  2019  Q2   Jun       USA  Class C  Accessories  Fast Charger  Apple   \n",
       "4  2019  Q2   Jun    Brazil  Class B  Accessories  Fast Charger  Apple   \n",
       "\n",
       "   Sales Volume  Cost Per Unit  Total Cogs  Unit Price   Sales  \n",
       "0           700            450      315000         500  350000  \n",
       "1           900            450      405000         500  450000  \n",
       "2           700            450      315000         500  350000  \n",
       "3           900            450      405000         500  450000  \n",
       "4           700            450      315000         500  350000  "
      ]
     },
     "execution_count": 97,
     "metadata": {},
     "output_type": "execute_result"
    }
   ],
   "source": [
    "df.head()"
   ]
  },
  {
   "cell_type": "code",
   "execution_count": 130,
   "id": "2c2d77eb",
   "metadata": {},
   "outputs": [
    {
     "name": "stdout",
     "output_type": "stream",
     "text": [
      "\n",
      "=====================KPIs======================\n",
      "\n",
      "Our Total Sales : 1117381100\n",
      "\n",
      "===============================================\n",
      "\n",
      "Our Avg Sales : 3036361.68\n",
      "\n",
      "===============================================\n",
      "\n",
      "Our Total COGS : 1030496070\n",
      "\n",
      "===============================================\n",
      "\n",
      "Our Avg Unit Price : 4273.51\n",
      "\n",
      "===============================================\n",
      "\n",
      "Our Sales Volume : 274842\n",
      "\n",
      "===============================================\n",
      "\n",
      "Number of SKUs : 8\n",
      "\n",
      "===============================================\n",
      "\n",
      "Number of Transations : 368\n",
      "\n",
      "===============================================\n",
      "\n",
      "Our Unique SBUs : 8\n",
      "\n",
      "===============================================\n",
      "\n",
      "Number of Categories : 2\n",
      "\n",
      "===============================================\n",
      "\n",
      "Number of Sub-Category : 8\n",
      "\n",
      "===============================================\n",
      "\n",
      "Number of Branches : 3\n",
      "\n",
      "===============================================\n",
      "\n",
      "Number of Countries : 5\n"
     ]
    }
   ],
   "source": [
    "# Most Significant KPIs Extracted From our Business\n",
    "print(\"\\n=====================KPIs======================\\n\")\n",
    "print(f'Our Total Sales : {np.sum(df[\"Sales\"])}')\n",
    "print(\"\\n===============================================\\n\")\n",
    "print(f'Our Avg Sales : {round(np.mean(df[\"Sales\"]) , 2)}')\n",
    "print(\"\\n===============================================\\n\")\n",
    "print(f'Our Total COGS : {np.sum(df[\"Total Cogs\"])}')\n",
    "print(\"\\n===============================================\\n\")\n",
    "print(f'Our Avg Unit Price : {round(df[\"Unit Price\"].mean() , 2)}')\n",
    "print(\"\\n===============================================\\n\")\n",
    "print(f'Our Sales Volume : {np.sum(df[\"Sales Volume\"])}')\n",
    "print(\"\\n===============================================\\n\")\n",
    "print(f'Number of SKUs : {df[\"Brand\"].nunique()}')\n",
    "print(\"\\n===============================================\\n\")\n",
    "print(f'Number of Transations : {df[\"Year\"].count()}')\n",
    "print(\"\\n===============================================\\n\")\n",
    "print(f'Our Unique SBUs : {len(set(df[\"Brand\"]))}')\n",
    "print(\"\\n===============================================\\n\")\n",
    "print(f'Number of Categories : {len(set(df[\"Category\"]))}')\n",
    "print(\"\\n===============================================\\n\")\n",
    "print(f'Number of Sub-Category : {len(set(df[\"Sub-Category\"]))}')\n",
    "print(\"\\n===============================================\\n\")\n",
    "print(f'Number of Branches : {df[\"Branch\"].nunique()}')\n",
    "print(\"\\n===============================================\\n\")\n",
    "print(f'Number of Countries : {len(set(df[\"Countries\"]))}')"
   ]
  },
  {
   "cell_type": "code",
   "execution_count": null,
   "id": "acf73eef",
   "metadata": {},
   "outputs": [],
   "source": []
  }
 ],
 "metadata": {
  "kernelspec": {
   "display_name": "Python 3 (ipykernel)",
   "language": "python",
   "name": "python3"
  },
  "language_info": {
   "codemirror_mode": {
    "name": "ipython",
    "version": 3
   },
   "file_extension": ".py",
   "mimetype": "text/x-python",
   "name": "python",
   "nbconvert_exporter": "python",
   "pygments_lexer": "ipython3",
   "version": "3.9.13"
  }
 },
 "nbformat": 4,
 "nbformat_minor": 5
}
